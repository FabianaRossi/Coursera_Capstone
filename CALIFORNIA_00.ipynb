{
 "cells": [
  {
   "cell_type": "markdown",
   "metadata": {},
   "source": [
    "# Capstone Project - The Battle of Neighborhoods (Week 1)"
   ]
  },
  {
   "cell_type": "markdown",
   "metadata": {},
   "source": [
    "The objective of this project was to analyze California cities contamination and determine whether the percentaje of parks (relative to all venues in each city) within each cluster had a relation with the air quality data.\n",
    "\n",
    "As mentioned before, this information comes from the United States Environmental Protection Agency (US EPA), Wikipedia and kaggle. \n",
    "\n",
    "After cleaning and preparing the data, cities will be clustered according to their air quality index, and correlation analysis will be performed within each cluster."
   ]
  },
  {
   "cell_type": "markdown",
   "metadata": {},
   "source": [
    "**<span style=\"text-decoration: underline\">Data collection</span>** \n",
    "\n",
    "* part 1= californian cities population density data\n",
    "* part 2= californian cities latitude and longitude data\n",
    "* part 3= air quality data\n",
    "\n",
    "* part 4= final dataframe and preliminar analysis\n",
    "\n",
    "* part 5= California cities venues data"
   ]
  },
  {
   "cell_type": "markdown",
   "metadata": {},
   "source": [
    "## _1A- California cities population data_"
   ]
  },
  {
   "cell_type": "markdown",
   "metadata": {},
   "source": [
    "California cities population data was imported from Wikipedia [100 most populated cities]. The data was collected as a dataframe."
   ]
  },
  {
   "cell_type": "markdown",
   "metadata": {},
   "source": [
    "_Import packages_"
   ]
  },
  {
   "cell_type": "code",
   "execution_count": 65,
   "metadata": {},
   "outputs": [],
   "source": [
    "import requests\n",
    "import pandas as pd\n",
    "from bs4 import BeautifulSoup\n",
    "import matplotlib.pyplot as plt"
   ]
  },
  {
   "cell_type": "markdown",
   "metadata": {},
   "source": [
    "_URL, Request and Response_"
   ]
  },
  {
   "cell_type": "code",
   "execution_count": 66,
   "metadata": {},
   "outputs": [
    {
     "data": {
      "text/plain": [
       "<Response [200]>"
      ]
     },
     "execution_count": 66,
     "metadata": {},
     "output_type": "execute_result"
    }
   ],
   "source": [
    "url = \"https://en.wikipedia.org/wiki/List_of_largest_California_cities_by_population\"\n",
    "r = requests.Session()\n",
    "response= r.get(url, timeout=10)\n",
    "response"
   ]
  },
  {
   "cell_type": "markdown",
   "metadata": {},
   "source": [
    "_Wrangling HTML With BeautifulSoup_"
   ]
  },
  {
   "cell_type": "code",
   "execution_count": 67,
   "metadata": {},
   "outputs": [],
   "source": [
    "soup = BeautifulSoup(response.content, 'html.parser')"
   ]
  },
  {
   "cell_type": "markdown",
   "metadata": {},
   "source": [
    "_Title of HTML Table_"
   ]
  },
  {
   "cell_type": "code",
   "execution_count": 68,
   "metadata": {},
   "outputs": [
    {
     "data": {
      "text/plain": [
       "'List of largest California cities by population - Wikipedia'"
      ]
     },
     "execution_count": 68,
     "metadata": {},
     "output_type": "execute_result"
    }
   ],
   "source": [
    "title=soup.title.string\n",
    "title"
   ]
  },
  {
   "cell_type": "code",
   "execution_count": 69,
   "metadata": {},
   "outputs": [
    {
     "name": "stdout",
     "output_type": "stream",
     "text": [
      "Data description \n",
      "* number of columns: 6\n",
      "* number of rows: 101\n"
     ]
    }
   ],
   "source": [
    "California_table=soup.find('table',{'class':'wikitable sortable'})\n",
    "for row in California_table.findAll(\"tr\"):\n",
    "    cells = row.findAll('td')\n",
    "print('Data description \\n* number of columns:', len(cells)) #number of cols\n",
    "\n",
    "rows = California_table.findAll(\"tr\")\n",
    "print('* number of rows:', len(rows)) #number of rows"
   ]
  },
  {
   "cell_type": "markdown",
   "metadata": {},
   "source": [
    "_Get header_"
   ]
  },
  {
   "cell_type": "code",
   "execution_count": 70,
   "metadata": {},
   "outputs": [
    {
     "name": "stdout",
     "output_type": "stream",
     "text": [
      "['2019\\xa0Rank[1]', 'City', 'Population(2019\\xa0est.)[1]', 'County', 'Image', 'Description']\n"
     ]
    }
   ],
   "source": [
    "header = [th.text.rstrip() for th in rows[0].find_all('th')]\n",
    "print(header)"
   ]
  },
  {
   "cell_type": "markdown",
   "metadata": {},
   "source": [
    "_Get tabular data_"
   ]
  },
  {
   "cell_type": "code",
   "execution_count": 71,
   "metadata": {},
   "outputs": [],
   "source": [
    "first_data_raw=1\n",
    "\n",
    "lst_data_raw=[]\n",
    "for row in rows[first_data_raw:]:\n",
    "    tds = row.select('td')\n",
    "    code = tds[0]\n",
    "    data = [code.text.rstrip()]\n",
    "    data.extend([d.text.rstrip() for d in tds[1:]])\n",
    "    lst_data_raw.append(data)\n"
   ]
  },
  {
   "cell_type": "markdown",
   "metadata": {},
   "source": [
    "_Create dictionary_"
   ]
  },
  {
   "cell_type": "code",
   "execution_count": 72,
   "metadata": {},
   "outputs": [],
   "source": [
    "datax = list(zip(*lst_data_raw))\n",
    "dat = dict(zip(header, datax))"
   ]
  },
  {
   "cell_type": "markdown",
   "metadata": {},
   "source": [
    "_Create data frame and get city+population_"
   ]
  },
  {
   "cell_type": "code",
   "execution_count": 73,
   "metadata": {},
   "outputs": [],
   "source": [
    "df = pd.DataFrame(dat)"
   ]
  },
  {
   "cell_type": "code",
   "execution_count": 74,
   "metadata": {},
   "outputs": [],
   "source": [
    "df0= df[['City','Population(2019\\xa0est.)[1]']]"
   ]
  },
  {
   "cell_type": "markdown",
   "metadata": {},
   "source": [
    "_Rename column \"population\"_"
   ]
  },
  {
   "cell_type": "code",
   "execution_count": 75,
   "metadata": {},
   "outputs": [
    {
     "data": {
      "text/html": [
       "<div>\n",
       "<style scoped>\n",
       "    .dataframe tbody tr th:only-of-type {\n",
       "        vertical-align: middle;\n",
       "    }\n",
       "\n",
       "    .dataframe tbody tr th {\n",
       "        vertical-align: top;\n",
       "    }\n",
       "\n",
       "    .dataframe thead th {\n",
       "        text-align: right;\n",
       "    }\n",
       "</style>\n",
       "<table border=\"1\" class=\"dataframe\">\n",
       "  <thead>\n",
       "    <tr style=\"text-align: right;\">\n",
       "      <th></th>\n",
       "      <th>City</th>\n",
       "      <th>Population</th>\n",
       "    </tr>\n",
       "  </thead>\n",
       "  <tbody>\n",
       "    <tr>\n",
       "      <th>0</th>\n",
       "      <td>Los Angeles</td>\n",
       "      <td>3,979,576</td>\n",
       "    </tr>\n",
       "    <tr>\n",
       "      <th>1</th>\n",
       "      <td>San Diego</td>\n",
       "      <td>1,423,851</td>\n",
       "    </tr>\n",
       "    <tr>\n",
       "      <th>2</th>\n",
       "      <td>San Jose</td>\n",
       "      <td>1,021,795</td>\n",
       "    </tr>\n",
       "    <tr>\n",
       "      <th>3</th>\n",
       "      <td>San Francisco</td>\n",
       "      <td>881,549</td>\n",
       "    </tr>\n",
       "    <tr>\n",
       "      <th>4</th>\n",
       "      <td>Fresno</td>\n",
       "      <td>531,576</td>\n",
       "    </tr>\n",
       "  </tbody>\n",
       "</table>\n",
       "</div>"
      ],
      "text/plain": [
       "            City Population\n",
       "0    Los Angeles  3,979,576\n",
       "1      San Diego  1,423,851\n",
       "2       San Jose  1,021,795\n",
       "3  San Francisco    881,549\n",
       "4         Fresno    531,576"
      ]
     },
     "execution_count": 75,
     "metadata": {},
     "output_type": "execute_result"
    }
   ],
   "source": [
    "df0 = df0.rename(columns={'Population(2019\\xa0est.)[1]': 'Population'})\n",
    "df0.head()\n"
   ]
  },
  {
   "cell_type": "markdown",
   "metadata": {},
   "source": [
    "_Check cleaned data frame shape_"
   ]
  },
  {
   "cell_type": "code",
   "execution_count": 76,
   "metadata": {},
   "outputs": [
    {
     "data": {
      "text/plain": [
       "(100, 2)"
      ]
     },
     "execution_count": 76,
     "metadata": {},
     "output_type": "execute_result"
    }
   ],
   "source": [
    "df0.shape"
   ]
  },
  {
   "cell_type": "markdown",
   "metadata": {},
   "source": [
    "## _1B- California cities total area data (25 largest)_"
   ]
  },
  {
   "cell_type": "markdown",
   "metadata": {},
   "source": [
    "California cities land area data was imported from Wikipedia [25 largest cities] in order to calculate population _density_, since population alone might not represent faithfully cities size and transit (which might be more related to contamination). The data was collected as explained before and obtained as a dataframe."
   ]
  },
  {
   "cell_type": "markdown",
   "metadata": {},
   "source": [
    "_URL, Request and Response_"
   ]
  },
  {
   "cell_type": "code",
   "execution_count": 77,
   "metadata": {},
   "outputs": [
    {
     "data": {
      "text/plain": [
       "<Response [200]>"
      ]
     },
     "execution_count": 77,
     "metadata": {},
     "output_type": "execute_result"
    }
   ],
   "source": [
    "url2 = \"https://en.wikipedia.org/wiki/List_of_largest_California_cities_by_land_area\"\n",
    "r = requests.Session()\n",
    "response= r.get(url2, timeout=10)\n",
    "response"
   ]
  },
  {
   "cell_type": "code",
   "execution_count": 78,
   "metadata": {},
   "outputs": [],
   "source": [
    "soup1 = BeautifulSoup(response.content, 'html.parser')"
   ]
  },
  {
   "cell_type": "markdown",
   "metadata": {},
   "source": [
    "_Table title_"
   ]
  },
  {
   "cell_type": "code",
   "execution_count": 79,
   "metadata": {},
   "outputs": [
    {
     "data": {
      "text/plain": [
       "'List of largest California cities by land area - Wikipedia'"
      ]
     },
     "execution_count": 79,
     "metadata": {},
     "output_type": "execute_result"
    }
   ],
   "source": [
    "title=soup1.title.string\n",
    "title"
   ]
  },
  {
   "cell_type": "markdown",
   "metadata": {},
   "source": [
    "_Build dataframe_"
   ]
  },
  {
   "cell_type": "code",
   "execution_count": 80,
   "metadata": {},
   "outputs": [
    {
     "name": "stdout",
     "output_type": "stream",
     "text": [
      "Data description \n",
      "* number of columns: 7\n",
      "* number of rows: 26\n"
     ]
    }
   ],
   "source": [
    "land=soup1.find('table',{'class':'wikitable sortable'})\n",
    "for row in land.findAll(\"tr\"):\n",
    "    cells = row.findAll('td')\n",
    "print('Data description \\n* number of columns:', len(cells)) #number of cols\n",
    "\n",
    "rows = land.findAll(\"tr\")\n",
    "print('* number of rows:', len(rows)) #number of rows"
   ]
  },
  {
   "cell_type": "code",
   "execution_count": 81,
   "metadata": {},
   "outputs": [
    {
     "name": "stdout",
     "output_type": "stream",
     "text": [
      "header: ['Rank', 'City', 'Land area', 'Water area', 'Total area', 'Population (2010)[1]', 'Population Density']\n"
     ]
    }
   ],
   "source": [
    "headerL = [th.text.rstrip() for th in rows[0].find_all('th')]\n",
    "print('header:', headerL)\n",
    "\n"
   ]
  },
  {
   "cell_type": "markdown",
   "metadata": {},
   "source": [
    "_Create dataframe_"
   ]
  },
  {
   "cell_type": "code",
   "execution_count": 82,
   "metadata": {},
   "outputs": [],
   "source": [
    "data_raw=1\n",
    "\n",
    "st_data_raw=[]\n",
    "for row in rows[data_raw:]:\n",
    "    tds = row.select('td')\n",
    "    code = tds[0]\n",
    "    data = [code.text.rstrip()]\n",
    "    data.extend([d.text.rstrip() for d in tds[1:]])\n",
    "    st_data_raw.append(data)\n"
   ]
  },
  {
   "cell_type": "code",
   "execution_count": 83,
   "metadata": {},
   "outputs": [],
   "source": [
    "dattax = list(zip(*st_data_raw))\n",
    "datt = dict(zip(headerL, dattax))"
   ]
  },
  {
   "cell_type": "code",
   "execution_count": 84,
   "metadata": {},
   "outputs": [],
   "source": [
    "dframe = pd.DataFrame(datt)"
   ]
  },
  {
   "cell_type": "code",
   "execution_count": 85,
   "metadata": {},
   "outputs": [],
   "source": [
    "dframe=dframe[['City','Land area']]"
   ]
  },
  {
   "cell_type": "code",
   "execution_count": 86,
   "metadata": {},
   "outputs": [
    {
     "data": {
      "text/plain": [
       "(25, 2)"
      ]
     },
     "execution_count": 86,
     "metadata": {},
     "output_type": "execute_result"
    }
   ],
   "source": [
    "dframe.shape"
   ]
  },
  {
   "cell_type": "markdown",
   "metadata": {},
   "source": [
    "# _1C- Population density calculation_"
   ]
  },
  {
   "cell_type": "markdown",
   "metadata": {},
   "source": [
    "The dataframes containing population and area data for each city in California were merged as a new dataframe, in order to calculate population density"
   ]
  },
  {
   "cell_type": "code",
   "execution_count": 87,
   "metadata": {},
   "outputs": [],
   "source": [
    "df00=pd.merge(df0,dframe,on='City', how='inner')"
   ]
  },
  {
   "cell_type": "code",
   "execution_count": 88,
   "metadata": {},
   "outputs": [
    {
     "data": {
      "text/plain": [
       "(20, 3)"
      ]
     },
     "execution_count": 88,
     "metadata": {},
     "output_type": "execute_result"
    }
   ],
   "source": [
    "df00.shape"
   ]
  },
  {
   "cell_type": "markdown",
   "metadata": {},
   "source": [
    "_regex was used to clean **Land area** column data (necessary for later calculations), and to transform **Population** data as float type_"
   ]
  },
  {
   "cell_type": "code",
   "execution_count": 89,
   "metadata": {},
   "outputs": [
    {
     "data": {
      "text/html": [
       "<div>\n",
       "<style scoped>\n",
       "    .dataframe tbody tr th:only-of-type {\n",
       "        vertical-align: middle;\n",
       "    }\n",
       "\n",
       "    .dataframe tbody tr th {\n",
       "        vertical-align: top;\n",
       "    }\n",
       "\n",
       "    .dataframe thead th {\n",
       "        text-align: right;\n",
       "    }\n",
       "</style>\n",
       "<table border=\"1\" class=\"dataframe\">\n",
       "  <thead>\n",
       "    <tr style=\"text-align: right;\">\n",
       "      <th></th>\n",
       "      <th>City</th>\n",
       "      <th>Population</th>\n",
       "      <th>Land area</th>\n",
       "    </tr>\n",
       "  </thead>\n",
       "  <tbody>\n",
       "    <tr>\n",
       "      <th>0</th>\n",
       "      <td>Los Angeles</td>\n",
       "      <td>3,979,576</td>\n",
       "      <td>468.7 sq mi (1,214 km2)</td>\n",
       "    </tr>\n",
       "    <tr>\n",
       "      <th>1</th>\n",
       "      <td>San Diego</td>\n",
       "      <td>1,423,851</td>\n",
       "      <td>325.2 sq mi (842 km2)</td>\n",
       "    </tr>\n",
       "    <tr>\n",
       "      <th>2</th>\n",
       "      <td>San Jose</td>\n",
       "      <td>1,021,795</td>\n",
       "      <td>176.5 sq mi (457 km2)</td>\n",
       "    </tr>\n",
       "    <tr>\n",
       "      <th>3</th>\n",
       "      <td>Fresno</td>\n",
       "      <td>531,576</td>\n",
       "      <td>111.9 sq mi (290 km2)</td>\n",
       "    </tr>\n",
       "    <tr>\n",
       "      <th>4</th>\n",
       "      <td>Sacramento</td>\n",
       "      <td>513,624</td>\n",
       "      <td>97.9 sq mi (254 km2)</td>\n",
       "    </tr>\n",
       "  </tbody>\n",
       "</table>\n",
       "</div>"
      ],
      "text/plain": [
       "          City Population                Land area\n",
       "0  Los Angeles  3,979,576  468.7 sq mi (1,214 km2)\n",
       "1    San Diego  1,423,851    325.2 sq mi (842 km2)\n",
       "2     San Jose  1,021,795    176.5 sq mi (457 km2)\n",
       "3       Fresno    531,576    111.9 sq mi (290 km2)\n",
       "4   Sacramento    513,624     97.9 sq mi (254 km2)"
      ]
     },
     "execution_count": 89,
     "metadata": {},
     "output_type": "execute_result"
    }
   ],
   "source": [
    "df00.head()"
   ]
  },
  {
   "cell_type": "code",
   "execution_count": 90,
   "metadata": {},
   "outputs": [],
   "source": [
    "df00[\"Land_area_sq_mi_\"] = df00['Land area'].str.extract(\"(\\d*\\.?\\d+)\", expand=True)"
   ]
  },
  {
   "cell_type": "code",
   "execution_count": 91,
   "metadata": {},
   "outputs": [],
   "source": [
    "df00=df00[['City','Population','Land_area_sq_mi_']]"
   ]
  },
  {
   "cell_type": "code",
   "execution_count": 92,
   "metadata": {},
   "outputs": [
    {
     "data": {
      "text/html": [
       "<div>\n",
       "<style scoped>\n",
       "    .dataframe tbody tr th:only-of-type {\n",
       "        vertical-align: middle;\n",
       "    }\n",
       "\n",
       "    .dataframe tbody tr th {\n",
       "        vertical-align: top;\n",
       "    }\n",
       "\n",
       "    .dataframe thead th {\n",
       "        text-align: right;\n",
       "    }\n",
       "</style>\n",
       "<table border=\"1\" class=\"dataframe\">\n",
       "  <thead>\n",
       "    <tr style=\"text-align: right;\">\n",
       "      <th></th>\n",
       "      <th>City</th>\n",
       "      <th>Population</th>\n",
       "      <th>Land_area_sq_mi_</th>\n",
       "    </tr>\n",
       "  </thead>\n",
       "  <tbody>\n",
       "    <tr>\n",
       "      <th>0</th>\n",
       "      <td>Los Angeles</td>\n",
       "      <td>3,979,576</td>\n",
       "      <td>468.7</td>\n",
       "    </tr>\n",
       "    <tr>\n",
       "      <th>1</th>\n",
       "      <td>San Diego</td>\n",
       "      <td>1,423,851</td>\n",
       "      <td>325.2</td>\n",
       "    </tr>\n",
       "    <tr>\n",
       "      <th>2</th>\n",
       "      <td>San Jose</td>\n",
       "      <td>1,021,795</td>\n",
       "      <td>176.5</td>\n",
       "    </tr>\n",
       "    <tr>\n",
       "      <th>3</th>\n",
       "      <td>Fresno</td>\n",
       "      <td>531,576</td>\n",
       "      <td>111.9</td>\n",
       "    </tr>\n",
       "    <tr>\n",
       "      <th>4</th>\n",
       "      <td>Sacramento</td>\n",
       "      <td>513,624</td>\n",
       "      <td>97.9</td>\n",
       "    </tr>\n",
       "  </tbody>\n",
       "</table>\n",
       "</div>"
      ],
      "text/plain": [
       "          City Population Land_area_sq_mi_\n",
       "0  Los Angeles  3,979,576            468.7\n",
       "1    San Diego  1,423,851            325.2\n",
       "2     San Jose  1,021,795            176.5\n",
       "3       Fresno    531,576            111.9\n",
       "4   Sacramento    513,624             97.9"
      ]
     },
     "execution_count": 92,
     "metadata": {},
     "output_type": "execute_result"
    }
   ],
   "source": [
    "df00.head()"
   ]
  },
  {
   "cell_type": "code",
   "execution_count": 93,
   "metadata": {},
   "outputs": [],
   "source": [
    "import re    \n",
    "\n",
    "df00['Population'] = pd.to_numeric(df00['Population'].apply(lambda x: re.sub(',', '', str(x))))\n"
   ]
  },
  {
   "cell_type": "markdown",
   "metadata": {},
   "source": [
    "_Data was transformed to float type_"
   ]
  },
  {
   "cell_type": "code",
   "execution_count": 94,
   "metadata": {},
   "outputs": [],
   "source": [
    "df00['Population'] = df00.Population.astype(float)\n",
    "df00['Land_area_sq_mi_'] = df00.Land_area_sq_mi_.astype(float)"
   ]
  },
  {
   "cell_type": "markdown",
   "metadata": {},
   "source": [
    "_New column where population density was calculated (total population / land area):_"
   ]
  },
  {
   "cell_type": "code",
   "execution_count": 95,
   "metadata": {},
   "outputs": [],
   "source": [
    "df00[\"Population density\"] = df00['Population']/df00['Land_area_sq_mi_']"
   ]
  },
  {
   "cell_type": "code",
   "execution_count": 96,
   "metadata": {},
   "outputs": [
    {
     "data": {
      "text/html": [
       "<div>\n",
       "<style scoped>\n",
       "    .dataframe tbody tr th:only-of-type {\n",
       "        vertical-align: middle;\n",
       "    }\n",
       "\n",
       "    .dataframe tbody tr th {\n",
       "        vertical-align: top;\n",
       "    }\n",
       "\n",
       "    .dataframe thead th {\n",
       "        text-align: right;\n",
       "    }\n",
       "</style>\n",
       "<table border=\"1\" class=\"dataframe\">\n",
       "  <thead>\n",
       "    <tr style=\"text-align: right;\">\n",
       "      <th></th>\n",
       "      <th>City</th>\n",
       "      <th>Population</th>\n",
       "      <th>Land_area_sq_mi_</th>\n",
       "      <th>Population density</th>\n",
       "    </tr>\n",
       "  </thead>\n",
       "  <tbody>\n",
       "    <tr>\n",
       "      <th>0</th>\n",
       "      <td>Los Angeles</td>\n",
       "      <td>3979576.0</td>\n",
       "      <td>468.7</td>\n",
       "      <td>8490.667805</td>\n",
       "    </tr>\n",
       "    <tr>\n",
       "      <th>1</th>\n",
       "      <td>San Diego</td>\n",
       "      <td>1423851.0</td>\n",
       "      <td>325.2</td>\n",
       "      <td>4378.385609</td>\n",
       "    </tr>\n",
       "    <tr>\n",
       "      <th>2</th>\n",
       "      <td>San Jose</td>\n",
       "      <td>1021795.0</td>\n",
       "      <td>176.5</td>\n",
       "      <td>5789.206799</td>\n",
       "    </tr>\n",
       "    <tr>\n",
       "      <th>3</th>\n",
       "      <td>Fresno</td>\n",
       "      <td>531576.0</td>\n",
       "      <td>111.9</td>\n",
       "      <td>4750.455764</td>\n",
       "    </tr>\n",
       "    <tr>\n",
       "      <th>4</th>\n",
       "      <td>Sacramento</td>\n",
       "      <td>513624.0</td>\n",
       "      <td>97.9</td>\n",
       "      <td>5246.414709</td>\n",
       "    </tr>\n",
       "  </tbody>\n",
       "</table>\n",
       "</div>"
      ],
      "text/plain": [
       "          City  Population  Land_area_sq_mi_  Population density\n",
       "0  Los Angeles   3979576.0             468.7         8490.667805\n",
       "1    San Diego   1423851.0             325.2         4378.385609\n",
       "2     San Jose   1021795.0             176.5         5789.206799\n",
       "3       Fresno    531576.0             111.9         4750.455764\n",
       "4   Sacramento    513624.0              97.9         5246.414709"
      ]
     },
     "execution_count": 96,
     "metadata": {},
     "output_type": "execute_result"
    }
   ],
   "source": [
    "df00.head()"
   ]
  },
  {
   "cell_type": "markdown",
   "metadata": {},
   "source": [
    "_Since not all the data contained in the df00 dataframe was necessary, \"df1\" with the **city** and **population_density** columns was created_"
   ]
  },
  {
   "cell_type": "code",
   "execution_count": 97,
   "metadata": {},
   "outputs": [
    {
     "data": {
      "text/html": [
       "<div>\n",
       "<style scoped>\n",
       "    .dataframe tbody tr th:only-of-type {\n",
       "        vertical-align: middle;\n",
       "    }\n",
       "\n",
       "    .dataframe tbody tr th {\n",
       "        vertical-align: top;\n",
       "    }\n",
       "\n",
       "    .dataframe thead th {\n",
       "        text-align: right;\n",
       "    }\n",
       "</style>\n",
       "<table border=\"1\" class=\"dataframe\">\n",
       "  <thead>\n",
       "    <tr style=\"text-align: right;\">\n",
       "      <th></th>\n",
       "      <th>City</th>\n",
       "      <th>Population density</th>\n",
       "    </tr>\n",
       "  </thead>\n",
       "  <tbody>\n",
       "    <tr>\n",
       "      <th>0</th>\n",
       "      <td>Los Angeles</td>\n",
       "      <td>8490.667805</td>\n",
       "    </tr>\n",
       "    <tr>\n",
       "      <th>1</th>\n",
       "      <td>San Diego</td>\n",
       "      <td>4378.385609</td>\n",
       "    </tr>\n",
       "    <tr>\n",
       "      <th>2</th>\n",
       "      <td>San Jose</td>\n",
       "      <td>5789.206799</td>\n",
       "    </tr>\n",
       "    <tr>\n",
       "      <th>3</th>\n",
       "      <td>Fresno</td>\n",
       "      <td>4750.455764</td>\n",
       "    </tr>\n",
       "    <tr>\n",
       "      <th>4</th>\n",
       "      <td>Sacramento</td>\n",
       "      <td>5246.414709</td>\n",
       "    </tr>\n",
       "  </tbody>\n",
       "</table>\n",
       "</div>"
      ],
      "text/plain": [
       "          City  Population density\n",
       "0  Los Angeles         8490.667805\n",
       "1    San Diego         4378.385609\n",
       "2     San Jose         5789.206799\n",
       "3       Fresno         4750.455764\n",
       "4   Sacramento         5246.414709"
      ]
     },
     "execution_count": 97,
     "metadata": {},
     "output_type": "execute_result"
    }
   ],
   "source": [
    "df1=df00[['City','Population density']]\n",
    "df1.head()"
   ]
  },
  {
   "cell_type": "markdown",
   "metadata": {},
   "source": [
    "## _2- Latitude and Longitude data_"
   ]
  },
  {
   "cell_type": "markdown",
   "metadata": {},
   "source": [
    "In order to draw each city in a California map and to get cities venues, latitude and longitude data was dowloaded from the url mentioned next. Then, data was cleaned and merged to the Population density dataframe (\"df1\") in a new dataframe called \"new_df\"."
   ]
  },
  {
   "cell_type": "markdown",
   "metadata": {},
   "source": [
    "_download latitude and longitude data_"
   ]
  },
  {
   "cell_type": "code",
   "execution_count": 98,
   "metadata": {},
   "outputs": [
    {
     "data": {
      "text/html": [
       "<div>\n",
       "<style scoped>\n",
       "    .dataframe tbody tr th:only-of-type {\n",
       "        vertical-align: middle;\n",
       "    }\n",
       "\n",
       "    .dataframe tbody tr th {\n",
       "        vertical-align: top;\n",
       "    }\n",
       "\n",
       "    .dataframe thead th {\n",
       "        text-align: right;\n",
       "    }\n",
       "</style>\n",
       "<table border=\"1\" class=\"dataframe\">\n",
       "  <thead>\n",
       "    <tr style=\"text-align: right;\">\n",
       "      <th></th>\n",
       "      <th>Location</th>\n",
       "      <th>Latitude</th>\n",
       "      <th>Longitude</th>\n",
       "    </tr>\n",
       "  </thead>\n",
       "  <tbody>\n",
       "    <tr>\n",
       "      <th>0</th>\n",
       "      <td>Acalanes Ridge</td>\n",
       "      <td>37.90</td>\n",
       "      <td>-122.08</td>\n",
       "    </tr>\n",
       "    <tr>\n",
       "      <th>1</th>\n",
       "      <td>Acampo</td>\n",
       "      <td>38.17</td>\n",
       "      <td>-121.28</td>\n",
       "    </tr>\n",
       "    <tr>\n",
       "      <th>2</th>\n",
       "      <td>Acton</td>\n",
       "      <td>34.50</td>\n",
       "      <td>-118.19</td>\n",
       "    </tr>\n",
       "    <tr>\n",
       "      <th>3</th>\n",
       "      <td>Adelanto city</td>\n",
       "      <td>34.59</td>\n",
       "      <td>-117.44</td>\n",
       "    </tr>\n",
       "    <tr>\n",
       "      <th>4</th>\n",
       "      <td>Adin</td>\n",
       "      <td>41.20</td>\n",
       "      <td>-120.95</td>\n",
       "    </tr>\n",
       "  </tbody>\n",
       "</table>\n",
       "</div>"
      ],
      "text/plain": [
       "         Location  Latitude  Longitude\n",
       "0  Acalanes Ridge     37.90    -122.08\n",
       "1          Acampo     38.17    -121.28\n",
       "2           Acton     34.50    -118.19\n",
       "3   Adelanto city     34.59    -117.44\n",
       "4            Adin     41.20    -120.95"
      ]
     },
     "execution_count": 98,
     "metadata": {},
     "output_type": "execute_result"
    }
   ],
   "source": [
    "#data was downloaded from https://www.kaggle.com/camnugent/california-housing-feature-engineering?select=cal_cities_lat_long.csv\n",
    "\n",
    "df_gps= pd.read_csv('/Users/FR/Desktop/California_latlong.csv', sep=';') # path\n",
    "df_gps.head()"
   ]
  },
  {
   "cell_type": "markdown",
   "metadata": {},
   "source": [
    "_Remove \"city\" or \"City\" from Cities names_\n",
    "\n",
    "_The **Location** column indicated cities names where the word \"city\" or \"City\" was in some of the rows. Since this lat/long data will be appended to the cities population density dataframe using inner join on \"City\" column, it was absolutly necessary that cities were named the same in both dataframes (the ones to be merged), ir order to avoid losing important data_"
   ]
  },
  {
   "cell_type": "code",
   "execution_count": 99,
   "metadata": {},
   "outputs": [
    {
     "data": {
      "text/html": [
       "<div>\n",
       "<style scoped>\n",
       "    .dataframe tbody tr th:only-of-type {\n",
       "        vertical-align: middle;\n",
       "    }\n",
       "\n",
       "    .dataframe tbody tr th {\n",
       "        vertical-align: top;\n",
       "    }\n",
       "\n",
       "    .dataframe thead th {\n",
       "        text-align: right;\n",
       "    }\n",
       "</style>\n",
       "<table border=\"1\" class=\"dataframe\">\n",
       "  <thead>\n",
       "    <tr style=\"text-align: right;\">\n",
       "      <th></th>\n",
       "      <th>Location</th>\n",
       "      <th>Latitude</th>\n",
       "      <th>Longitude</th>\n",
       "    </tr>\n",
       "  </thead>\n",
       "  <tbody>\n",
       "    <tr>\n",
       "      <th>0</th>\n",
       "      <td>Acalanes Ridge</td>\n",
       "      <td>37.90</td>\n",
       "      <td>-122.08</td>\n",
       "    </tr>\n",
       "    <tr>\n",
       "      <th>1</th>\n",
       "      <td>Acampo</td>\n",
       "      <td>38.17</td>\n",
       "      <td>-121.28</td>\n",
       "    </tr>\n",
       "    <tr>\n",
       "      <th>2</th>\n",
       "      <td>Acton</td>\n",
       "      <td>34.50</td>\n",
       "      <td>-118.19</td>\n",
       "    </tr>\n",
       "    <tr>\n",
       "      <th>3</th>\n",
       "      <td>Adelanto</td>\n",
       "      <td>34.59</td>\n",
       "      <td>-117.44</td>\n",
       "    </tr>\n",
       "    <tr>\n",
       "      <th>4</th>\n",
       "      <td>Adin</td>\n",
       "      <td>41.20</td>\n",
       "      <td>-120.95</td>\n",
       "    </tr>\n",
       "  </tbody>\n",
       "</table>\n",
       "</div>"
      ],
      "text/plain": [
       "         Location  Latitude  Longitude\n",
       "0  Acalanes Ridge     37.90    -122.08\n",
       "1          Acampo     38.17    -121.28\n",
       "2           Acton     34.50    -118.19\n",
       "3        Adelanto     34.59    -117.44\n",
       "4            Adin     41.20    -120.95"
      ]
     },
     "execution_count": 99,
     "metadata": {},
     "output_type": "execute_result"
    }
   ],
   "source": [
    "gps=df_gps.replace(' city','', regex=True).replace(' City','', regex=True)\n",
    "gps.head()"
   ]
  },
  {
   "cell_type": "code",
   "execution_count": 100,
   "metadata": {},
   "outputs": [],
   "source": [
    "dataframe=df1.replace(' city','', regex=True).replace(' City','', regex=True)"
   ]
  },
  {
   "cell_type": "code",
   "execution_count": 101,
   "metadata": {},
   "outputs": [
    {
     "data": {
      "text/html": [
       "<div>\n",
       "<style scoped>\n",
       "    .dataframe tbody tr th:only-of-type {\n",
       "        vertical-align: middle;\n",
       "    }\n",
       "\n",
       "    .dataframe tbody tr th {\n",
       "        vertical-align: top;\n",
       "    }\n",
       "\n",
       "    .dataframe thead th {\n",
       "        text-align: right;\n",
       "    }\n",
       "</style>\n",
       "<table border=\"1\" class=\"dataframe\">\n",
       "  <thead>\n",
       "    <tr style=\"text-align: right;\">\n",
       "      <th></th>\n",
       "      <th>City</th>\n",
       "      <th>Population density</th>\n",
       "    </tr>\n",
       "  </thead>\n",
       "  <tbody>\n",
       "    <tr>\n",
       "      <th>0</th>\n",
       "      <td>Los Angeles</td>\n",
       "      <td>8490.667805</td>\n",
       "    </tr>\n",
       "    <tr>\n",
       "      <th>1</th>\n",
       "      <td>San Diego</td>\n",
       "      <td>4378.385609</td>\n",
       "    </tr>\n",
       "    <tr>\n",
       "      <th>2</th>\n",
       "      <td>San Jose</td>\n",
       "      <td>5789.206799</td>\n",
       "    </tr>\n",
       "    <tr>\n",
       "      <th>3</th>\n",
       "      <td>Fresno</td>\n",
       "      <td>4750.455764</td>\n",
       "    </tr>\n",
       "    <tr>\n",
       "      <th>4</th>\n",
       "      <td>Sacramento</td>\n",
       "      <td>5246.414709</td>\n",
       "    </tr>\n",
       "  </tbody>\n",
       "</table>\n",
       "</div>"
      ],
      "text/plain": [
       "          City  Population density\n",
       "0  Los Angeles         8490.667805\n",
       "1    San Diego         4378.385609\n",
       "2     San Jose         5789.206799\n",
       "3       Fresno         4750.455764\n",
       "4   Sacramento         5246.414709"
      ]
     },
     "execution_count": 101,
     "metadata": {},
     "output_type": "execute_result"
    }
   ],
   "source": [
    "dataframe.head()"
   ]
  },
  {
   "cell_type": "markdown",
   "metadata": {},
   "source": [
    "_Change 'Location' to 'City' in gps dataframe_"
   ]
  },
  {
   "cell_type": "code",
   "execution_count": 102,
   "metadata": {},
   "outputs": [],
   "source": [
    "gps1= gps.rename(columns={'Location': 'City'})"
   ]
  },
  {
   "cell_type": "markdown",
   "metadata": {},
   "source": [
    "### Intermediate DF\n",
    "_Merge dataframes: a new dataframe named \"new_df\" that contains Cities names, population density and lat/long data is created_"
   ]
  },
  {
   "cell_type": "code",
   "execution_count": 103,
   "metadata": {},
   "outputs": [],
   "source": [
    "new_df=pd.merge(gps1,dataframe,on='City', how='inner')"
   ]
  },
  {
   "cell_type": "code",
   "execution_count": 104,
   "metadata": {},
   "outputs": [
    {
     "name": "stdout",
     "output_type": "stream",
     "text": [
      "['Bakersfield', 'Fremont', 'Fresno', 'Hesperia', 'Irvine', 'Lancaster', 'Los Angeles', 'Moreno Valley', 'Oakland', 'Palmdale', 'Redding', 'Riverside', 'Sacramento', 'San Bernardino', 'San Diego', 'San Jose', 'Santa Clarita', 'Stockton', 'Thousand Oaks', 'Victorville']\n"
     ]
    }
   ],
   "source": [
    "#Check cities\n",
    "Cities=[]\n",
    "for row in new_df['City']:\n",
    "    Cities.append(row)\n",
    "print(Cities)"
   ]
  },
  {
   "cell_type": "code",
   "execution_count": 105,
   "metadata": {},
   "outputs": [
    {
     "data": {
      "text/plain": [
       "(20, 4)"
      ]
     },
     "execution_count": 105,
     "metadata": {},
     "output_type": "execute_result"
    }
   ],
   "source": [
    "new_df.shape"
   ]
  },
  {
   "cell_type": "code",
   "execution_count": 106,
   "metadata": {},
   "outputs": [
    {
     "data": {
      "text/html": [
       "<div>\n",
       "<style scoped>\n",
       "    .dataframe tbody tr th:only-of-type {\n",
       "        vertical-align: middle;\n",
       "    }\n",
       "\n",
       "    .dataframe tbody tr th {\n",
       "        vertical-align: top;\n",
       "    }\n",
       "\n",
       "    .dataframe thead th {\n",
       "        text-align: right;\n",
       "    }\n",
       "</style>\n",
       "<table border=\"1\" class=\"dataframe\">\n",
       "  <thead>\n",
       "    <tr style=\"text-align: right;\">\n",
       "      <th></th>\n",
       "      <th>City</th>\n",
       "      <th>Latitude</th>\n",
       "      <th>Longitude</th>\n",
       "      <th>Population density</th>\n",
       "    </tr>\n",
       "  </thead>\n",
       "  <tbody>\n",
       "    <tr>\n",
       "      <th>0</th>\n",
       "      <td>Bakersfield</td>\n",
       "      <td>35.35</td>\n",
       "      <td>-119.03</td>\n",
       "      <td>2565.584719</td>\n",
       "    </tr>\n",
       "    <tr>\n",
       "      <th>1</th>\n",
       "      <td>Fremont</td>\n",
       "      <td>37.52</td>\n",
       "      <td>-122.00</td>\n",
       "      <td>3111.096774</td>\n",
       "    </tr>\n",
       "    <tr>\n",
       "      <th>2</th>\n",
       "      <td>Fresno</td>\n",
       "      <td>36.78</td>\n",
       "      <td>-119.79</td>\n",
       "      <td>4750.455764</td>\n",
       "    </tr>\n",
       "    <tr>\n",
       "      <th>3</th>\n",
       "      <td>Hesperia</td>\n",
       "      <td>34.40</td>\n",
       "      <td>-117.31</td>\n",
       "      <td>1309.849521</td>\n",
       "    </tr>\n",
       "    <tr>\n",
       "      <th>4</th>\n",
       "      <td>Irvine</td>\n",
       "      <td>33.68</td>\n",
       "      <td>-117.77</td>\n",
       "      <td>4347.972769</td>\n",
       "    </tr>\n",
       "  </tbody>\n",
       "</table>\n",
       "</div>"
      ],
      "text/plain": [
       "          City  Latitude  Longitude  Population density\n",
       "0  Bakersfield     35.35    -119.03         2565.584719\n",
       "1      Fremont     37.52    -122.00         3111.096774\n",
       "2       Fresno     36.78    -119.79         4750.455764\n",
       "3     Hesperia     34.40    -117.31         1309.849521\n",
       "4       Irvine     33.68    -117.77         4347.972769"
      ]
     },
     "execution_count": 106,
     "metadata": {},
     "output_type": "execute_result"
    }
   ],
   "source": [
    "new_df.head()"
   ]
  },
  {
   "cell_type": "markdown",
   "metadata": {},
   "source": [
    "## _3- Air Quality Index Data_"
   ]
  },
  {
   "cell_type": "markdown",
   "metadata": {},
   "source": [
    "California Air Quality data (AQI) was downloaded from United States Environmental Protection Agency (US EPA). \n",
    "\n",
    "The data corresponds to the number of days where air quality was considered Good(G), Moderate(M), Unhealthy for sensitive groups(USG), unhealhy(U) or Very unhealthy(VU) according to US EPA standards. \n",
    "__________\n",
    "\n",
    "_**California** Air Quality Index Data_\n",
    "\n",
    "_data cleaning: All the cities in the US EPA database had **', CA'** after the name. As explained before, it is necessary to unify criteria for cities names. Hence, **', CA'** was removed from the AQI dataframe_\n"
   ]
  },
  {
   "cell_type": "code",
   "execution_count": 107,
   "metadata": {},
   "outputs": [
    {
     "data": {
      "text/html": [
       "<div>\n",
       "<style scoped>\n",
       "    .dataframe tbody tr th:only-of-type {\n",
       "        vertical-align: middle;\n",
       "    }\n",
       "\n",
       "    .dataframe tbody tr th {\n",
       "        vertical-align: top;\n",
       "    }\n",
       "\n",
       "    .dataframe thead th {\n",
       "        text-align: right;\n",
       "    }\n",
       "</style>\n",
       "<table border=\"1\" class=\"dataframe\">\n",
       "  <thead>\n",
       "    <tr style=\"text-align: right;\">\n",
       "      <th></th>\n",
       "      <th>CBSA Code</th>\n",
       "      <th>CBSA</th>\n",
       "      <th># Days with AQI</th>\n",
       "      <th>Good</th>\n",
       "      <th>Moderate</th>\n",
       "      <th>Unhealthy for Sensitive Groups</th>\n",
       "      <th>Unhealthy</th>\n",
       "      <th>Very Unhealthy</th>\n",
       "      <th>AQI Maximum</th>\n",
       "      <th>AQI 90th Percentile</th>\n",
       "      <th>AQI Median</th>\n",
       "      <th># Days CO</th>\n",
       "      <th># Days NO2</th>\n",
       "      <th># Days O3</th>\n",
       "      <th># Days SO2</th>\n",
       "      <th># Days PM2.5</th>\n",
       "      <th># Days PM10</th>\n",
       "    </tr>\n",
       "  </thead>\n",
       "  <tbody>\n",
       "    <tr>\n",
       "      <th>0</th>\n",
       "      <td>12540</td>\n",
       "      <td>Bakersfield</td>\n",
       "      <td>365</td>\n",
       "      <td>119</td>\n",
       "      <td>151</td>\n",
       "      <td>87</td>\n",
       "      <td>6</td>\n",
       "      <td>2</td>\n",
       "      <td>548</td>\n",
       "      <td>122</td>\n",
       "      <td>67</td>\n",
       "      <td>.</td>\n",
       "      <td>2</td>\n",
       "      <td>254</td>\n",
       "      <td>.</td>\n",
       "      <td>78</td>\n",
       "      <td>31</td>\n",
       "    </tr>\n",
       "    <tr>\n",
       "      <th>1</th>\n",
       "      <td>13860</td>\n",
       "      <td>Bishop</td>\n",
       "      <td>365</td>\n",
       "      <td>232</td>\n",
       "      <td>121</td>\n",
       "      <td>6</td>\n",
       "      <td>2</td>\n",
       "      <td>4</td>\n",
       "      <td>638</td>\n",
       "      <td>84</td>\n",
       "      <td>47</td>\n",
       "      <td>.</td>\n",
       "      <td>.</td>\n",
       "      <td>318</td>\n",
       "      <td>.</td>\n",
       "      <td>14</td>\n",
       "      <td>33</td>\n",
       "    </tr>\n",
       "    <tr>\n",
       "      <th>2</th>\n",
       "      <td>17020</td>\n",
       "      <td>Chico</td>\n",
       "      <td>365</td>\n",
       "      <td>224</td>\n",
       "      <td>136</td>\n",
       "      <td>3</td>\n",
       "      <td>2</td>\n",
       "      <td>.</td>\n",
       "      <td>173</td>\n",
       "      <td>67</td>\n",
       "      <td>46</td>\n",
       "      <td>.</td>\n",
       "      <td>.</td>\n",
       "      <td>226</td>\n",
       "      <td>.</td>\n",
       "      <td>138</td>\n",
       "      <td>1</td>\n",
       "    </tr>\n",
       "    <tr>\n",
       "      <th>3</th>\n",
       "      <td>17340</td>\n",
       "      <td>Clearlake</td>\n",
       "      <td>360</td>\n",
       "      <td>360</td>\n",
       "      <td>.</td>\n",
       "      <td>.</td>\n",
       "      <td>.</td>\n",
       "      <td>.</td>\n",
       "      <td>50</td>\n",
       "      <td>41</td>\n",
       "      <td>31</td>\n",
       "      <td>.</td>\n",
       "      <td>.</td>\n",
       "      <td>356</td>\n",
       "      <td>.</td>\n",
       "      <td>3</td>\n",
       "      <td>1</td>\n",
       "    </tr>\n",
       "    <tr>\n",
       "      <th>4</th>\n",
       "      <td>18860</td>\n",
       "      <td>Crescent City</td>\n",
       "      <td>248</td>\n",
       "      <td>236</td>\n",
       "      <td>12</td>\n",
       "      <td>.</td>\n",
       "      <td>.</td>\n",
       "      <td>.</td>\n",
       "      <td>71</td>\n",
       "      <td>43</td>\n",
       "      <td>20</td>\n",
       "      <td>.</td>\n",
       "      <td>.</td>\n",
       "      <td>.</td>\n",
       "      <td>.</td>\n",
       "      <td>248</td>\n",
       "      <td>.</td>\n",
       "    </tr>\n",
       "  </tbody>\n",
       "</table>\n",
       "</div>"
      ],
      "text/plain": [
       "   CBSA Code           CBSA  # Days with AQI  Good Moderate  \\\n",
       "0      12540    Bakersfield              365   119      151   \n",
       "1      13860         Bishop              365   232      121   \n",
       "2      17020          Chico              365   224      136   \n",
       "3      17340      Clearlake              360   360        .   \n",
       "4      18860  Crescent City              248   236       12   \n",
       "\n",
       "  Unhealthy for Sensitive Groups Unhealthy Very Unhealthy  AQI Maximum  \\\n",
       "0                             87         6              2          548   \n",
       "1                              6         2              4          638   \n",
       "2                              3         2              .          173   \n",
       "3                              .         .              .           50   \n",
       "4                              .         .              .           71   \n",
       "\n",
       "   AQI 90th Percentile  AQI Median # Days CO # Days NO2 # Days O3 # Days SO2  \\\n",
       "0                  122          67         .          2       254          .   \n",
       "1                   84          47         .          .       318          .   \n",
       "2                   67          46         .          .       226          .   \n",
       "3                   41          31         .          .       356          .   \n",
       "4                   43          20         .          .         .          .   \n",
       "\n",
       "  # Days PM2.5 # Days PM10  \n",
       "0           78          31  \n",
       "1           14          33  \n",
       "2          138           1  \n",
       "3            3           1  \n",
       "4          248           .  "
      ]
     },
     "execution_count": 107,
     "metadata": {},
     "output_type": "execute_result"
    }
   ],
   "source": [
    "#https://www.epa.gov/outdoor-air-quality-data/air-quality-index-report\n",
    "\n",
    "dfAQ= pd.read_csv('/Users/FR/Desktop/aqireport2019.csv', sep=',') #path\n",
    "dfAQ1=dfAQ.replace(', CA','', regex=True)\n",
    "dfAQ1.head()"
   ]
  },
  {
   "cell_type": "markdown",
   "metadata": {},
   "source": [
    "_Air Quality dataframe contained more data than necessary for this analysis, so \".iloc\" was used to get data from columns 1 to 7_"
   ]
  },
  {
   "cell_type": "code",
   "execution_count": 108,
   "metadata": {},
   "outputs": [],
   "source": [
    "dfAQ2 = dfAQ1.iloc[:, 1:8].copy()"
   ]
  },
  {
   "cell_type": "markdown",
   "metadata": {},
   "source": [
    "_Change columns names (just because it's simplier to work with smaller names)_"
   ]
  },
  {
   "cell_type": "code",
   "execution_count": 109,
   "metadata": {},
   "outputs": [],
   "source": [
    "dfAQ2 = dfAQ2.rename(columns={'Good': 'G'})\n",
    "dfAQ2 = dfAQ2.rename(columns={'Moderate': 'M'})\n",
    "dfAQ2 = dfAQ2.rename(columns={'Unhealthy for Sensitive Groups': 'USG'})\n",
    "dfAQ2 = dfAQ2.rename(columns={'Unhealthy': 'U'})\n",
    "dfAQ2 = dfAQ2.rename(columns={'Very Unhealthy': 'VU'})\n"
   ]
  },
  {
   "cell_type": "markdown",
   "metadata": {},
   "source": [
    "**_prearing data: transform \"·\" to zeros_**"
   ]
  },
  {
   "cell_type": "code",
   "execution_count": 110,
   "metadata": {},
   "outputs": [],
   "source": [
    "dfAQ2.loc[dfAQ2.G == \".\", 'G'] = int(0)\n",
    "dfAQ2.loc[dfAQ2.M == \".\", 'M'] = int(0)\n",
    "dfAQ2.loc[dfAQ2.USG == \".\", 'USG'] = int(0)\n",
    "dfAQ2.loc[dfAQ2.U == \".\", 'U'] = int(0)\n",
    "dfAQ2.loc[dfAQ2.VU == \".\", 'VU'] = int(0)\n"
   ]
  },
  {
   "cell_type": "markdown",
   "metadata": {},
   "source": [
    "**_prearing data: transform data to int type (needed to perform calculations)_**"
   ]
  },
  {
   "cell_type": "code",
   "execution_count": 111,
   "metadata": {},
   "outputs": [],
   "source": [
    "dfAQ2['G'] = dfAQ2.G.astype(int)\n",
    "dfAQ2['M'] = dfAQ2.M.astype(int)\n",
    "dfAQ2['U'] = dfAQ2.U.astype(int)\n",
    "dfAQ2['VU'] = dfAQ2.VU.astype(int)\n",
    "dfAQ2['USG'] = dfAQ2.USG.astype(int)\n",
    "# dfAQ2.dtypes #to check types"
   ]
  },
  {
   "cell_type": "markdown",
   "metadata": {},
   "source": [
    "**_prearing data: Calculate percentaje of Good (G), Moderate (M), Unhealty (U), Very Unhealthy (VU) and Unhealty to sensitive groups (USG) data (relative to the number of days with available data), for each city in california_**"
   ]
  },
  {
   "cell_type": "code",
   "execution_count": 112,
   "metadata": {},
   "outputs": [],
   "source": [
    "dfAQ2['G%'] = dfAQ2['G']/dfAQ2['# Days with AQI']\n",
    "dfAQ2['M%'] = dfAQ2['M']/dfAQ2['# Days with AQI']\n",
    "dfAQ2['USG%'] = dfAQ2['USG']/dfAQ2['# Days with AQI']\n",
    "dfAQ2['U%'] = dfAQ2['U']/dfAQ2['# Days with AQI']\n",
    "dfAQ2['VU%'] = dfAQ2['VU']/dfAQ2['# Days with AQI']\n",
    "\n",
    "AQI = dfAQ2[['CBSA','G%', 'M%', 'USG%', 'U%', 'VU%']]\n",
    "AQI=AQI.replace('--','-', regex=True)\n"
   ]
  },
  {
   "cell_type": "markdown",
   "metadata": {},
   "source": [
    "## _4- Final data frame_"
   ]
  },
  {
   "cell_type": "markdown",
   "metadata": {},
   "source": [
    "_Merge Air Quality data to cities dataframe that contain population density and Lat/long data (new_df)_"
   ]
  },
  {
   "cell_type": "code",
   "execution_count": 113,
   "metadata": {},
   "outputs": [],
   "source": [
    "# duplicate data for grouped cities (in air quality data)\n",
    "AQI2=AQI.assign(CBSA = AQI['CBSA'].str.split('-')).explode('CBSA').reset_index(drop=True)\n",
    "AQI2 = AQI2.rename(columns={'CBSA': 'City'})"
   ]
  },
  {
   "cell_type": "code",
   "execution_count": 114,
   "metadata": {},
   "outputs": [],
   "source": [
    "final_df=pd.merge(new_df,AQI2,on='City', how='inner')"
   ]
  },
  {
   "cell_type": "code",
   "execution_count": 115,
   "metadata": {},
   "outputs": [
    {
     "data": {
      "text/plain": [
       "(12, 9)"
      ]
     },
     "execution_count": 115,
     "metadata": {},
     "output_type": "execute_result"
    }
   ],
   "source": [
    "final_df.shape"
   ]
  },
  {
   "cell_type": "code",
   "execution_count": 116,
   "metadata": {},
   "outputs": [
    {
     "data": {
      "text/html": [
       "<div>\n",
       "<style scoped>\n",
       "    .dataframe tbody tr th:only-of-type {\n",
       "        vertical-align: middle;\n",
       "    }\n",
       "\n",
       "    .dataframe tbody tr th {\n",
       "        vertical-align: top;\n",
       "    }\n",
       "\n",
       "    .dataframe thead th {\n",
       "        text-align: right;\n",
       "    }\n",
       "</style>\n",
       "<table border=\"1\" class=\"dataframe\">\n",
       "  <thead>\n",
       "    <tr style=\"text-align: right;\">\n",
       "      <th></th>\n",
       "      <th>City</th>\n",
       "      <th>Latitude</th>\n",
       "      <th>Longitude</th>\n",
       "      <th>Population density</th>\n",
       "      <th>G%</th>\n",
       "      <th>M%</th>\n",
       "      <th>USG%</th>\n",
       "      <th>U%</th>\n",
       "      <th>VU%</th>\n",
       "    </tr>\n",
       "  </thead>\n",
       "  <tbody>\n",
       "    <tr>\n",
       "      <th>0</th>\n",
       "      <td>Bakersfield</td>\n",
       "      <td>35.35</td>\n",
       "      <td>-119.03</td>\n",
       "      <td>2565.584719</td>\n",
       "      <td>0.326027</td>\n",
       "      <td>0.413699</td>\n",
       "      <td>0.238356</td>\n",
       "      <td>0.016438</td>\n",
       "      <td>0.005479</td>\n",
       "    </tr>\n",
       "    <tr>\n",
       "      <th>1</th>\n",
       "      <td>Fresno</td>\n",
       "      <td>36.78</td>\n",
       "      <td>-119.79</td>\n",
       "      <td>4750.455764</td>\n",
       "      <td>0.380822</td>\n",
       "      <td>0.438356</td>\n",
       "      <td>0.175342</td>\n",
       "      <td>0.005479</td>\n",
       "      <td>0.000000</td>\n",
       "    </tr>\n",
       "    <tr>\n",
       "      <th>2</th>\n",
       "      <td>Los Angeles</td>\n",
       "      <td>34.11</td>\n",
       "      <td>-118.41</td>\n",
       "      <td>8490.667805</td>\n",
       "      <td>0.180822</td>\n",
       "      <td>0.569863</td>\n",
       "      <td>0.169863</td>\n",
       "      <td>0.076712</td>\n",
       "      <td>0.002740</td>\n",
       "    </tr>\n",
       "    <tr>\n",
       "      <th>3</th>\n",
       "      <td>Oakland</td>\n",
       "      <td>37.77</td>\n",
       "      <td>-122.22</td>\n",
       "      <td>7760.412186</td>\n",
       "      <td>0.695890</td>\n",
       "      <td>0.279452</td>\n",
       "      <td>0.024658</td>\n",
       "      <td>0.000000</td>\n",
       "      <td>0.000000</td>\n",
       "    </tr>\n",
       "    <tr>\n",
       "      <th>4</th>\n",
       "      <td>Redding</td>\n",
       "      <td>40.57</td>\n",
       "      <td>-122.37</td>\n",
       "      <td>1553.523490</td>\n",
       "      <td>0.854396</td>\n",
       "      <td>0.145604</td>\n",
       "      <td>0.000000</td>\n",
       "      <td>0.000000</td>\n",
       "      <td>0.000000</td>\n",
       "    </tr>\n",
       "    <tr>\n",
       "      <th>5</th>\n",
       "      <td>Riverside</td>\n",
       "      <td>33.94</td>\n",
       "      <td>-117.39</td>\n",
       "      <td>4085.819975</td>\n",
       "      <td>0.115068</td>\n",
       "      <td>0.487671</td>\n",
       "      <td>0.216438</td>\n",
       "      <td>0.158904</td>\n",
       "      <td>0.021918</td>\n",
       "    </tr>\n",
       "    <tr>\n",
       "      <th>6</th>\n",
       "      <td>Sacramento</td>\n",
       "      <td>38.57</td>\n",
       "      <td>-121.47</td>\n",
       "      <td>5246.414709</td>\n",
       "      <td>0.471233</td>\n",
       "      <td>0.471233</td>\n",
       "      <td>0.057534</td>\n",
       "      <td>0.000000</td>\n",
       "      <td>0.000000</td>\n",
       "    </tr>\n",
       "    <tr>\n",
       "      <th>7</th>\n",
       "      <td>San Bernardino</td>\n",
       "      <td>34.14</td>\n",
       "      <td>-117.30</td>\n",
       "      <td>3645.000000</td>\n",
       "      <td>0.115068</td>\n",
       "      <td>0.487671</td>\n",
       "      <td>0.216438</td>\n",
       "      <td>0.158904</td>\n",
       "      <td>0.021918</td>\n",
       "    </tr>\n",
       "    <tr>\n",
       "      <th>8</th>\n",
       "      <td>San Diego</td>\n",
       "      <td>32.82</td>\n",
       "      <td>-117.13</td>\n",
       "      <td>4378.385609</td>\n",
       "      <td>0.238356</td>\n",
       "      <td>0.693151</td>\n",
       "      <td>0.063014</td>\n",
       "      <td>0.005479</td>\n",
       "      <td>0.000000</td>\n",
       "    </tr>\n",
       "    <tr>\n",
       "      <th>9</th>\n",
       "      <td>San Jose</td>\n",
       "      <td>37.30</td>\n",
       "      <td>-121.85</td>\n",
       "      <td>5789.206799</td>\n",
       "      <td>0.720548</td>\n",
       "      <td>0.268493</td>\n",
       "      <td>0.010959</td>\n",
       "      <td>0.000000</td>\n",
       "      <td>0.000000</td>\n",
       "    </tr>\n",
       "    <tr>\n",
       "      <th>10</th>\n",
       "      <td>Stockton</td>\n",
       "      <td>37.98</td>\n",
       "      <td>-121.31</td>\n",
       "      <td>5068.022690</td>\n",
       "      <td>0.632877</td>\n",
       "      <td>0.334247</td>\n",
       "      <td>0.030137</td>\n",
       "      <td>0.002740</td>\n",
       "      <td>0.000000</td>\n",
       "    </tr>\n",
       "    <tr>\n",
       "      <th>11</th>\n",
       "      <td>Thousand Oaks</td>\n",
       "      <td>34.19</td>\n",
       "      <td>-118.87</td>\n",
       "      <td>2305.690909</td>\n",
       "      <td>0.586301</td>\n",
       "      <td>0.389041</td>\n",
       "      <td>0.024658</td>\n",
       "      <td>0.000000</td>\n",
       "      <td>0.000000</td>\n",
       "    </tr>\n",
       "  </tbody>\n",
       "</table>\n",
       "</div>"
      ],
      "text/plain": [
       "              City  Latitude  Longitude  Population density        G%  \\\n",
       "0      Bakersfield     35.35    -119.03         2565.584719  0.326027   \n",
       "1           Fresno     36.78    -119.79         4750.455764  0.380822   \n",
       "2      Los Angeles     34.11    -118.41         8490.667805  0.180822   \n",
       "3          Oakland     37.77    -122.22         7760.412186  0.695890   \n",
       "4          Redding     40.57    -122.37         1553.523490  0.854396   \n",
       "5        Riverside     33.94    -117.39         4085.819975  0.115068   \n",
       "6       Sacramento     38.57    -121.47         5246.414709  0.471233   \n",
       "7   San Bernardino     34.14    -117.30         3645.000000  0.115068   \n",
       "8        San Diego     32.82    -117.13         4378.385609  0.238356   \n",
       "9         San Jose     37.30    -121.85         5789.206799  0.720548   \n",
       "10        Stockton     37.98    -121.31         5068.022690  0.632877   \n",
       "11   Thousand Oaks     34.19    -118.87         2305.690909  0.586301   \n",
       "\n",
       "          M%      USG%        U%       VU%  \n",
       "0   0.413699  0.238356  0.016438  0.005479  \n",
       "1   0.438356  0.175342  0.005479  0.000000  \n",
       "2   0.569863  0.169863  0.076712  0.002740  \n",
       "3   0.279452  0.024658  0.000000  0.000000  \n",
       "4   0.145604  0.000000  0.000000  0.000000  \n",
       "5   0.487671  0.216438  0.158904  0.021918  \n",
       "6   0.471233  0.057534  0.000000  0.000000  \n",
       "7   0.487671  0.216438  0.158904  0.021918  \n",
       "8   0.693151  0.063014  0.005479  0.000000  \n",
       "9   0.268493  0.010959  0.000000  0.000000  \n",
       "10  0.334247  0.030137  0.002740  0.000000  \n",
       "11  0.389041  0.024658  0.000000  0.000000  "
      ]
     },
     "execution_count": 116,
     "metadata": {},
     "output_type": "execute_result"
    }
   ],
   "source": [
    "final_df"
   ]
  },
  {
   "cell_type": "markdown",
   "metadata": {},
   "source": [
    "____________\n",
    "Plot relation between population density and each category for air quality (scatter plot)"
   ]
  },
  {
   "cell_type": "code",
   "execution_count": 119,
   "metadata": {},
   "outputs": [],
   "source": [
    "plt_X= final_df['Population density']\n",
    "plt_G= final_df['G%']\n",
    "plt_M= final_df['M%']\n",
    "plt_U= final_df['U%']\n",
    "plt_VU= final_df['VU%']\n",
    "plt_USG= final_df['USG%']\n"
   ]
  },
  {
   "cell_type": "code",
   "execution_count": 120,
   "metadata": {},
   "outputs": [
    {
     "data": {
      "text/plain": [
       "<matplotlib.legend.Legend at 0x7f8821befed0>"
      ]
     },
     "execution_count": 120,
     "metadata": {},
     "output_type": "execute_result"
    },
    {
     "data": {
      "image/png": "[encoded data removed]",
      "text/plain": [
       "<Figure size 432x288 with 1 Axes>"
      ]
     },
     "metadata": {
      "needs_background": "light"
     },
     "output_type": "display_data"
    }
   ],
   "source": [
    "\n",
    "\n",
    "pG=plt.scatter(plt_X,plt_G, color=\"red\", label= 'GOOD')\n",
    "pM=plt.scatter(plt_X, plt_M, color=\"green\", label= 'MODERATE')\n",
    "pU=plt.scatter(plt_X, plt_U, color=\"blue\", label= 'UNHEALTY')\n",
    "pVU=plt.scatter(plt_X, plt_VU, color=\"orange\", label= 'VERY UNHEALTHY')\n",
    "pUSG=plt.scatter(plt_X, plt_USG, color=\"magenta\", label= 'UNHEALTHY for SENSITIVE GROUP')\n",
    "\n",
    "\n",
    "\n",
    "plt.xlabel('Population density (sq mi)')\n",
    "plt.ylabel('% days')\n",
    "plt.title(\"Air Quality \")\n",
    "plt.legend(handles=[pG, pM, pU, pVU, pUSG], title='Air Quality', bbox_to_anchor=(1.05, 1), loc='upper left')"
   ]
  },
  {
   "cell_type": "markdown",
   "metadata": {},
   "source": [
    "#### Unexpectedly, there does not seem to be a correlation between % of good days (or the other categories) and population density. \n",
    "#### % of Moderate days is the only category for which there seems to be a positive relation between air quality and population density, but only between 0 - 4500/sq mi. \n",
    "### Therefore, population density will be excluded from the clustering analysis"
   ]
  },
  {
   "cell_type": "markdown",
   "metadata": {},
   "source": [
    "-----------"
   ]
  },
  {
   "cell_type": "markdown",
   "metadata": {},
   "source": [
    "# _5- California venues_\n"
   ]
  },
  {
   "cell_type": "markdown",
   "metadata": {},
   "source": [
    "_import libraries_"
   ]
  },
  {
   "cell_type": "code",
   "execution_count": 121,
   "metadata": {},
   "outputs": [],
   "source": [
    "import numpy as np\n",
    "import json \n",
    "from geopy.geocoders import Nominatim \n",
    "from pandas.io.json import json_normalize \n",
    "import matplotlib.cm as cm\n",
    "import matplotlib.colors as colors\n",
    "from sklearn.cluster import KMeans\n",
    "import folium "
   ]
  },
  {
   "cell_type": "markdown",
   "metadata": {},
   "source": [
    "_Get the latitude and longitude values of California._"
   ]
  },
  {
   "cell_type": "code",
   "execution_count": 122,
   "metadata": {},
   "outputs": [
    {
     "name": "stdout",
     "output_type": "stream",
     "text": [
      "The geograpical coordinate of California are 36.7014631, -118.755997.\n"
     ]
    }
   ],
   "source": [
    "address = 'California, US'\n",
    "\n",
    "geolocator = Nominatim(user_agent=\"california_explorer\")\n",
    "location = geolocator.geocode(address)\n",
    "latitude = location.latitude\n",
    "longitude = location.longitude\n",
    "print('The geograpical coordinate of California are {}, {}.'.format(latitude, longitude))"
   ]
  },
  {
   "cell_type": "markdown",
   "metadata": {},
   "source": [
    "_Create a map of California with cities superimposed on top **(only cities in the final DF)**_"
   ]
  },
  {
   "cell_type": "code",
   "execution_count": 123,
   "metadata": {},
   "outputs": [
    {
     "data": {
      "text/html": [
       "<div style=\"width:100%;\"><div style=\"position:relative;width:100%;height:0;padding-bottom:60%;\"><span style=\"color:#565656\">Make this Notebook Trusted to load map: File -> Trust Notebook</span><iframe src=\"about:blank\" style=\"position:absolute;width:100%;height:100%;left:0;top:0;border:none !important;\" data-html=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 onload=\"this.contentDocument.open();this.contentDocument.write(atob(this.getAttribute('data-html')));this.contentDocument.close();\" allowfullscreen webkitallowfullscreen mozallowfullscreen></iframe></div></div>"
      ],
      "text/plain": [
       "<folium.folium.Map at 0x7f8824037c10>"
      ]
     },
     "execution_count": 123,
     "metadata": {},
     "output_type": "execute_result"
    }
   ],
   "source": [
    "map_california = folium.Map(location=[latitude, longitude], zoom_start=6)\n",
    "\n",
    "# add markers to map\n",
    "for lat, lng, City in zip(final_df['Latitude'], final_df['Longitude'],final_df['City']):\n",
    "    label = '{}'.format(City)\n",
    "    label = folium.Popup(label, parse_html=True)\n",
    "    folium.CircleMarker(\n",
    "        [lat, lng],\n",
    "        radius=4,\n",
    "        popup=label,\n",
    "        color='blue',\n",
    "        fill=True,\n",
    "        fill_color='red',\n",
    "        fill_opacity=0.5,\n",
    "        parse_html=False).add_to(map_california)  \n",
    "    \n",
    "map_california"
   ]
  },
  {
   "cell_type": "markdown",
   "metadata": {},
   "source": [
    "_Define Foursquare Credentials and Version_"
   ]
  },
  {
   "cell_type": "code",
   "execution_count": 1,
   "metadata": {},
   "outputs": [
    {
     "name": "stdout",
     "output_type": "stream",
     "text": [
      "Your credentails:\n",
      "CLIENT_ID: ----\n",
      "CLIENT_SECRET:----\n"
     ]
    }
   ],
   "source": [
    "CLIENT_ID = '----' # were removed for privacy\n",
    "CLIENT_SECRET = '----' # were removed for privacy\n",
    "VERSION = '20180605' \n",
    "LIMIT = 500\n",
    "\n",
    "print('Your credentails:')\n",
    "print('CLIENT_ID: ' + CLIENT_ID)\n",
    "print('CLIENT_SECRET:' + CLIENT_SECRET)"
   ]
  },
  {
   "cell_type": "markdown",
   "metadata": {},
   "source": [
    "_Function to get nearby venues_"
   ]
  },
  {
   "cell_type": "code",
   "execution_count": 125,
   "metadata": {},
   "outputs": [],
   "source": [
    "def getNearbyVenues(names, latitudes, longitudes, radius=500):\n",
    "    venues_list=[]\n",
    "    \n",
    "    for name, lat, lng in zip(names, latitudes, longitudes):\n",
    "            \n",
    "        # create the API request URL\n",
    "        url = 'https://api.foursquare.com/v2/venues/explore?&client_id={}&client_secret={}&v={}&ll={},{}&radius={}&limit={}'.format(\n",
    "            CLIENT_ID, \n",
    "            CLIENT_SECRET, \n",
    "            VERSION, \n",
    "            lat, \n",
    "            lng, \n",
    "            radius, \n",
    "            LIMIT)\n",
    "            \n",
    "        # make the GET request\n",
    "        results = requests.get(url).json()[\"response\"]['groups'][0]['items']\n",
    "        \n",
    "        # return only relevant information for each nearby venue\n",
    "        venues_list.append([(\n",
    "            name, \n",
    "            lat, \n",
    "            lng, \n",
    "            v['venue']['name'], \n",
    "            v['venue']['location']['lat'], \n",
    "            v['venue']['location']['lng'],  \n",
    "            v['venue']['categories'][0]['name']) for v in results])\n",
    " \n",
    "    nearby_venues = pd.DataFrame([item for venue_list in venues_list for item in venue_list])\n",
    "    nearby_venues.columns = ['City', \n",
    "                  'City Latitude', \n",
    "                  'City Longitude', \n",
    "                  'Venue', \n",
    "                  'Venue Latitude', \n",
    "                  'Venue Longitude', \n",
    "                  'Venue Category']\n",
    "    \n",
    "    return(nearby_venues)"
   ]
  },
  {
   "cell_type": "markdown",
   "metadata": {},
   "source": [
    "_California venues dataframe_"
   ]
  },
  {
   "cell_type": "code",
   "execution_count": 126,
   "metadata": {},
   "outputs": [],
   "source": [
    "California_venues = getNearbyVenues(names=final_df['City'],\n",
    "                                   latitudes=final_df['Latitude'],\n",
    "                                   longitudes=final_df['Longitude'])"
   ]
  },
  {
   "cell_type": "code",
   "execution_count": 127,
   "metadata": {},
   "outputs": [],
   "source": [
    "analyzed_cities=California_venues['City'].unique()"
   ]
  },
  {
   "cell_type": "markdown",
   "metadata": {},
   "source": [
    "_Number of venues in California final_df, grouped by City_"
   ]
  },
  {
   "cell_type": "code",
   "execution_count": 128,
   "metadata": {},
   "outputs": [
    {
     "name": "stdout",
     "output_type": "stream",
     "text": [
      "There are 75 uniques categories.\n"
     ]
    }
   ],
   "source": [
    "California_venues.groupby('City').count()\n",
    "print('There are {} uniques categories.'.format(len(California_venues['Venue Category'].unique())))"
   ]
  },
  {
   "cell_type": "markdown",
   "metadata": {},
   "source": [
    "_New data frame with the different venue categories as columns, and rows=cities **GROUPED BY CITY**_"
   ]
  },
  {
   "cell_type": "code",
   "execution_count": 129,
   "metadata": {},
   "outputs": [],
   "source": [
    "cal_onehot = pd.get_dummies(California_venues[['Venue Category']], prefix=\"\", prefix_sep=\"\")\n",
    "cal_onehot['City'] = California_venues['City'] \n",
    "fixed_columns = [cal_onehot.columns[-1]] + list(cal_onehot.columns[:-1])\n",
    "cal_onehot = cal_onehot[fixed_columns]\n",
    "cal_grouped = cal_onehot.groupby('City').mean().reset_index() ### grouped by city\n"
   ]
  },
  {
   "cell_type": "code",
   "execution_count": 130,
   "metadata": {},
   "outputs": [],
   "source": [
    "def return_most_common_venues(row, num_top_venues):\n",
    "    row_categories = row.iloc[1:]\n",
    "    row_categories_sorted = row_categories.sort_values(ascending=False)\n",
    "    \n",
    "    return row_categories_sorted.index.values[0:num_top_venues]"
   ]
  },
  {
   "cell_type": "markdown",
   "metadata": {},
   "source": [
    "_new dataframe with the top 10 venues for each City (sorted in descending order)_"
   ]
  },
  {
   "cell_type": "code",
   "execution_count": 131,
   "metadata": {},
   "outputs": [
    {
     "data": {
      "text/html": [
       "<div>\n",
       "<style scoped>\n",
       "    .dataframe tbody tr th:only-of-type {\n",
       "        vertical-align: middle;\n",
       "    }\n",
       "\n",
       "    .dataframe tbody tr th {\n",
       "        vertical-align: top;\n",
       "    }\n",
       "\n",
       "    .dataframe thead th {\n",
       "        text-align: right;\n",
       "    }\n",
       "</style>\n",
       "<table border=\"1\" class=\"dataframe\">\n",
       "  <thead>\n",
       "    <tr style=\"text-align: right;\">\n",
       "      <th></th>\n",
       "      <th>City</th>\n",
       "      <th>1st Most Common Venue</th>\n",
       "      <th>2nd Most Common Venue</th>\n",
       "      <th>3rd Most Common Venue</th>\n",
       "      <th>4th Most Common Venue</th>\n",
       "      <th>5th Most Common Venue</th>\n",
       "      <th>6th Most Common Venue</th>\n",
       "      <th>7th Most Common Venue</th>\n",
       "      <th>8th Most Common Venue</th>\n",
       "      <th>9th Most Common Venue</th>\n",
       "      <th>10th Most Common Venue</th>\n",
       "    </tr>\n",
       "  </thead>\n",
       "  <tbody>\n",
       "    <tr>\n",
       "      <th>0</th>\n",
       "      <td>Bakersfield</td>\n",
       "      <td>Hot Dog Joint</td>\n",
       "      <td>Health &amp; Beauty Service</td>\n",
       "      <td>Pizza Place</td>\n",
       "      <td>Mexican Restaurant</td>\n",
       "      <td>Gas Station</td>\n",
       "      <td>Falafel Restaurant</td>\n",
       "      <td>Fast Food Restaurant</td>\n",
       "      <td>Food Truck</td>\n",
       "      <td>Fried Chicken Joint</td>\n",
       "      <td>Furniture / Home Store</td>\n",
       "    </tr>\n",
       "    <tr>\n",
       "      <th>1</th>\n",
       "      <td>Fresno</td>\n",
       "      <td>Mexican Restaurant</td>\n",
       "      <td>Chinese Restaurant</td>\n",
       "      <td>Mobile Phone Shop</td>\n",
       "      <td>Cosmetics Shop</td>\n",
       "      <td>Fried Chicken Joint</td>\n",
       "      <td>Movie Theater</td>\n",
       "      <td>Fast Food Restaurant</td>\n",
       "      <td>Pizza Place</td>\n",
       "      <td>Sandwich Place</td>\n",
       "      <td>Coffee Shop</td>\n",
       "    </tr>\n",
       "    <tr>\n",
       "      <th>2</th>\n",
       "      <td>Los Angeles</td>\n",
       "      <td>Trail</td>\n",
       "      <td>Playground</td>\n",
       "      <td>Yoga Studio</td>\n",
       "      <td>Gas Station</td>\n",
       "      <td>Diner</td>\n",
       "      <td>Falafel Restaurant</td>\n",
       "      <td>Fast Food Restaurant</td>\n",
       "      <td>Food Truck</td>\n",
       "      <td>Fried Chicken Joint</td>\n",
       "      <td>Furniture / Home Store</td>\n",
       "    </tr>\n",
       "    <tr>\n",
       "      <th>3</th>\n",
       "      <td>Oakland</td>\n",
       "      <td>Mexican Restaurant</td>\n",
       "      <td>Café</td>\n",
       "      <td>Grocery Store</td>\n",
       "      <td>Furniture / Home Store</td>\n",
       "      <td>Yoga Studio</td>\n",
       "      <td>Hardware Store</td>\n",
       "      <td>Gymnastics Gym</td>\n",
       "      <td>Gym / Fitness Center</td>\n",
       "      <td>Gas Station</td>\n",
       "      <td>Fast Food Restaurant</td>\n",
       "    </tr>\n",
       "    <tr>\n",
       "      <th>4</th>\n",
       "      <td>Redding</td>\n",
       "      <td>American Restaurant</td>\n",
       "      <td>Pizza Place</td>\n",
       "      <td>Sushi Restaurant</td>\n",
       "      <td>Rental Car Location</td>\n",
       "      <td>Mexican Restaurant</td>\n",
       "      <td>Gas Station</td>\n",
       "      <td>Storage Facility</td>\n",
       "      <td>Sports Bar</td>\n",
       "      <td>Breakfast Spot</td>\n",
       "      <td>Automotive Shop</td>\n",
       "    </tr>\n",
       "    <tr>\n",
       "      <th>5</th>\n",
       "      <td>Riverside</td>\n",
       "      <td>Convenience Store</td>\n",
       "      <td>Video Store</td>\n",
       "      <td>Toy / Game Store</td>\n",
       "      <td>Comic Shop</td>\n",
       "      <td>Massage Studio</td>\n",
       "      <td>Yoga Studio</td>\n",
       "      <td>Gastropub</td>\n",
       "      <td>Fast Food Restaurant</td>\n",
       "      <td>Food Truck</td>\n",
       "      <td>Fried Chicken Joint</td>\n",
       "    </tr>\n",
       "    <tr>\n",
       "      <th>6</th>\n",
       "      <td>Sacramento</td>\n",
       "      <td>Coffee Shop</td>\n",
       "      <td>Italian Restaurant</td>\n",
       "      <td>Park</td>\n",
       "      <td>Burger Joint</td>\n",
       "      <td>Mexican Restaurant</td>\n",
       "      <td>Sushi Restaurant</td>\n",
       "      <td>Gym / Fitness Center</td>\n",
       "      <td>Modern European Restaurant</td>\n",
       "      <td>Mobile Phone Shop</td>\n",
       "      <td>Lounge</td>\n",
       "    </tr>\n",
       "    <tr>\n",
       "      <th>7</th>\n",
       "      <td>San Bernardino</td>\n",
       "      <td>Fast Food Restaurant</td>\n",
       "      <td>Convenience Store</td>\n",
       "      <td>Fried Chicken Joint</td>\n",
       "      <td>Burger Joint</td>\n",
       "      <td>Mexican Restaurant</td>\n",
       "      <td>Yoga Studio</td>\n",
       "      <td>Gift Shop</td>\n",
       "      <td>Food Truck</td>\n",
       "      <td>Furniture / Home Store</td>\n",
       "      <td>Gas Station</td>\n",
       "    </tr>\n",
       "    <tr>\n",
       "      <th>8</th>\n",
       "      <td>San Diego</td>\n",
       "      <td>Gym</td>\n",
       "      <td>Café</td>\n",
       "      <td>Cajun / Creole Restaurant</td>\n",
       "      <td>Clothing Store</td>\n",
       "      <td>Yoga Studio</td>\n",
       "      <td>Gift Shop</td>\n",
       "      <td>Fast Food Restaurant</td>\n",
       "      <td>Food Truck</td>\n",
       "      <td>Fried Chicken Joint</td>\n",
       "      <td>Furniture / Home Store</td>\n",
       "    </tr>\n",
       "    <tr>\n",
       "      <th>9</th>\n",
       "      <td>San Jose</td>\n",
       "      <td>Plaza</td>\n",
       "      <td>Athletics &amp; Sports</td>\n",
       "      <td>Kids Store</td>\n",
       "      <td>Mexican Restaurant</td>\n",
       "      <td>Gastropub</td>\n",
       "      <td>Falafel Restaurant</td>\n",
       "      <td>Fast Food Restaurant</td>\n",
       "      <td>Food Truck</td>\n",
       "      <td>Fried Chicken Joint</td>\n",
       "      <td>Furniture / Home Store</td>\n",
       "    </tr>\n",
       "    <tr>\n",
       "      <th>10</th>\n",
       "      <td>Stockton</td>\n",
       "      <td>Convenience Store</td>\n",
       "      <td>Video Store</td>\n",
       "      <td>Falafel Restaurant</td>\n",
       "      <td>Concert Hall</td>\n",
       "      <td>Thai Restaurant</td>\n",
       "      <td>Pub</td>\n",
       "      <td>Grocery Store</td>\n",
       "      <td>Movie Theater</td>\n",
       "      <td>College Arts Building</td>\n",
       "      <td>Food Truck</td>\n",
       "    </tr>\n",
       "    <tr>\n",
       "      <th>11</th>\n",
       "      <td>Thousand Oaks</td>\n",
       "      <td>Gift Shop</td>\n",
       "      <td>Grocery Store</td>\n",
       "      <td>Gastropub</td>\n",
       "      <td>Falafel Restaurant</td>\n",
       "      <td>Fast Food Restaurant</td>\n",
       "      <td>Food Truck</td>\n",
       "      <td>Fried Chicken Joint</td>\n",
       "      <td>Furniture / Home Store</td>\n",
       "      <td>Gas Station</td>\n",
       "      <td>Yoga Studio</td>\n",
       "    </tr>\n",
       "  </tbody>\n",
       "</table>\n",
       "</div>"
      ],
      "text/plain": [
       "              City 1st Most Common Venue    2nd Most Common Venue  \\\n",
       "0      Bakersfield         Hot Dog Joint  Health & Beauty Service   \n",
       "1           Fresno    Mexican Restaurant       Chinese Restaurant   \n",
       "2      Los Angeles                 Trail               Playground   \n",
       "3          Oakland    Mexican Restaurant                     Café   \n",
       "4          Redding   American Restaurant              Pizza Place   \n",
       "5        Riverside     Convenience Store              Video Store   \n",
       "6       Sacramento           Coffee Shop       Italian Restaurant   \n",
       "7   San Bernardino  Fast Food Restaurant        Convenience Store   \n",
       "8        San Diego                   Gym                     Café   \n",
       "9         San Jose                 Plaza       Athletics & Sports   \n",
       "10        Stockton     Convenience Store              Video Store   \n",
       "11   Thousand Oaks             Gift Shop            Grocery Store   \n",
       "\n",
       "        3rd Most Common Venue   4th Most Common Venue 5th Most Common Venue  \\\n",
       "0                 Pizza Place      Mexican Restaurant           Gas Station   \n",
       "1           Mobile Phone Shop          Cosmetics Shop   Fried Chicken Joint   \n",
       "2                 Yoga Studio             Gas Station                 Diner   \n",
       "3               Grocery Store  Furniture / Home Store           Yoga Studio   \n",
       "4            Sushi Restaurant     Rental Car Location    Mexican Restaurant   \n",
       "5            Toy / Game Store              Comic Shop        Massage Studio   \n",
       "6                        Park            Burger Joint    Mexican Restaurant   \n",
       "7         Fried Chicken Joint            Burger Joint    Mexican Restaurant   \n",
       "8   Cajun / Creole Restaurant          Clothing Store           Yoga Studio   \n",
       "9                  Kids Store      Mexican Restaurant             Gastropub   \n",
       "10         Falafel Restaurant            Concert Hall       Thai Restaurant   \n",
       "11                  Gastropub      Falafel Restaurant  Fast Food Restaurant   \n",
       "\n",
       "   6th Most Common Venue 7th Most Common Venue       8th Most Common Venue  \\\n",
       "0     Falafel Restaurant  Fast Food Restaurant                  Food Truck   \n",
       "1          Movie Theater  Fast Food Restaurant                 Pizza Place   \n",
       "2     Falafel Restaurant  Fast Food Restaurant                  Food Truck   \n",
       "3         Hardware Store        Gymnastics Gym        Gym / Fitness Center   \n",
       "4            Gas Station      Storage Facility                  Sports Bar   \n",
       "5            Yoga Studio             Gastropub        Fast Food Restaurant   \n",
       "6       Sushi Restaurant  Gym / Fitness Center  Modern European Restaurant   \n",
       "7            Yoga Studio             Gift Shop                  Food Truck   \n",
       "8              Gift Shop  Fast Food Restaurant                  Food Truck   \n",
       "9     Falafel Restaurant  Fast Food Restaurant                  Food Truck   \n",
       "10                   Pub         Grocery Store               Movie Theater   \n",
       "11            Food Truck   Fried Chicken Joint      Furniture / Home Store   \n",
       "\n",
       "     9th Most Common Venue  10th Most Common Venue  \n",
       "0      Fried Chicken Joint  Furniture / Home Store  \n",
       "1           Sandwich Place             Coffee Shop  \n",
       "2      Fried Chicken Joint  Furniture / Home Store  \n",
       "3              Gas Station    Fast Food Restaurant  \n",
       "4           Breakfast Spot         Automotive Shop  \n",
       "5               Food Truck     Fried Chicken Joint  \n",
       "6        Mobile Phone Shop                  Lounge  \n",
       "7   Furniture / Home Store             Gas Station  \n",
       "8      Fried Chicken Joint  Furniture / Home Store  \n",
       "9      Fried Chicken Joint  Furniture / Home Store  \n",
       "10   College Arts Building              Food Truck  \n",
       "11             Gas Station             Yoga Studio  "
      ]
     },
     "execution_count": 131,
     "metadata": {},
     "output_type": "execute_result"
    }
   ],
   "source": [
    "num_top_venues = 10\n",
    "\n",
    "indicators = ['st', 'nd', 'rd']\n",
    "\n",
    "# create columns according to number of top venues\n",
    "columns = ['City']\n",
    "for ind in np.arange(num_top_venues):\n",
    "    try:\n",
    "        columns.append('{}{} Most Common Venue'.format(ind+1, indicators[ind]))\n",
    "    except:\n",
    "        columns.append('{}th Most Common Venue'.format(ind+1))\n",
    "\n",
    "# create a new dataframe\n",
    "cities_venues_sorted = pd.DataFrame(columns=columns)\n",
    "cities_venues_sorted['City'] = cal_grouped['City']\n",
    "\n",
    "for ind in np.arange(cal_grouped.shape[0]):\n",
    "    cities_venues_sorted.iloc[ind, 1:] = return_most_common_venues(cal_grouped.iloc[ind, :], num_top_venues)\n",
    "\n",
    "cities_venues_sorted"
   ]
  },
  {
   "cell_type": "markdown",
   "metadata": {},
   "source": [
    "_new dataframe with % parks for each City_"
   ]
  },
  {
   "cell_type": "code",
   "execution_count": 132,
   "metadata": {},
   "outputs": [],
   "source": [
    "parks=cal_grouped[['City','Park', 'State / Provincial Park']]"
   ]
  },
  {
   "cell_type": "markdown",
   "metadata": {},
   "source": [
    "_list of different venues_"
   ]
  },
  {
   "cell_type": "code",
   "execution_count": 133,
   "metadata": {},
   "outputs": [
    {
     "name": "stdout",
     "output_type": "stream",
     "text": [
      "['Hot Dog Joint', 'Pizza Place', 'Mexican Restaurant', 'Health & Beauty Service', 'Coffee Shop', 'Mexican Restaurant', 'Burger Joint', 'Fried Chicken Joint', 'Movie Theater', 'Mexican Restaurant', 'Breakfast Spot', 'Cosmetics Shop', 'Mobile Phone Shop', 'Chinese Restaurant', 'Mobile Phone Shop', 'Shopping Mall', 'Chinese Restaurant', 'Fast Food Restaurant', 'Steakhouse', 'Pizza Place', 'Sandwich Place', 'Mexican Restaurant', 'Hardware Store', 'Mexican Restaurant', 'Playground', 'Trail', 'Mexican Restaurant', 'Vegetarian / Vegan Restaurant', 'Yoga Studio', 'Mexican Restaurant', 'Mexican Restaurant', 'Grocery Store', 'Mexican Restaurant', 'Gym / Fitness Center', 'Thai Restaurant', 'Hardware Store', 'Intersection', 'Furniture / Home Store', 'Gas Station', 'Furniture / Home Store', 'Fast Food Restaurant', 'Gymnastics Gym', 'Café', 'Café', 'Grocery Store', 'Sushi Restaurant', 'American Restaurant', 'Storage Facility', 'Pizza Place', 'Pizza Place', 'Rental Car Location', 'Automotive Shop', 'Gas Station', 'Mexican Restaurant', 'Sports Bar', 'American Restaurant', 'Breakfast Spot', 'Comic Shop', 'Video Store', 'Convenience Store', 'Convenience Store', 'Toy / Game Store', 'Massage Studio', 'American Restaurant', 'Italian Restaurant', 'Cycle Studio', 'Sushi Restaurant', 'Japanese Restaurant', 'Italian Restaurant', 'Coffee Shop', 'Mexican Restaurant', 'Coffee Shop', 'Juice Bar', 'Modern European Restaurant', 'Mexican Restaurant', 'New American Restaurant', 'Sushi Restaurant', 'Coffee Shop', 'Coffee Shop', 'Burger Joint', 'Vietnamese Restaurant', 'Music Venue', 'Salon / Barbershop', 'Moroccan Restaurant', 'Nightclub', 'Bar', 'Diner', 'Bank', 'Gym / Fitness Center', 'Lounge', 'Gastropub', 'Pizza Place', 'Breakfast Spot', 'Mobile Phone Shop', 'Chinese Restaurant', 'State / Provincial Park', 'Fast Food Restaurant', 'Shipping Store', 'Park', 'Pharmacy', 'Burger Joint', 'Fried Chicken Joint', 'Hotel', 'Dance Studio', 'Park', 'Burger Joint', 'Fast Food Restaurant', 'Convenience Store', 'Fried Chicken Joint', 'Mexican Restaurant', 'Cajun / Creole Restaurant', 'Café', 'Gym', 'Clothing Store', 'Mexican Restaurant', 'Plaza', 'Kids Store', 'Athletics & Sports', 'Thai Restaurant', 'Concert Hall', 'Video Store', 'College Arts Building', 'Movie Theater', 'Convenience Store', 'Pub', 'Grocery Store', 'Food Truck', 'Skate Park', 'Falafel Restaurant', 'Grocery Store', 'Gift Shop']\n"
     ]
    }
   ],
   "source": [
    "Venues=[]\n",
    "for row in California_venues['Venue Category']:\n",
    "    Venues.append(row)\n",
    "print(Venues)"
   ]
  },
  {
   "cell_type": "markdown",
   "metadata": {},
   "source": [
    "----------------"
   ]
  }
 ],
 "metadata": {
  "kernelspec": {
   "display_name": "Python 3",
   "language": "python",
   "name": "python3"
  },
  "language_info": {
   "codemirror_mode": {
    "name": "ipython",
    "version": 3
   },
   "file_extension": ".py",
   "mimetype": "text/x-python",
   "name": "python",
   "nbconvert_exporter": "python",
   "pygments_lexer": "ipython3",
   "version": "3.7.4"
  }
 },
 "nbformat": 4,
 "nbformat_minor": 4
}
