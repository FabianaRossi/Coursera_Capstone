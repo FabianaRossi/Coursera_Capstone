{
 "cells": [
  {
   "cell_type": "markdown",
   "metadata": {},
   "source": [
    "# Capstone Project - The Battle of Neighborhoods (Week 1)"
   ]
  },
  {
   "cell_type": "markdown",
   "metadata": {},
   "source": [
    "* **<span style=\"text-decoration: underline\">Abstract</span>**\n",
    "\n",
    "During the last couple of decades, California has been a leader state in air pollution, with high ozone levels. Most of the cities in California state report days of unhealhy air quality [1], and more than ninety percent of Californians live in counties with unhealthy air[2].\n",
    "Though a lot of effort has been put into addressing this problem and some advances have been achieved, air pollution represents an unmet public need which dates back to 1943 [3]. \n",
    "Poor air quality has a direct influence in health, having a myriad of effects influencing the nervous system [4], lungs[5], cardiovascular system[3, 6] (among others), and increases the risk of all-cause mortality [7]. Consequently, more efficient strategies should be developed to mitigate air pollution.\n",
    "\n",
    "The objective of this project was to analyze California cities contamination and determine whether the percentaje of parks and green areas (relative to all venues in each city) had a relation with the air quality data. \n",
    "In order to perform a more complete analysis, cities will be clustered according to air quality index information and the relation between percentaje of parks/green areas and air pollution will be studied within each cluster.\n",
    "\n",
    "Since it has been demonstrated that population density has both benefits and costs for air quality [8], agglomeration will also be considered in the analysis. \n",
    "\n",
    "For this purpose, air quality data will be retrieved from the United States Environmental Protection Agency (US EPA) [1], and California demographic data will be obtained from Wikipedia [9, 10] and kaggle [11]. \n",
    "After cleaning and preparing the data, cities will be clustered according to their air quality index, and correlation analysis will be performed within each cluster.\n",
    "\n",
    "It is expected that the results derived from this study could be of general public interest. If a positive correlation existed between the number of parks and air quality, irrespective of population density in each cluster, then it could be speculated that parks could mitigate air contamination and therefore city planning should consider the development of parks and green areas in the future.\n",
    "\n",
    "\n",
    "________________\n",
    "\n",
    "\n",
    "\n",
    "\n",
    "* **<span style=\"text-decoration: underline\">References</span>**\n",
    "\n",
    "[1] https://www.epa.gov/outdoor-air-quality-data/air-quality-index-report\n",
    "\n",
    "[2] California State University (CSU) Chancellor's Office. (2017, June 19). California named state with the worst air quality (again). ScienceDaily. Retrieved January 4, 2021 from www.sciencedaily.com/releases/2017/06/170619092749.htm\n",
    "\n",
    "[3] https://en.wikipedia.org/wiki/Pollution_in_California\n",
    "\n",
    "[4] Genc S, Zadeoglulari Z, Fuss SH, Genc K. The adverse effects of air pollution on the nervous system. J Toxicol. 2012;2012:782462. doi:10.1155/2012/782462\n",
    "\n",
    "[5] Holgate ST. 'Every breath we take: the lifelong impact of air pollution' - a call for action. Clin Med (Lond). 2017 Feb;17(1):8-12. doi: 10.7861/clinmedicine.17-1-8. PMID: 28148571; PMCID: PMC6297602.\n",
    "\n",
    "[6] https://www.niehs.nih.gov/health/topics/agents/air-pollution/index.cfm\n",
    "\n",
    "[7] Zhao S, Liu S, Hou X, Sun Y, Beazley R. Air pollution and cause-specific mortality: A comparative study of urban and rural areas in China. Chemosphere. 2021 Jan;262:127884. doi: 10.1016/j.chemosphere.2020.127884. Epub 2020 Aug 11. PMID: 33182102.\n",
    "\n",
    "[8] Borck, Rainald; Schrauth, Philipp (2020). Population density and urban air quality. Regional Science and Urban Economics, (), 103596–. doi:10.1016/j.regsciurbeco.2020.103596 \n",
    "\n",
    "[9] https://en.wikipedia.org/wiki/List_of_largest_California_cities_by_population\n",
    "\n",
    "[10] https://en.wikipedia.org/wiki/List_of_largest_California_cities_by_land_area\n",
    "\n",
    "[11] www.kaggle.com/camnugent/california-housing-feature-engineering?select=cal_cities_lat_long.csv\n",
    "\n"
   ]
  },
  {
   "cell_type": "code",
   "execution_count": null,
   "metadata": {},
   "outputs": [],
   "source": []
  }
 ],
 "metadata": {
  "kernelspec": {
   "display_name": "Python 3",
   "language": "python",
   "name": "python3"
  },
  "language_info": {
   "codemirror_mode": {
    "name": "ipython",
    "version": 3
   },
   "file_extension": ".py",
   "mimetype": "text/x-python",
   "name": "python",
   "nbconvert_exporter": "python",
   "pygments_lexer": "ipython3",
   "version": "3.7.4"
  }
 },
 "nbformat": 4,
 "nbformat_minor": 4
}
