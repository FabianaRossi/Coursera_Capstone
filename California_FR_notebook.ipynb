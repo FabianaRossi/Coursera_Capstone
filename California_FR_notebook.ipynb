{
 "cells": [
  {
   "cell_type": "markdown",
   "metadata": {},
   "source": [
    "# Capstone Project - The Battle of Neighborhoods (Week 2)"
   ]
  },
  {
   "cell_type": "markdown",
   "metadata": {},
   "source": [
    "___\n",
    "# AIR CONTAMINATION IN CALIFORNIA\n",
    "___"
   ]
  },
  {
   "cell_type": "markdown",
   "metadata": {},
   "source": [
    "# INTRODUCTION"
   ]
  },
  {
   "cell_type": "markdown",
   "metadata": {},
   "source": [
    "During the last couple of decades, California has been a leader state in air pollution, with high ozone levels. Most of the cities in California state report days of unhealhy air quality [1], and more than ninety percent of Californians live in counties with unhealthy air[2].\n",
    "Though a lot of effort has been put into addressing this problem and some advances have been achieved, air pollution represents an unmet public need which dates back to 1943 [3]. \n",
    "Poor air quality has a direct influence in health, having a myriad of effects influencing the nervous system [4], lungs[5], cardiovascular system[3, 6] (among others), and increases the risk of all-cause mortality [7]. Consequently, more efficient strategies should be developed to mitigate air pollution.\n",
    "\n",
    "The objective of this project was to analyze California cities contamination and determine whether the percentaje of parks and green areas (relative to all venues in each city) had a relation with the air quality data. \n",
    "In order to perform a more complete analysis, cities will be clustered according to air quality index information and the relation between percentaje of parks/green areas and air pollution will be studied within each cluster.\n",
    "\n",
    "Since it has been demonstrated that population density has both benefits and costs for air quality [8], agglomeration will also be considered in the analysis. \n",
    "\n",
    "For this purpose, air quality data will be retrieved from the United States Environmental Protection Agency (US EPA) [1], and California demographic data will be obtained from Wikipedia [9, 10] and kaggle [11]. \n",
    "After cleaning and preparing the data, cities will be clustered according to their air quality index, and correlation analysis will be performed within each cluster.\n",
    "\n",
    "It is expected that the results derived from this study could be of general public interest. If a positive correlation existed between the number of parks and air quality, irrespective of population density in each cluster, then it could be speculated that parks could mitigate air contamination and therefore city planning should consider the development of parks and green areas in the future.\n"
   ]
  },
  {
   "cell_type": "markdown",
   "metadata": {},
   "source": [
    "_________\n",
    "# METHODOLOGY\n",
    "_________\n",
    "The objective of this project was to analyze California cities contamination and determine whether the percentaje of parks (relative to all venues in each city) within each cluster had a relation with the air quality data.\n",
    "\n",
    "As mentioned before, this information comes from the United States Environmental Protection Agency (US EPA), Wikipedia and kaggle. \n",
    "\n",
    "After cleaning and preparing the data, cities will be clustered according to their air quality index, and correlation analysis will be performed within each cluster.\n",
    "\n",
    "**<span style=\"text-decoration: underline\">Data collection</span>** \n",
    "\n",
    "* part 1= californian cities population density data\n",
    "* part 2= californian cities latitude and longitude data\n",
    "* part 3= air quality data\n",
    "\n",
    "* part 4= final dataframe and preliminar analysis\n",
    "\n",
    "* part 5= California cities venues data"
   ]
  },
  {
   "cell_type": "markdown",
   "metadata": {},
   "source": [
    "## _1A- California cities population data_"
   ]
  },
  {
   "cell_type": "markdown",
   "metadata": {},
   "source": [
    "California cities population data was imported from Wikipedia [100 most populated cities]. The data was collected as a dataframe."
   ]
  },
  {
   "cell_type": "markdown",
   "metadata": {},
   "source": [
    "_Import packages_"
   ]
  },
  {
   "cell_type": "code",
   "execution_count": 1,
   "metadata": {},
   "outputs": [],
   "source": [
    "import requests\n",
    "import pandas as pd\n",
    "from bs4 import BeautifulSoup\n",
    "import matplotlib.pyplot as plt"
   ]
  },
  {
   "cell_type": "markdown",
   "metadata": {},
   "source": [
    "_URL, Request and Response_"
   ]
  },
  {
   "cell_type": "code",
   "execution_count": 2,
   "metadata": {},
   "outputs": [
    {
     "data": {
      "text/plain": [
       "<Response [200]>"
      ]
     },
     "execution_count": 2,
     "metadata": {},
     "output_type": "execute_result"
    }
   ],
   "source": [
    "url = \"https://en.wikipedia.org/wiki/List_of_largest_California_cities_by_population\"\n",
    "r = requests.Session()\n",
    "response= r.get(url, timeout=10)\n",
    "response"
   ]
  },
  {
   "cell_type": "markdown",
   "metadata": {},
   "source": [
    "_Wrangling HTML With BeautifulSoup_"
   ]
  },
  {
   "cell_type": "code",
   "execution_count": 3,
   "metadata": {},
   "outputs": [],
   "source": [
    "soup = BeautifulSoup(response.content, 'html.parser')"
   ]
  },
  {
   "cell_type": "markdown",
   "metadata": {},
   "source": [
    "_Title of HTML Table_"
   ]
  },
  {
   "cell_type": "code",
   "execution_count": 4,
   "metadata": {},
   "outputs": [
    {
     "data": {
      "text/plain": [
       "'List of largest California cities by population - Wikipedia'"
      ]
     },
     "execution_count": 4,
     "metadata": {},
     "output_type": "execute_result"
    }
   ],
   "source": [
    "title=soup.title.string\n",
    "title"
   ]
  },
  {
   "cell_type": "code",
   "execution_count": 5,
   "metadata": {},
   "outputs": [
    {
     "name": "stdout",
     "output_type": "stream",
     "text": [
      "Data description \n",
      "* number of columns: 6\n",
      "* number of rows: 101\n"
     ]
    }
   ],
   "source": [
    "California_table=soup.find('table',{'class':'wikitable sortable'})\n",
    "for row in California_table.findAll(\"tr\"):\n",
    "    cells = row.findAll('td')\n",
    "print('Data description \\n* number of columns:', len(cells)) #number of cols\n",
    "\n",
    "rows = California_table.findAll(\"tr\")\n",
    "print('* number of rows:', len(rows)) #number of rows"
   ]
  },
  {
   "cell_type": "markdown",
   "metadata": {},
   "source": [
    "_Get header_"
   ]
  },
  {
   "cell_type": "code",
   "execution_count": 6,
   "metadata": {},
   "outputs": [
    {
     "name": "stdout",
     "output_type": "stream",
     "text": [
      "['2019\\xa0Rank[1]', 'City', 'Population(2019\\xa0est.)[1]', 'County', 'Image', 'Description']\n"
     ]
    }
   ],
   "source": [
    "header = [th.text.rstrip() for th in rows[0].find_all('th')]\n",
    "print(header)"
   ]
  },
  {
   "cell_type": "markdown",
   "metadata": {},
   "source": [
    "_Get tabular data_"
   ]
  },
  {
   "cell_type": "code",
   "execution_count": 7,
   "metadata": {},
   "outputs": [],
   "source": [
    "first_data_raw=1\n",
    "\n",
    "lst_data_raw=[]\n",
    "for row in rows[first_data_raw:]:\n",
    "    tds = row.select('td')\n",
    "    code = tds[0]\n",
    "    data = [code.text.rstrip()]\n",
    "    data.extend([d.text.rstrip() for d in tds[1:]])\n",
    "    lst_data_raw.append(data)\n"
   ]
  },
  {
   "cell_type": "markdown",
   "metadata": {},
   "source": [
    "_Create dictionary_"
   ]
  },
  {
   "cell_type": "code",
   "execution_count": 8,
   "metadata": {},
   "outputs": [],
   "source": [
    "datax = list(zip(*lst_data_raw))\n",
    "dat = dict(zip(header, datax))"
   ]
  },
  {
   "cell_type": "markdown",
   "metadata": {},
   "source": [
    "_Create data frame and get city+population_"
   ]
  },
  {
   "cell_type": "code",
   "execution_count": 9,
   "metadata": {},
   "outputs": [],
   "source": [
    "df = pd.DataFrame(dat)"
   ]
  },
  {
   "cell_type": "code",
   "execution_count": 10,
   "metadata": {},
   "outputs": [],
   "source": [
    "df0= df[['City','Population(2019\\xa0est.)[1]']]"
   ]
  },
  {
   "cell_type": "markdown",
   "metadata": {},
   "source": [
    "_Rename column \"population\"_"
   ]
  },
  {
   "cell_type": "code",
   "execution_count": 11,
   "metadata": {},
   "outputs": [
    {
     "data": {
      "text/html": [
       "<div>\n",
       "<style scoped>\n",
       "    .dataframe tbody tr th:only-of-type {\n",
       "        vertical-align: middle;\n",
       "    }\n",
       "\n",
       "    .dataframe tbody tr th {\n",
       "        vertical-align: top;\n",
       "    }\n",
       "\n",
       "    .dataframe thead th {\n",
       "        text-align: right;\n",
       "    }\n",
       "</style>\n",
       "<table border=\"1\" class=\"dataframe\">\n",
       "  <thead>\n",
       "    <tr style=\"text-align: right;\">\n",
       "      <th></th>\n",
       "      <th>City</th>\n",
       "      <th>Population</th>\n",
       "    </tr>\n",
       "  </thead>\n",
       "  <tbody>\n",
       "    <tr>\n",
       "      <th>0</th>\n",
       "      <td>Los Angeles</td>\n",
       "      <td>3,979,519</td>\n",
       "    </tr>\n",
       "    <tr>\n",
       "      <th>1</th>\n",
       "      <td>San Diego</td>\n",
       "      <td>1,423,851</td>\n",
       "    </tr>\n",
       "    <tr>\n",
       "      <th>2</th>\n",
       "      <td>San Jose</td>\n",
       "      <td>1,021,795</td>\n",
       "    </tr>\n",
       "    <tr>\n",
       "      <th>3</th>\n",
       "      <td>San Francisco</td>\n",
       "      <td>881,549</td>\n",
       "    </tr>\n",
       "    <tr>\n",
       "      <th>4</th>\n",
       "      <td>Fresno</td>\n",
       "      <td>531,576</td>\n",
       "    </tr>\n",
       "  </tbody>\n",
       "</table>\n",
       "</div>"
      ],
      "text/plain": [
       "            City Population\n",
       "0    Los Angeles  3,979,519\n",
       "1      San Diego  1,423,851\n",
       "2       San Jose  1,021,795\n",
       "3  San Francisco    881,549\n",
       "4         Fresno    531,576"
      ]
     },
     "execution_count": 11,
     "metadata": {},
     "output_type": "execute_result"
    }
   ],
   "source": [
    "df0 = df0.rename(columns={'Population(2019\\xa0est.)[1]': 'Population'})\n",
    "df0.head()\n"
   ]
  },
  {
   "cell_type": "markdown",
   "metadata": {},
   "source": [
    "_Check cleaned data frame shape_"
   ]
  },
  {
   "cell_type": "code",
   "execution_count": 12,
   "metadata": {},
   "outputs": [
    {
     "data": {
      "text/plain": [
       "(100, 2)"
      ]
     },
     "execution_count": 12,
     "metadata": {},
     "output_type": "execute_result"
    }
   ],
   "source": [
    "df0.shape"
   ]
  },
  {
   "cell_type": "markdown",
   "metadata": {},
   "source": [
    "## _1B- California cities total area data (25 largest)_"
   ]
  },
  {
   "cell_type": "markdown",
   "metadata": {},
   "source": [
    "California cities land area data was imported from Wikipedia [25 largest cities] in order to calculate population _density_, since population alone might not represent faithfully cities size and transit (which might be more related to contamination). The data was collected as explained before and obtained as a dataframe."
   ]
  },
  {
   "cell_type": "markdown",
   "metadata": {},
   "source": [
    "_URL, Request and Response_"
   ]
  },
  {
   "cell_type": "code",
   "execution_count": 13,
   "metadata": {},
   "outputs": [
    {
     "data": {
      "text/plain": [
       "<Response [200]>"
      ]
     },
     "execution_count": 13,
     "metadata": {},
     "output_type": "execute_result"
    }
   ],
   "source": [
    "url2 = \"https://en.wikipedia.org/wiki/List_of_largest_California_cities_by_land_area\"\n",
    "r = requests.Session()\n",
    "response= r.get(url2, timeout=10)\n",
    "response"
   ]
  },
  {
   "cell_type": "code",
   "execution_count": 14,
   "metadata": {},
   "outputs": [],
   "source": [
    "soup1 = BeautifulSoup(response.content, 'html.parser')"
   ]
  },
  {
   "cell_type": "markdown",
   "metadata": {},
   "source": [
    "_Table title_"
   ]
  },
  {
   "cell_type": "code",
   "execution_count": 15,
   "metadata": {},
   "outputs": [
    {
     "data": {
      "text/plain": [
       "'List of largest California cities by land area - Wikipedia'"
      ]
     },
     "execution_count": 15,
     "metadata": {},
     "output_type": "execute_result"
    }
   ],
   "source": [
    "title=soup1.title.string\n",
    "title"
   ]
  },
  {
   "cell_type": "markdown",
   "metadata": {},
   "source": [
    "_Build dataframe_"
   ]
  },
  {
   "cell_type": "code",
   "execution_count": 16,
   "metadata": {},
   "outputs": [
    {
     "name": "stdout",
     "output_type": "stream",
     "text": [
      "Data description \n",
      "* number of columns: 7\n",
      "* number of rows: 26\n"
     ]
    }
   ],
   "source": [
    "land=soup1.find('table',{'class':'wikitable sortable'})\n",
    "for row in land.findAll(\"tr\"):\n",
    "    cells = row.findAll('td')\n",
    "print('Data description \\n* number of columns:', len(cells)) #number of cols\n",
    "\n",
    "rows = land.findAll(\"tr\")\n",
    "print('* number of rows:', len(rows)) #number of rows"
   ]
  },
  {
   "cell_type": "code",
   "execution_count": 17,
   "metadata": {},
   "outputs": [
    {
     "name": "stdout",
     "output_type": "stream",
     "text": [
      "header: ['Rank', 'City', 'Land area', 'Water area', 'Total area', 'Population (2010)[1]', 'Population Density']\n"
     ]
    }
   ],
   "source": [
    "headerL = [th.text.rstrip() for th in rows[0].find_all('th')]\n",
    "print('header:', headerL)"
   ]
  },
  {
   "cell_type": "code",
   "execution_count": 18,
   "metadata": {},
   "outputs": [],
   "source": [
    "data_raw=1\n",
    "\n",
    "st_data_raw=[]\n",
    "for row in rows[data_raw:]:\n",
    "    tds = row.select('td')\n",
    "    code = tds[0]\n",
    "    data = [code.text.rstrip()]\n",
    "    data.extend([d.text.rstrip() for d in tds[1:]])\n",
    "    st_data_raw.append(data)\n"
   ]
  },
  {
   "cell_type": "code",
   "execution_count": 19,
   "metadata": {},
   "outputs": [],
   "source": [
    "dattax = list(zip(*st_data_raw))\n",
    "datt = dict(zip(headerL, dattax))"
   ]
  },
  {
   "cell_type": "code",
   "execution_count": 20,
   "metadata": {},
   "outputs": [],
   "source": [
    "dframe = pd.DataFrame(datt)"
   ]
  },
  {
   "cell_type": "code",
   "execution_count": 21,
   "metadata": {},
   "outputs": [],
   "source": [
    "dframe=dframe[['City','Land area']]"
   ]
  },
  {
   "cell_type": "code",
   "execution_count": 22,
   "metadata": {},
   "outputs": [
    {
     "data": {
      "text/plain": [
       "(25, 2)"
      ]
     },
     "execution_count": 22,
     "metadata": {},
     "output_type": "execute_result"
    }
   ],
   "source": [
    "dframe.shape"
   ]
  },
  {
   "cell_type": "markdown",
   "metadata": {},
   "source": [
    "# _1C- Population density calculation_"
   ]
  },
  {
   "cell_type": "markdown",
   "metadata": {},
   "source": [
    "The dataframes containing population and area data for each city in California were merged as a new dataframe, in order to calculate population density"
   ]
  },
  {
   "cell_type": "code",
   "execution_count": 23,
   "metadata": {},
   "outputs": [],
   "source": [
    "df00=pd.merge(df0,dframe,on='City', how='inner')"
   ]
  },
  {
   "cell_type": "code",
   "execution_count": 24,
   "metadata": {},
   "outputs": [
    {
     "data": {
      "text/plain": [
       "(20, 3)"
      ]
     },
     "execution_count": 24,
     "metadata": {},
     "output_type": "execute_result"
    }
   ],
   "source": [
    "df00.shape"
   ]
  },
  {
   "cell_type": "markdown",
   "metadata": {},
   "source": [
    "_regex was used to clean **Land area** column data (necessary for later calculations), and to transform **Population** data as float type_"
   ]
  },
  {
   "cell_type": "code",
   "execution_count": 25,
   "metadata": {},
   "outputs": [],
   "source": [
    "df00[\"Land_area_sq_mi_\"] = df00['Land area'].str.extract(\"(\\d*\\.?\\d+)\", expand=True)"
   ]
  },
  {
   "cell_type": "code",
   "execution_count": 26,
   "metadata": {},
   "outputs": [],
   "source": [
    "df00=df00[['City','Population','Land_area_sq_mi_']]"
   ]
  },
  {
   "cell_type": "code",
   "execution_count": 27,
   "metadata": {},
   "outputs": [
    {
     "data": {
      "text/html": [
       "<div>\n",
       "<style scoped>\n",
       "    .dataframe tbody tr th:only-of-type {\n",
       "        vertical-align: middle;\n",
       "    }\n",
       "\n",
       "    .dataframe tbody tr th {\n",
       "        vertical-align: top;\n",
       "    }\n",
       "\n",
       "    .dataframe thead th {\n",
       "        text-align: right;\n",
       "    }\n",
       "</style>\n",
       "<table border=\"1\" class=\"dataframe\">\n",
       "  <thead>\n",
       "    <tr style=\"text-align: right;\">\n",
       "      <th></th>\n",
       "      <th>City</th>\n",
       "      <th>Population</th>\n",
       "      <th>Land_area_sq_mi_</th>\n",
       "    </tr>\n",
       "  </thead>\n",
       "  <tbody>\n",
       "    <tr>\n",
       "      <th>0</th>\n",
       "      <td>Los Angeles</td>\n",
       "      <td>3,979,519</td>\n",
       "      <td>468.7</td>\n",
       "    </tr>\n",
       "    <tr>\n",
       "      <th>1</th>\n",
       "      <td>San Diego</td>\n",
       "      <td>1,423,851</td>\n",
       "      <td>325.2</td>\n",
       "    </tr>\n",
       "    <tr>\n",
       "      <th>2</th>\n",
       "      <td>San Jose</td>\n",
       "      <td>1,021,795</td>\n",
       "      <td>176.5</td>\n",
       "    </tr>\n",
       "    <tr>\n",
       "      <th>3</th>\n",
       "      <td>Fresno</td>\n",
       "      <td>531,576</td>\n",
       "      <td>111.9</td>\n",
       "    </tr>\n",
       "    <tr>\n",
       "      <th>4</th>\n",
       "      <td>Sacramento</td>\n",
       "      <td>513,624</td>\n",
       "      <td>97.9</td>\n",
       "    </tr>\n",
       "  </tbody>\n",
       "</table>\n",
       "</div>"
      ],
      "text/plain": [
       "          City Population Land_area_sq_mi_\n",
       "0  Los Angeles  3,979,519            468.7\n",
       "1    San Diego  1,423,851            325.2\n",
       "2     San Jose  1,021,795            176.5\n",
       "3       Fresno    531,576            111.9\n",
       "4   Sacramento    513,624             97.9"
      ]
     },
     "execution_count": 27,
     "metadata": {},
     "output_type": "execute_result"
    }
   ],
   "source": [
    "df00.head()"
   ]
  },
  {
   "cell_type": "code",
   "execution_count": 28,
   "metadata": {},
   "outputs": [],
   "source": [
    "import re    \n",
    "\n",
    "df00['Population'] = pd.to_numeric(df00['Population'].apply(lambda x: re.sub(',', '', str(x))))\n"
   ]
  },
  {
   "cell_type": "markdown",
   "metadata": {},
   "source": [
    "_Data was transformed to float type_"
   ]
  },
  {
   "cell_type": "code",
   "execution_count": 29,
   "metadata": {},
   "outputs": [],
   "source": [
    "df00['Population'] = df00.Population.astype(float)\n",
    "df00['Land_area_sq_mi_'] = df00.Land_area_sq_mi_.astype(float)"
   ]
  },
  {
   "cell_type": "markdown",
   "metadata": {},
   "source": [
    "_New column where population density was calculated (total population / land area):_"
   ]
  },
  {
   "cell_type": "code",
   "execution_count": 30,
   "metadata": {},
   "outputs": [],
   "source": [
    "df00[\"Population density\"] = df00['Population']/df00['Land_area_sq_mi_']"
   ]
  },
  {
   "cell_type": "code",
   "execution_count": 31,
   "metadata": {},
   "outputs": [
    {
     "data": {
      "text/html": [
       "<div>\n",
       "<style scoped>\n",
       "    .dataframe tbody tr th:only-of-type {\n",
       "        vertical-align: middle;\n",
       "    }\n",
       "\n",
       "    .dataframe tbody tr th {\n",
       "        vertical-align: top;\n",
       "    }\n",
       "\n",
       "    .dataframe thead th {\n",
       "        text-align: right;\n",
       "    }\n",
       "</style>\n",
       "<table border=\"1\" class=\"dataframe\">\n",
       "  <thead>\n",
       "    <tr style=\"text-align: right;\">\n",
       "      <th></th>\n",
       "      <th>City</th>\n",
       "      <th>Population</th>\n",
       "      <th>Land_area_sq_mi_</th>\n",
       "      <th>Population density</th>\n",
       "    </tr>\n",
       "  </thead>\n",
       "  <tbody>\n",
       "    <tr>\n",
       "      <th>0</th>\n",
       "      <td>Los Angeles</td>\n",
       "      <td>3979519.0</td>\n",
       "      <td>468.7</td>\n",
       "      <td>8490.546192</td>\n",
       "    </tr>\n",
       "    <tr>\n",
       "      <th>1</th>\n",
       "      <td>San Diego</td>\n",
       "      <td>1423851.0</td>\n",
       "      <td>325.2</td>\n",
       "      <td>4378.385609</td>\n",
       "    </tr>\n",
       "    <tr>\n",
       "      <th>2</th>\n",
       "      <td>San Jose</td>\n",
       "      <td>1021795.0</td>\n",
       "      <td>176.5</td>\n",
       "      <td>5789.206799</td>\n",
       "    </tr>\n",
       "    <tr>\n",
       "      <th>3</th>\n",
       "      <td>Fresno</td>\n",
       "      <td>531576.0</td>\n",
       "      <td>111.9</td>\n",
       "      <td>4750.455764</td>\n",
       "    </tr>\n",
       "    <tr>\n",
       "      <th>4</th>\n",
       "      <td>Sacramento</td>\n",
       "      <td>513624.0</td>\n",
       "      <td>97.9</td>\n",
       "      <td>5246.414709</td>\n",
       "    </tr>\n",
       "  </tbody>\n",
       "</table>\n",
       "</div>"
      ],
      "text/plain": [
       "          City  Population  Land_area_sq_mi_  Population density\n",
       "0  Los Angeles   3979519.0             468.7         8490.546192\n",
       "1    San Diego   1423851.0             325.2         4378.385609\n",
       "2     San Jose   1021795.0             176.5         5789.206799\n",
       "3       Fresno    531576.0             111.9         4750.455764\n",
       "4   Sacramento    513624.0              97.9         5246.414709"
      ]
     },
     "execution_count": 31,
     "metadata": {},
     "output_type": "execute_result"
    }
   ],
   "source": [
    "df00.head()"
   ]
  },
  {
   "cell_type": "markdown",
   "metadata": {},
   "source": [
    "_Since not all the data contained in the df00 dataframe was necessary, \"df1\" with the **city** and **population_density** columns was created_"
   ]
  },
  {
   "cell_type": "code",
   "execution_count": 32,
   "metadata": {},
   "outputs": [
    {
     "data": {
      "text/html": [
       "<div>\n",
       "<style scoped>\n",
       "    .dataframe tbody tr th:only-of-type {\n",
       "        vertical-align: middle;\n",
       "    }\n",
       "\n",
       "    .dataframe tbody tr th {\n",
       "        vertical-align: top;\n",
       "    }\n",
       "\n",
       "    .dataframe thead th {\n",
       "        text-align: right;\n",
       "    }\n",
       "</style>\n",
       "<table border=\"1\" class=\"dataframe\">\n",
       "  <thead>\n",
       "    <tr style=\"text-align: right;\">\n",
       "      <th></th>\n",
       "      <th>City</th>\n",
       "      <th>Population density</th>\n",
       "    </tr>\n",
       "  </thead>\n",
       "  <tbody>\n",
       "    <tr>\n",
       "      <th>0</th>\n",
       "      <td>Los Angeles</td>\n",
       "      <td>8490.546192</td>\n",
       "    </tr>\n",
       "    <tr>\n",
       "      <th>1</th>\n",
       "      <td>San Diego</td>\n",
       "      <td>4378.385609</td>\n",
       "    </tr>\n",
       "    <tr>\n",
       "      <th>2</th>\n",
       "      <td>San Jose</td>\n",
       "      <td>5789.206799</td>\n",
       "    </tr>\n",
       "    <tr>\n",
       "      <th>3</th>\n",
       "      <td>Fresno</td>\n",
       "      <td>4750.455764</td>\n",
       "    </tr>\n",
       "    <tr>\n",
       "      <th>4</th>\n",
       "      <td>Sacramento</td>\n",
       "      <td>5246.414709</td>\n",
       "    </tr>\n",
       "  </tbody>\n",
       "</table>\n",
       "</div>"
      ],
      "text/plain": [
       "          City  Population density\n",
       "0  Los Angeles         8490.546192\n",
       "1    San Diego         4378.385609\n",
       "2     San Jose         5789.206799\n",
       "3       Fresno         4750.455764\n",
       "4   Sacramento         5246.414709"
      ]
     },
     "execution_count": 32,
     "metadata": {},
     "output_type": "execute_result"
    }
   ],
   "source": [
    "df1=df00[['City','Population density']]\n",
    "df1.head()"
   ]
  },
  {
   "cell_type": "markdown",
   "metadata": {},
   "source": [
    "## _2- Latitude and Longitude data_"
   ]
  },
  {
   "cell_type": "markdown",
   "metadata": {},
   "source": [
    "In order to draw each city in a California map and to get cities venues, latitude and longitude data was dowloaded from the url mentioned next. Then, data was cleaned and merged to the Population density dataframe (\"df1\") in a new dataframe called \"new_df\"."
   ]
  },
  {
   "cell_type": "markdown",
   "metadata": {},
   "source": [
    "_download latitude and longitude data_"
   ]
  },
  {
   "cell_type": "code",
   "execution_count": 33,
   "metadata": {},
   "outputs": [
    {
     "data": {
      "text/html": [
       "<div>\n",
       "<style scoped>\n",
       "    .dataframe tbody tr th:only-of-type {\n",
       "        vertical-align: middle;\n",
       "    }\n",
       "\n",
       "    .dataframe tbody tr th {\n",
       "        vertical-align: top;\n",
       "    }\n",
       "\n",
       "    .dataframe thead th {\n",
       "        text-align: right;\n",
       "    }\n",
       "</style>\n",
       "<table border=\"1\" class=\"dataframe\">\n",
       "  <thead>\n",
       "    <tr style=\"text-align: right;\">\n",
       "      <th></th>\n",
       "      <th>Location</th>\n",
       "      <th>Latitude</th>\n",
       "      <th>Longitude</th>\n",
       "    </tr>\n",
       "  </thead>\n",
       "  <tbody>\n",
       "    <tr>\n",
       "      <th>0</th>\n",
       "      <td>Acalanes Ridge</td>\n",
       "      <td>37.90</td>\n",
       "      <td>-122.08</td>\n",
       "    </tr>\n",
       "    <tr>\n",
       "      <th>1</th>\n",
       "      <td>Acampo</td>\n",
       "      <td>38.17</td>\n",
       "      <td>-121.28</td>\n",
       "    </tr>\n",
       "    <tr>\n",
       "      <th>2</th>\n",
       "      <td>Acton</td>\n",
       "      <td>34.50</td>\n",
       "      <td>-118.19</td>\n",
       "    </tr>\n",
       "    <tr>\n",
       "      <th>3</th>\n",
       "      <td>Adelanto city</td>\n",
       "      <td>34.59</td>\n",
       "      <td>-117.44</td>\n",
       "    </tr>\n",
       "    <tr>\n",
       "      <th>4</th>\n",
       "      <td>Adin</td>\n",
       "      <td>41.20</td>\n",
       "      <td>-120.95</td>\n",
       "    </tr>\n",
       "  </tbody>\n",
       "</table>\n",
       "</div>"
      ],
      "text/plain": [
       "         Location  Latitude  Longitude\n",
       "0  Acalanes Ridge     37.90    -122.08\n",
       "1          Acampo     38.17    -121.28\n",
       "2           Acton     34.50    -118.19\n",
       "3   Adelanto city     34.59    -117.44\n",
       "4            Adin     41.20    -120.95"
      ]
     },
     "execution_count": 33,
     "metadata": {},
     "output_type": "execute_result"
    }
   ],
   "source": [
    "#data was downloaded from https://www.kaggle.com/camnugent/california-housing-feature-engineering?select=cal_cities_lat_long.csv\n",
    "\n",
    "df_gps= pd.read_csv('/Users/FR/Desktop/California_latlong.csv', sep=';') # path\n",
    "df_gps.head()"
   ]
  },
  {
   "cell_type": "markdown",
   "metadata": {},
   "source": [
    "_Remove \"city\" or \"City\" from Cities names_\n",
    "\n",
    "_The **Location** column indicated cities names where the word \"city\" or \"City\" was in some of the rows. Since this lat/long data will be appended to the cities population density dataframe using inner join on \"City\" column, it was absolutly necessary that cities were named the same in both dataframes (the ones to be merged), ir order to avoid losing important data_"
   ]
  },
  {
   "cell_type": "code",
   "execution_count": 34,
   "metadata": {},
   "outputs": [
    {
     "data": {
      "text/html": [
       "<div>\n",
       "<style scoped>\n",
       "    .dataframe tbody tr th:only-of-type {\n",
       "        vertical-align: middle;\n",
       "    }\n",
       "\n",
       "    .dataframe tbody tr th {\n",
       "        vertical-align: top;\n",
       "    }\n",
       "\n",
       "    .dataframe thead th {\n",
       "        text-align: right;\n",
       "    }\n",
       "</style>\n",
       "<table border=\"1\" class=\"dataframe\">\n",
       "  <thead>\n",
       "    <tr style=\"text-align: right;\">\n",
       "      <th></th>\n",
       "      <th>Location</th>\n",
       "      <th>Latitude</th>\n",
       "      <th>Longitude</th>\n",
       "    </tr>\n",
       "  </thead>\n",
       "  <tbody>\n",
       "    <tr>\n",
       "      <th>0</th>\n",
       "      <td>Acalanes Ridge</td>\n",
       "      <td>37.90</td>\n",
       "      <td>-122.08</td>\n",
       "    </tr>\n",
       "    <tr>\n",
       "      <th>1</th>\n",
       "      <td>Acampo</td>\n",
       "      <td>38.17</td>\n",
       "      <td>-121.28</td>\n",
       "    </tr>\n",
       "    <tr>\n",
       "      <th>2</th>\n",
       "      <td>Acton</td>\n",
       "      <td>34.50</td>\n",
       "      <td>-118.19</td>\n",
       "    </tr>\n",
       "    <tr>\n",
       "      <th>3</th>\n",
       "      <td>Adelanto</td>\n",
       "      <td>34.59</td>\n",
       "      <td>-117.44</td>\n",
       "    </tr>\n",
       "    <tr>\n",
       "      <th>4</th>\n",
       "      <td>Adin</td>\n",
       "      <td>41.20</td>\n",
       "      <td>-120.95</td>\n",
       "    </tr>\n",
       "  </tbody>\n",
       "</table>\n",
       "</div>"
      ],
      "text/plain": [
       "         Location  Latitude  Longitude\n",
       "0  Acalanes Ridge     37.90    -122.08\n",
       "1          Acampo     38.17    -121.28\n",
       "2           Acton     34.50    -118.19\n",
       "3        Adelanto     34.59    -117.44\n",
       "4            Adin     41.20    -120.95"
      ]
     },
     "execution_count": 34,
     "metadata": {},
     "output_type": "execute_result"
    }
   ],
   "source": [
    "gps=df_gps.replace(' city','', regex=True).replace(' City','', regex=True)\n",
    "gps.head()"
   ]
  },
  {
   "cell_type": "code",
   "execution_count": 35,
   "metadata": {},
   "outputs": [],
   "source": [
    "dataframe=df1.replace(' city','', regex=True).replace(' City','', regex=True)"
   ]
  },
  {
   "cell_type": "code",
   "execution_count": 36,
   "metadata": {},
   "outputs": [
    {
     "data": {
      "text/html": [
       "<div>\n",
       "<style scoped>\n",
       "    .dataframe tbody tr th:only-of-type {\n",
       "        vertical-align: middle;\n",
       "    }\n",
       "\n",
       "    .dataframe tbody tr th {\n",
       "        vertical-align: top;\n",
       "    }\n",
       "\n",
       "    .dataframe thead th {\n",
       "        text-align: right;\n",
       "    }\n",
       "</style>\n",
       "<table border=\"1\" class=\"dataframe\">\n",
       "  <thead>\n",
       "    <tr style=\"text-align: right;\">\n",
       "      <th></th>\n",
       "      <th>City</th>\n",
       "      <th>Population density</th>\n",
       "    </tr>\n",
       "  </thead>\n",
       "  <tbody>\n",
       "    <tr>\n",
       "      <th>0</th>\n",
       "      <td>Los Angeles</td>\n",
       "      <td>8490.546192</td>\n",
       "    </tr>\n",
       "    <tr>\n",
       "      <th>1</th>\n",
       "      <td>San Diego</td>\n",
       "      <td>4378.385609</td>\n",
       "    </tr>\n",
       "    <tr>\n",
       "      <th>2</th>\n",
       "      <td>San Jose</td>\n",
       "      <td>5789.206799</td>\n",
       "    </tr>\n",
       "    <tr>\n",
       "      <th>3</th>\n",
       "      <td>Fresno</td>\n",
       "      <td>4750.455764</td>\n",
       "    </tr>\n",
       "    <tr>\n",
       "      <th>4</th>\n",
       "      <td>Sacramento</td>\n",
       "      <td>5246.414709</td>\n",
       "    </tr>\n",
       "  </tbody>\n",
       "</table>\n",
       "</div>"
      ],
      "text/plain": [
       "          City  Population density\n",
       "0  Los Angeles         8490.546192\n",
       "1    San Diego         4378.385609\n",
       "2     San Jose         5789.206799\n",
       "3       Fresno         4750.455764\n",
       "4   Sacramento         5246.414709"
      ]
     },
     "execution_count": 36,
     "metadata": {},
     "output_type": "execute_result"
    }
   ],
   "source": [
    "dataframe.head()"
   ]
  },
  {
   "cell_type": "markdown",
   "metadata": {},
   "source": [
    "_Change 'Location' to 'City' in gps dataframe_"
   ]
  },
  {
   "cell_type": "code",
   "execution_count": 37,
   "metadata": {},
   "outputs": [],
   "source": [
    "gps1= gps.rename(columns={'Location': 'City'})"
   ]
  },
  {
   "cell_type": "markdown",
   "metadata": {},
   "source": [
    "### Intermediate DF\n",
    "_Merge dataframes: a new dataframe named \"new_df\" that contains Cities names, population density and lat/long data is created_"
   ]
  },
  {
   "cell_type": "code",
   "execution_count": 38,
   "metadata": {},
   "outputs": [],
   "source": [
    "new_df=pd.merge(gps1,dataframe,on='City', how='inner')"
   ]
  },
  {
   "cell_type": "code",
   "execution_count": 39,
   "metadata": {},
   "outputs": [
    {
     "name": "stdout",
     "output_type": "stream",
     "text": [
      "['Bakersfield', 'Fremont', 'Fresno', 'Hesperia', 'Irvine', 'Lancaster', 'Los Angeles', 'Moreno Valley', 'Oakland', 'Palmdale', 'Redding', 'Riverside', 'Sacramento', 'San Bernardino', 'San Diego', 'San Jose', 'Santa Clarita', 'Stockton', 'Thousand Oaks', 'Victorville']\n"
     ]
    }
   ],
   "source": [
    "#Check cities\n",
    "Cities=[]\n",
    "for row in new_df['City']:\n",
    "    Cities.append(row)\n",
    "print(Cities)"
   ]
  },
  {
   "cell_type": "code",
   "execution_count": 40,
   "metadata": {},
   "outputs": [
    {
     "data": {
      "text/plain": [
       "(20, 4)"
      ]
     },
     "execution_count": 40,
     "metadata": {},
     "output_type": "execute_result"
    }
   ],
   "source": [
    "new_df.shape"
   ]
  },
  {
   "cell_type": "code",
   "execution_count": 41,
   "metadata": {},
   "outputs": [
    {
     "data": {
      "text/html": [
       "<div>\n",
       "<style scoped>\n",
       "    .dataframe tbody tr th:only-of-type {\n",
       "        vertical-align: middle;\n",
       "    }\n",
       "\n",
       "    .dataframe tbody tr th {\n",
       "        vertical-align: top;\n",
       "    }\n",
       "\n",
       "    .dataframe thead th {\n",
       "        text-align: right;\n",
       "    }\n",
       "</style>\n",
       "<table border=\"1\" class=\"dataframe\">\n",
       "  <thead>\n",
       "    <tr style=\"text-align: right;\">\n",
       "      <th></th>\n",
       "      <th>City</th>\n",
       "      <th>Latitude</th>\n",
       "      <th>Longitude</th>\n",
       "      <th>Population density</th>\n",
       "    </tr>\n",
       "  </thead>\n",
       "  <tbody>\n",
       "    <tr>\n",
       "      <th>0</th>\n",
       "      <td>Bakersfield</td>\n",
       "      <td>35.35</td>\n",
       "      <td>-119.03</td>\n",
       "      <td>2565.584719</td>\n",
       "    </tr>\n",
       "    <tr>\n",
       "      <th>1</th>\n",
       "      <td>Fremont</td>\n",
       "      <td>37.52</td>\n",
       "      <td>-122.00</td>\n",
       "      <td>3111.096774</td>\n",
       "    </tr>\n",
       "    <tr>\n",
       "      <th>2</th>\n",
       "      <td>Fresno</td>\n",
       "      <td>36.78</td>\n",
       "      <td>-119.79</td>\n",
       "      <td>4750.455764</td>\n",
       "    </tr>\n",
       "    <tr>\n",
       "      <th>3</th>\n",
       "      <td>Hesperia</td>\n",
       "      <td>34.40</td>\n",
       "      <td>-117.31</td>\n",
       "      <td>1309.849521</td>\n",
       "    </tr>\n",
       "    <tr>\n",
       "      <th>4</th>\n",
       "      <td>Irvine</td>\n",
       "      <td>33.68</td>\n",
       "      <td>-117.77</td>\n",
       "      <td>4347.972769</td>\n",
       "    </tr>\n",
       "  </tbody>\n",
       "</table>\n",
       "</div>"
      ],
      "text/plain": [
       "          City  Latitude  Longitude  Population density\n",
       "0  Bakersfield     35.35    -119.03         2565.584719\n",
       "1      Fremont     37.52    -122.00         3111.096774\n",
       "2       Fresno     36.78    -119.79         4750.455764\n",
       "3     Hesperia     34.40    -117.31         1309.849521\n",
       "4       Irvine     33.68    -117.77         4347.972769"
      ]
     },
     "execution_count": 41,
     "metadata": {},
     "output_type": "execute_result"
    }
   ],
   "source": [
    "new_df.head()"
   ]
  },
  {
   "cell_type": "markdown",
   "metadata": {},
   "source": [
    "## _3- Air Quality Index Data_"
   ]
  },
  {
   "cell_type": "markdown",
   "metadata": {},
   "source": [
    "California Air Quality data (AQI) was downloaded from United States Environmental Protection Agency (US EPA). \n",
    "\n",
    "The data corresponds to the number of days where air quality was considered Good(G), Moderate(M), Unhealthy for sensitive groups(USG), unhealhy(U) or Very unhealthy(VU) according to US EPA standards. \n",
    "__________\n",
    "\n",
    "_**California** Air Quality Index Data_\n",
    "\n",
    "_data cleaning: All the cities in the US EPA database had **', CA'** after the name. As explained before, it is necessary to unify criteria for cities names. Hence, **', CA'** was removed from the AQI dataframe_\n"
   ]
  },
  {
   "cell_type": "code",
   "execution_count": 42,
   "metadata": {},
   "outputs": [],
   "source": [
    "#https://www.epa.gov/outdoor-air-quality-data/air-quality-index-report\n",
    "\n",
    "dfAQ= pd.read_csv('/Users/FR/Desktop/aqireport2019.csv', sep=',') #path\n",
    "dfAQ1=dfAQ.replace(', CA','', regex=True)"
   ]
  },
  {
   "cell_type": "markdown",
   "metadata": {},
   "source": [
    "_Air Quality dataframe contained more data than necessary for this analysis, so \".iloc\" was used to get data from columns 1 to 7_"
   ]
  },
  {
   "cell_type": "code",
   "execution_count": 43,
   "metadata": {},
   "outputs": [],
   "source": [
    "dfAQ2 = dfAQ1.iloc[:, 1:8].copy()"
   ]
  },
  {
   "cell_type": "markdown",
   "metadata": {},
   "source": [
    "_Change columns names (just because it's simplier to work with smaller names)_"
   ]
  },
  {
   "cell_type": "code",
   "execution_count": 44,
   "metadata": {},
   "outputs": [],
   "source": [
    "dfAQ2 = dfAQ2.rename(columns={'Good': 'G'})\n",
    "dfAQ2 = dfAQ2.rename(columns={'Moderate': 'M'})\n",
    "dfAQ2 = dfAQ2.rename(columns={'Unhealthy for Sensitive Groups': 'USG'})\n",
    "dfAQ2 = dfAQ2.rename(columns={'Unhealthy': 'U'})\n",
    "dfAQ2 = dfAQ2.rename(columns={'Very Unhealthy': 'VU'})\n"
   ]
  },
  {
   "cell_type": "markdown",
   "metadata": {},
   "source": [
    "**_prearing data: transform \"·\" to zeros_**"
   ]
  },
  {
   "cell_type": "code",
   "execution_count": 45,
   "metadata": {},
   "outputs": [],
   "source": [
    "dfAQ2.loc[dfAQ2.G == \".\", 'G'] = int(0)\n",
    "dfAQ2.loc[dfAQ2.M == \".\", 'M'] = int(0)\n",
    "dfAQ2.loc[dfAQ2.USG == \".\", 'USG'] = int(0)\n",
    "dfAQ2.loc[dfAQ2.U == \".\", 'U'] = int(0)\n",
    "dfAQ2.loc[dfAQ2.VU == \".\", 'VU'] = int(0)\n"
   ]
  },
  {
   "cell_type": "markdown",
   "metadata": {},
   "source": [
    "**_prearing data: transform data to int type (needed to perform calculations)_**"
   ]
  },
  {
   "cell_type": "code",
   "execution_count": 46,
   "metadata": {},
   "outputs": [],
   "source": [
    "dfAQ2['G'] = dfAQ2.G.astype(int)\n",
    "dfAQ2['M'] = dfAQ2.M.astype(int)\n",
    "dfAQ2['U'] = dfAQ2.U.astype(int)\n",
    "dfAQ2['VU'] = dfAQ2.VU.astype(int)\n",
    "dfAQ2['USG'] = dfAQ2.USG.astype(int)\n",
    "# dfAQ2.dtypes #to check types"
   ]
  },
  {
   "cell_type": "markdown",
   "metadata": {},
   "source": [
    "**_prearing data: Calculate percentaje of Good (G), Moderate (M), Unhealty (U), Very Unhealthy (VU) and Unhealty to sensitive groups (USG) data (relative to the number of days with available data), for each city in california_**"
   ]
  },
  {
   "cell_type": "code",
   "execution_count": 47,
   "metadata": {},
   "outputs": [],
   "source": [
    "dfAQ2['G%'] = dfAQ2['G']/dfAQ2['# Days with AQI']\n",
    "dfAQ2['M%'] = dfAQ2['M']/dfAQ2['# Days with AQI']\n",
    "dfAQ2['USG%'] = dfAQ2['USG']/dfAQ2['# Days with AQI']\n",
    "dfAQ2['U%'] = dfAQ2['U']/dfAQ2['# Days with AQI']\n",
    "dfAQ2['VU%'] = dfAQ2['VU']/dfAQ2['# Days with AQI']\n",
    "\n",
    "AQI = dfAQ2[['CBSA','G%', 'M%', 'USG%', 'U%', 'VU%']]\n",
    "AQI=AQI.replace('--','-', regex=True)\n"
   ]
  },
  {
   "cell_type": "markdown",
   "metadata": {},
   "source": [
    "## _4- Final data frame_"
   ]
  },
  {
   "cell_type": "markdown",
   "metadata": {},
   "source": [
    "_Merge Air Quality data to cities dataframe that contain population density and Lat/long data (new_df)_"
   ]
  },
  {
   "cell_type": "code",
   "execution_count": 48,
   "metadata": {},
   "outputs": [],
   "source": [
    "# duplicate data for grouped cities (in air quality data)\n",
    "AQI2=AQI.assign(CBSA = AQI['CBSA'].str.split('-')).explode('CBSA').reset_index(drop=True)\n",
    "AQI2 = AQI2.rename(columns={'CBSA': 'City'})"
   ]
  },
  {
   "cell_type": "code",
   "execution_count": 49,
   "metadata": {},
   "outputs": [],
   "source": [
    "final_df=pd.merge(new_df,AQI2,on='City', how='inner')"
   ]
  },
  {
   "cell_type": "code",
   "execution_count": 50,
   "metadata": {},
   "outputs": [
    {
     "data": {
      "text/plain": [
       "(12, 9)"
      ]
     },
     "execution_count": 50,
     "metadata": {},
     "output_type": "execute_result"
    }
   ],
   "source": [
    "final_df.shape"
   ]
  },
  {
   "cell_type": "code",
   "execution_count": 51,
   "metadata": {},
   "outputs": [
    {
     "data": {
      "text/html": [
       "<div>\n",
       "<style scoped>\n",
       "    .dataframe tbody tr th:only-of-type {\n",
       "        vertical-align: middle;\n",
       "    }\n",
       "\n",
       "    .dataframe tbody tr th {\n",
       "        vertical-align: top;\n",
       "    }\n",
       "\n",
       "    .dataframe thead th {\n",
       "        text-align: right;\n",
       "    }\n",
       "</style>\n",
       "<table border=\"1\" class=\"dataframe\">\n",
       "  <thead>\n",
       "    <tr style=\"text-align: right;\">\n",
       "      <th></th>\n",
       "      <th>City</th>\n",
       "      <th>Latitude</th>\n",
       "      <th>Longitude</th>\n",
       "      <th>Population density</th>\n",
       "      <th>G%</th>\n",
       "      <th>M%</th>\n",
       "      <th>USG%</th>\n",
       "      <th>U%</th>\n",
       "      <th>VU%</th>\n",
       "    </tr>\n",
       "  </thead>\n",
       "  <tbody>\n",
       "    <tr>\n",
       "      <th>0</th>\n",
       "      <td>Bakersfield</td>\n",
       "      <td>35.35</td>\n",
       "      <td>-119.03</td>\n",
       "      <td>2565.584719</td>\n",
       "      <td>0.326027</td>\n",
       "      <td>0.413699</td>\n",
       "      <td>0.238356</td>\n",
       "      <td>0.016438</td>\n",
       "      <td>0.005479</td>\n",
       "    </tr>\n",
       "    <tr>\n",
       "      <th>1</th>\n",
       "      <td>Fresno</td>\n",
       "      <td>36.78</td>\n",
       "      <td>-119.79</td>\n",
       "      <td>4750.455764</td>\n",
       "      <td>0.380822</td>\n",
       "      <td>0.438356</td>\n",
       "      <td>0.175342</td>\n",
       "      <td>0.005479</td>\n",
       "      <td>0.000000</td>\n",
       "    </tr>\n",
       "    <tr>\n",
       "      <th>2</th>\n",
       "      <td>Los Angeles</td>\n",
       "      <td>34.11</td>\n",
       "      <td>-118.41</td>\n",
       "      <td>8490.546192</td>\n",
       "      <td>0.180822</td>\n",
       "      <td>0.569863</td>\n",
       "      <td>0.169863</td>\n",
       "      <td>0.076712</td>\n",
       "      <td>0.002740</td>\n",
       "    </tr>\n",
       "    <tr>\n",
       "      <th>3</th>\n",
       "      <td>Oakland</td>\n",
       "      <td>37.77</td>\n",
       "      <td>-122.22</td>\n",
       "      <td>7760.412186</td>\n",
       "      <td>0.695890</td>\n",
       "      <td>0.279452</td>\n",
       "      <td>0.024658</td>\n",
       "      <td>0.000000</td>\n",
       "      <td>0.000000</td>\n",
       "    </tr>\n",
       "    <tr>\n",
       "      <th>4</th>\n",
       "      <td>Redding</td>\n",
       "      <td>40.57</td>\n",
       "      <td>-122.37</td>\n",
       "      <td>1553.523490</td>\n",
       "      <td>0.854396</td>\n",
       "      <td>0.145604</td>\n",
       "      <td>0.000000</td>\n",
       "      <td>0.000000</td>\n",
       "      <td>0.000000</td>\n",
       "    </tr>\n",
       "    <tr>\n",
       "      <th>5</th>\n",
       "      <td>Riverside</td>\n",
       "      <td>33.94</td>\n",
       "      <td>-117.39</td>\n",
       "      <td>4085.819975</td>\n",
       "      <td>0.115068</td>\n",
       "      <td>0.487671</td>\n",
       "      <td>0.216438</td>\n",
       "      <td>0.158904</td>\n",
       "      <td>0.021918</td>\n",
       "    </tr>\n",
       "    <tr>\n",
       "      <th>6</th>\n",
       "      <td>Sacramento</td>\n",
       "      <td>38.57</td>\n",
       "      <td>-121.47</td>\n",
       "      <td>5246.414709</td>\n",
       "      <td>0.471233</td>\n",
       "      <td>0.471233</td>\n",
       "      <td>0.057534</td>\n",
       "      <td>0.000000</td>\n",
       "      <td>0.000000</td>\n",
       "    </tr>\n",
       "    <tr>\n",
       "      <th>7</th>\n",
       "      <td>San Bernardino</td>\n",
       "      <td>34.14</td>\n",
       "      <td>-117.30</td>\n",
       "      <td>3645.000000</td>\n",
       "      <td>0.115068</td>\n",
       "      <td>0.487671</td>\n",
       "      <td>0.216438</td>\n",
       "      <td>0.158904</td>\n",
       "      <td>0.021918</td>\n",
       "    </tr>\n",
       "    <tr>\n",
       "      <th>8</th>\n",
       "      <td>San Diego</td>\n",
       "      <td>32.82</td>\n",
       "      <td>-117.13</td>\n",
       "      <td>4378.385609</td>\n",
       "      <td>0.238356</td>\n",
       "      <td>0.693151</td>\n",
       "      <td>0.063014</td>\n",
       "      <td>0.005479</td>\n",
       "      <td>0.000000</td>\n",
       "    </tr>\n",
       "    <tr>\n",
       "      <th>9</th>\n",
       "      <td>San Jose</td>\n",
       "      <td>37.30</td>\n",
       "      <td>-121.85</td>\n",
       "      <td>5789.206799</td>\n",
       "      <td>0.720548</td>\n",
       "      <td>0.268493</td>\n",
       "      <td>0.010959</td>\n",
       "      <td>0.000000</td>\n",
       "      <td>0.000000</td>\n",
       "    </tr>\n",
       "    <tr>\n",
       "      <th>10</th>\n",
       "      <td>Stockton</td>\n",
       "      <td>37.98</td>\n",
       "      <td>-121.31</td>\n",
       "      <td>5068.022690</td>\n",
       "      <td>0.632877</td>\n",
       "      <td>0.334247</td>\n",
       "      <td>0.030137</td>\n",
       "      <td>0.002740</td>\n",
       "      <td>0.000000</td>\n",
       "    </tr>\n",
       "    <tr>\n",
       "      <th>11</th>\n",
       "      <td>Thousand Oaks</td>\n",
       "      <td>34.19</td>\n",
       "      <td>-118.87</td>\n",
       "      <td>2305.690909</td>\n",
       "      <td>0.586301</td>\n",
       "      <td>0.389041</td>\n",
       "      <td>0.024658</td>\n",
       "      <td>0.000000</td>\n",
       "      <td>0.000000</td>\n",
       "    </tr>\n",
       "  </tbody>\n",
       "</table>\n",
       "</div>"
      ],
      "text/plain": [
       "              City  Latitude  Longitude  Population density        G%  \\\n",
       "0      Bakersfield     35.35    -119.03         2565.584719  0.326027   \n",
       "1           Fresno     36.78    -119.79         4750.455764  0.380822   \n",
       "2      Los Angeles     34.11    -118.41         8490.546192  0.180822   \n",
       "3          Oakland     37.77    -122.22         7760.412186  0.695890   \n",
       "4          Redding     40.57    -122.37         1553.523490  0.854396   \n",
       "5        Riverside     33.94    -117.39         4085.819975  0.115068   \n",
       "6       Sacramento     38.57    -121.47         5246.414709  0.471233   \n",
       "7   San Bernardino     34.14    -117.30         3645.000000  0.115068   \n",
       "8        San Diego     32.82    -117.13         4378.385609  0.238356   \n",
       "9         San Jose     37.30    -121.85         5789.206799  0.720548   \n",
       "10        Stockton     37.98    -121.31         5068.022690  0.632877   \n",
       "11   Thousand Oaks     34.19    -118.87         2305.690909  0.586301   \n",
       "\n",
       "          M%      USG%        U%       VU%  \n",
       "0   0.413699  0.238356  0.016438  0.005479  \n",
       "1   0.438356  0.175342  0.005479  0.000000  \n",
       "2   0.569863  0.169863  0.076712  0.002740  \n",
       "3   0.279452  0.024658  0.000000  0.000000  \n",
       "4   0.145604  0.000000  0.000000  0.000000  \n",
       "5   0.487671  0.216438  0.158904  0.021918  \n",
       "6   0.471233  0.057534  0.000000  0.000000  \n",
       "7   0.487671  0.216438  0.158904  0.021918  \n",
       "8   0.693151  0.063014  0.005479  0.000000  \n",
       "9   0.268493  0.010959  0.000000  0.000000  \n",
       "10  0.334247  0.030137  0.002740  0.000000  \n",
       "11  0.389041  0.024658  0.000000  0.000000  "
      ]
     },
     "execution_count": 51,
     "metadata": {},
     "output_type": "execute_result"
    }
   ],
   "source": [
    "final_df"
   ]
  },
  {
   "cell_type": "markdown",
   "metadata": {},
   "source": [
    "____________\n",
    "Plot relation between population density and each category for air quality (scatter plot)"
   ]
  },
  {
   "cell_type": "code",
   "execution_count": 52,
   "metadata": {},
   "outputs": [],
   "source": [
    "plt_X= final_df['Population density']\n",
    "plt_G= final_df['G%']\n",
    "plt_M= final_df['M%']\n",
    "plt_U= final_df['U%']\n",
    "plt_VU= final_df['VU%']\n",
    "plt_USG= final_df['USG%']\n"
   ]
  },
  {
   "cell_type": "code",
   "execution_count": 53,
   "metadata": {},
   "outputs": [
    {
     "data": {
      "text/plain": [
       "<matplotlib.legend.Legend at 0x7f9b4e271350>"
      ]
     },
     "execution_count": 53,
     "metadata": {},
     "output_type": "execute_result"
    },
    {
     "data": {
      "image/png": "[encoded data removed]",
      "text/plain": [
       "<Figure size 432x288 with 1 Axes>"
      ]
     },
     "metadata": {
      "needs_background": "light"
     },
     "output_type": "display_data"
    }
   ],
   "source": [
    "pG=plt.scatter(plt_X,plt_G, color=\"red\", label= 'GOOD')\n",
    "pM=plt.scatter(plt_X, plt_M, color=\"green\", label= 'MODERATE')\n",
    "pU=plt.scatter(plt_X, plt_U, color=\"blue\", label= 'UNHEALTY')\n",
    "pVU=plt.scatter(plt_X, plt_VU, color=\"orange\", label= 'VERY UNHEALTHY')\n",
    "pUSG=plt.scatter(plt_X, plt_USG, color=\"magenta\", label= 'UNHEALTHY for SENSITIVE GROUP')\n",
    "\n",
    "\n",
    "plt.xlabel('Population density (sq mi)')\n",
    "plt.ylabel('% days')\n",
    "plt.title(\"Air Quality \")\n",
    "plt.legend(handles=[pG, pM, pU, pVU, pUSG], title='Air Quality', bbox_to_anchor=(1.05, 1), loc='upper left')"
   ]
  },
  {
   "cell_type": "markdown",
   "metadata": {},
   "source": [
    "#### Unexpectedly, there does not seem to be a correlation between % of good days (or the other categories) and population density. \n",
    "#### % of Moderate days is the only category for which there seems to be a positive relation between air quality and population density, but only between 0 - 4500/sq mi. \n",
    "### Therefore, population density will be excluded from the clustering analysis"
   ]
  },
  {
   "cell_type": "markdown",
   "metadata": {},
   "source": [
    "-----------"
   ]
  },
  {
   "cell_type": "markdown",
   "metadata": {},
   "source": [
    "# _5- California venues_"
   ]
  },
  {
   "cell_type": "markdown",
   "metadata": {},
   "source": [
    "_import libraries_"
   ]
  },
  {
   "cell_type": "code",
   "execution_count": 54,
   "metadata": {},
   "outputs": [],
   "source": [
    "import numpy as np\n",
    "import json \n",
    "from geopy.geocoders import Nominatim \n",
    "from pandas.io.json import json_normalize \n",
    "import matplotlib.cm as cm\n",
    "import matplotlib.colors as colors\n",
    "from sklearn.cluster import KMeans\n",
    "import folium "
   ]
  },
  {
   "cell_type": "markdown",
   "metadata": {},
   "source": [
    "_Get the latitude and longitude values of California._"
   ]
  },
  {
   "cell_type": "code",
   "execution_count": 55,
   "metadata": {},
   "outputs": [
    {
     "name": "stdout",
     "output_type": "stream",
     "text": [
      "The geograpical coordinate of California are 36.7014631, -118.755997.\n"
     ]
    }
   ],
   "source": [
    "address = 'California, US'\n",
    "\n",
    "geolocator = Nominatim(user_agent=\"california_explorer\")\n",
    "location = geolocator.geocode(address)\n",
    "latitude = location.latitude\n",
    "longitude = location.longitude\n",
    "print('The geograpical coordinate of California are {}, {}.'.format(latitude, longitude))"
   ]
  },
  {
   "cell_type": "markdown",
   "metadata": {},
   "source": [
    "_Create a map of California with cities superimposed on top **(only cities in the final DF)**_"
   ]
  },
  {
   "cell_type": "code",
   "execution_count": 56,
   "metadata": {},
   "outputs": [
    {
     "data": {
      "text/html": [
       "<div style=\"width:100%;\"><div style=\"position:relative;width:100%;height:0;padding-bottom:60%;\"><span style=\"color:#565656\">Make this Notebook Trusted to load map: File -> Trust Notebook</span><iframe src=\"about:blank\" style=\"position:absolute;width:100%;height:100%;left:0;top:0;border:none !important;\" data-html=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 onload=\"this.contentDocument.open();this.contentDocument.write(atob(this.getAttribute('data-html')));this.contentDocument.close();\" allowfullscreen webkitallowfullscreen mozallowfullscreen></iframe></div></div>"
      ],
      "text/plain": [
       "<folium.folium.Map at 0x7f9b50e02f10>"
      ]
     },
     "execution_count": 56,
     "metadata": {},
     "output_type": "execute_result"
    }
   ],
   "source": [
    "map_california = folium.Map(location=[latitude, longitude], zoom_start=6)\n",
    "\n",
    "# add markers to map\n",
    "for lat, lng, City in zip(final_df['Latitude'], final_df['Longitude'],final_df['City']):\n",
    "    label = '{}'.format(City)\n",
    "    label = folium.Popup(label, parse_html=True)\n",
    "    folium.CircleMarker(\n",
    "        [lat, lng],\n",
    "        radius=4,\n",
    "        popup=label,\n",
    "        color='blue',\n",
    "        fill=True,\n",
    "        fill_color='red',\n",
    "        fill_opacity=0.5,\n",
    "        parse_html=False).add_to(map_california)  \n",
    "    \n",
    "map_california"
   ]
  },
  {
   "cell_type": "markdown",
   "metadata": {},
   "source": [
    "_Define Foursquare Credentials and Version_"
   ]
  },
  {
   "cell_type": "code",
   "execution_count": 88,
   "metadata": {},
   "outputs": [
    {
     "name": "stdout",
     "output_type": "stream",
     "text": [
      "Your credentails:\n",
      "CLIENT_ID: -----\n",
      "CLIENT_SECRET:-----\n"
     ]
    }
   ],
   "source": [
    "CLIENT_ID = '-----' # were removed for privacy\n",
    "CLIENT_SECRET = '-----' # were removed for privacy\n",
    "VERSION = '20180605' \n",
    "LIMIT = 500\n",
    "\n",
    "print('Your credentails:')\n",
    "print('CLIENT_ID: ' + CLIENT_ID)\n",
    "print('CLIENT_SECRET:' + CLIENT_SECRET)"
   ]
  },
  {
   "cell_type": "markdown",
   "metadata": {},
   "source": [
    "_Function to get nearby venues_"
   ]
  },
  {
   "cell_type": "code",
   "execution_count": 58,
   "metadata": {},
   "outputs": [],
   "source": [
    "def getNearbyVenues(names, latitudes, longitudes, radius=500):\n",
    "    venues_list=[]\n",
    "    \n",
    "    for name, lat, lng in zip(names, latitudes, longitudes):\n",
    "            \n",
    "        # create the API request URL\n",
    "        url = 'https://api.foursquare.com/v2/venues/explore?&client_id={}&client_secret={}&v={}&ll={},{}&radius={}&limit={}'.format(\n",
    "            CLIENT_ID, \n",
    "            CLIENT_SECRET, \n",
    "            VERSION, \n",
    "            lat, \n",
    "            lng, \n",
    "            radius, \n",
    "            LIMIT)\n",
    "            \n",
    "        # make the GET request\n",
    "        results = requests.get(url).json()[\"response\"]['groups'][0]['items']\n",
    "        \n",
    "        # return only relevant information for each nearby venue\n",
    "        venues_list.append([(\n",
    "            name, \n",
    "            lat, \n",
    "            lng, \n",
    "            v['venue']['name'], \n",
    "            v['venue']['location']['lat'], \n",
    "            v['venue']['location']['lng'],  \n",
    "            v['venue']['categories'][0]['name']) for v in results])\n",
    " \n",
    "    nearby_venues = pd.DataFrame([item for venue_list in venues_list for item in venue_list])\n",
    "    nearby_venues.columns = ['City', \n",
    "                  'City Latitude', \n",
    "                  'City Longitude', \n",
    "                  'Venue', \n",
    "                  'Venue Latitude', \n",
    "                  'Venue Longitude', \n",
    "                  'Venue Category']\n",
    "    \n",
    "    return(nearby_venues)"
   ]
  },
  {
   "cell_type": "markdown",
   "metadata": {},
   "source": [
    "_California venues dataframe_"
   ]
  },
  {
   "cell_type": "code",
   "execution_count": 59,
   "metadata": {},
   "outputs": [],
   "source": [
    "California_venues = getNearbyVenues(names=final_df['City'],\n",
    "                                   latitudes=final_df['Latitude'],\n",
    "                                   longitudes=final_df['Longitude'])"
   ]
  },
  {
   "cell_type": "code",
   "execution_count": 60,
   "metadata": {},
   "outputs": [
    {
     "data": {
      "text/plain": [
       "array(['Bakersfield', 'Fresno', 'Los Angeles', 'Oakland', 'Redding',\n",
       "       'Riverside', 'Sacramento', 'San Bernardino', 'San Diego',\n",
       "       'San Jose', 'Stockton', 'Thousand Oaks'], dtype=object)"
      ]
     },
     "execution_count": 60,
     "metadata": {},
     "output_type": "execute_result"
    }
   ],
   "source": [
    "analyzed_cities=California_venues['City'].unique()\n",
    "analyzed_cities"
   ]
  },
  {
   "cell_type": "markdown",
   "metadata": {},
   "source": [
    "_Number of venues in California final_df, grouped by City_"
   ]
  },
  {
   "cell_type": "code",
   "execution_count": 61,
   "metadata": {},
   "outputs": [
    {
     "name": "stdout",
     "output_type": "stream",
     "text": [
      "There are 76 uniques categories.\n"
     ]
    }
   ],
   "source": [
    "California_venues.groupby('City').count()\n",
    "print('There are {} uniques categories.'.format(len(California_venues['Venue Category'].unique())))"
   ]
  },
  {
   "cell_type": "markdown",
   "metadata": {},
   "source": [
    "_New data frame with the different venue categories as columns, and rows=cities **GROUPED BY CITY**_"
   ]
  },
  {
   "cell_type": "code",
   "execution_count": 62,
   "metadata": {},
   "outputs": [],
   "source": [
    "cal_onehot = pd.get_dummies(California_venues[['Venue Category']], prefix=\"\", prefix_sep=\"\")\n",
    "cal_onehot['City'] = California_venues['City'] \n",
    "fixed_columns = [cal_onehot.columns[-1]] + list(cal_onehot.columns[:-1])\n",
    "cal_onehot = cal_onehot[fixed_columns]\n",
    "cal_grouped = cal_onehot.groupby('City').mean().reset_index() ### grouped by city"
   ]
  },
  {
   "cell_type": "code",
   "execution_count": 63,
   "metadata": {},
   "outputs": [],
   "source": [
    "def return_most_common_venues(row, num_top_venues):\n",
    "    row_categories = row.iloc[1:]\n",
    "    row_categories_sorted = row_categories.sort_values(ascending=False)\n",
    "    \n",
    "    return row_categories_sorted.index.values[0:num_top_venues]"
   ]
  },
  {
   "cell_type": "markdown",
   "metadata": {},
   "source": [
    "_new dataframe with the top 10 venues for each City (sorted in descending order)_"
   ]
  },
  {
   "cell_type": "code",
   "execution_count": 64,
   "metadata": {},
   "outputs": [
    {
     "data": {
      "text/html": [
       "<div>\n",
       "<style scoped>\n",
       "    .dataframe tbody tr th:only-of-type {\n",
       "        vertical-align: middle;\n",
       "    }\n",
       "\n",
       "    .dataframe tbody tr th {\n",
       "        vertical-align: top;\n",
       "    }\n",
       "\n",
       "    .dataframe thead th {\n",
       "        text-align: right;\n",
       "    }\n",
       "</style>\n",
       "<table border=\"1\" class=\"dataframe\">\n",
       "  <thead>\n",
       "    <tr style=\"text-align: right;\">\n",
       "      <th></th>\n",
       "      <th>City</th>\n",
       "      <th>1st Most Common Venue</th>\n",
       "      <th>2nd Most Common Venue</th>\n",
       "      <th>3rd Most Common Venue</th>\n",
       "      <th>4th Most Common Venue</th>\n",
       "      <th>5th Most Common Venue</th>\n",
       "      <th>6th Most Common Venue</th>\n",
       "      <th>7th Most Common Venue</th>\n",
       "      <th>8th Most Common Venue</th>\n",
       "      <th>9th Most Common Venue</th>\n",
       "      <th>10th Most Common Venue</th>\n",
       "    </tr>\n",
       "  </thead>\n",
       "  <tbody>\n",
       "    <tr>\n",
       "      <th>0</th>\n",
       "      <td>Bakersfield</td>\n",
       "      <td>Health &amp; Beauty Service</td>\n",
       "      <td>Mexican Restaurant</td>\n",
       "      <td>Pizza Place</td>\n",
       "      <td>Hot Dog Joint</td>\n",
       "      <td>Gym / Fitness Center</td>\n",
       "      <td>Grocery Store</td>\n",
       "      <td>Gastropub</td>\n",
       "      <td>Gas Station</td>\n",
       "      <td>Gymnastics Gym</td>\n",
       "      <td>Furniture / Home Store</td>\n",
       "    </tr>\n",
       "    <tr>\n",
       "      <th>1</th>\n",
       "      <td>Fresno</td>\n",
       "      <td>Mexican Restaurant</td>\n",
       "      <td>Mobile Phone Shop</td>\n",
       "      <td>Chinese Restaurant</td>\n",
       "      <td>Hardware Store</td>\n",
       "      <td>Fast Food Restaurant</td>\n",
       "      <td>Cosmetics Shop</td>\n",
       "      <td>Pizza Place</td>\n",
       "      <td>Coffee Shop</td>\n",
       "      <td>Donut Shop</td>\n",
       "      <td>Sandwich Place</td>\n",
       "    </tr>\n",
       "    <tr>\n",
       "      <th>2</th>\n",
       "      <td>Los Angeles</td>\n",
       "      <td>Playground</td>\n",
       "      <td>Trail</td>\n",
       "      <td>Fast Food Restaurant</td>\n",
       "      <td>Cycle Studio</td>\n",
       "      <td>Dance Studio</td>\n",
       "      <td>Deli / Bodega</td>\n",
       "      <td>Dessert Shop</td>\n",
       "      <td>Diner</td>\n",
       "      <td>Donut Shop</td>\n",
       "      <td>Falafel Restaurant</td>\n",
       "    </tr>\n",
       "    <tr>\n",
       "      <th>3</th>\n",
       "      <td>Oakland</td>\n",
       "      <td>Mexican Restaurant</td>\n",
       "      <td>Café</td>\n",
       "      <td>Furniture / Home Store</td>\n",
       "      <td>Yoga Studio</td>\n",
       "      <td>Gymnastics Gym</td>\n",
       "      <td>Intersection</td>\n",
       "      <td>Gym / Fitness Center</td>\n",
       "      <td>Grocery Store</td>\n",
       "      <td>Gas Station</td>\n",
       "      <td>Fast Food Restaurant</td>\n",
       "    </tr>\n",
       "    <tr>\n",
       "      <th>4</th>\n",
       "      <td>Redding</td>\n",
       "      <td>American Restaurant</td>\n",
       "      <td>Pizza Place</td>\n",
       "      <td>Burrito Place</td>\n",
       "      <td>Rental Car Location</td>\n",
       "      <td>Dessert Shop</td>\n",
       "      <td>Sushi Restaurant</td>\n",
       "      <td>Storage Facility</td>\n",
       "      <td>Automotive Shop</td>\n",
       "      <td>Gas Station</td>\n",
       "      <td>Sports Bar</td>\n",
       "    </tr>\n",
       "    <tr>\n",
       "      <th>5</th>\n",
       "      <td>Riverside</td>\n",
       "      <td>Convenience Store</td>\n",
       "      <td>Video Store</td>\n",
       "      <td>Comic Shop</td>\n",
       "      <td>Fast Food Restaurant</td>\n",
       "      <td>Dance Studio</td>\n",
       "      <td>Deli / Bodega</td>\n",
       "      <td>Dessert Shop</td>\n",
       "      <td>Diner</td>\n",
       "      <td>Donut Shop</td>\n",
       "      <td>Falafel Restaurant</td>\n",
       "    </tr>\n",
       "    <tr>\n",
       "      <th>6</th>\n",
       "      <td>Sacramento</td>\n",
       "      <td>Coffee Shop</td>\n",
       "      <td>Mexican Restaurant</td>\n",
       "      <td>Sushi Restaurant</td>\n",
       "      <td>Burger Joint</td>\n",
       "      <td>Italian Restaurant</td>\n",
       "      <td>Hotel</td>\n",
       "      <td>Gym / Fitness Center</td>\n",
       "      <td>Modern European Restaurant</td>\n",
       "      <td>Mobile Phone Shop</td>\n",
       "      <td>Lounge</td>\n",
       "    </tr>\n",
       "    <tr>\n",
       "      <th>7</th>\n",
       "      <td>San Bernardino</td>\n",
       "      <td>Fried Chicken Joint</td>\n",
       "      <td>Convenience Store</td>\n",
       "      <td>Mexican Restaurant</td>\n",
       "      <td>Burger Joint</td>\n",
       "      <td>Fast Food Restaurant</td>\n",
       "      <td>Yoga Studio</td>\n",
       "      <td>Deli / Bodega</td>\n",
       "      <td>Dessert Shop</td>\n",
       "      <td>Diner</td>\n",
       "      <td>Donut Shop</td>\n",
       "    </tr>\n",
       "    <tr>\n",
       "      <th>8</th>\n",
       "      <td>San Diego</td>\n",
       "      <td>Dance Studio</td>\n",
       "      <td>Deli / Bodega</td>\n",
       "      <td>Clothing Store</td>\n",
       "      <td>Cajun / Creole Restaurant</td>\n",
       "      <td>Cycle Studio</td>\n",
       "      <td>Dessert Shop</td>\n",
       "      <td>Diner</td>\n",
       "      <td>Donut Shop</td>\n",
       "      <td>Falafel Restaurant</td>\n",
       "      <td>Fast Food Restaurant</td>\n",
       "    </tr>\n",
       "    <tr>\n",
       "      <th>9</th>\n",
       "      <td>San Jose</td>\n",
       "      <td>Athletics &amp; Sports</td>\n",
       "      <td>Plaza</td>\n",
       "      <td>Kids Store</td>\n",
       "      <td>Mexican Restaurant</td>\n",
       "      <td>Yoga Studio</td>\n",
       "      <td>Fast Food Restaurant</td>\n",
       "      <td>Deli / Bodega</td>\n",
       "      <td>Dessert Shop</td>\n",
       "      <td>Diner</td>\n",
       "      <td>Donut Shop</td>\n",
       "    </tr>\n",
       "    <tr>\n",
       "      <th>10</th>\n",
       "      <td>Stockton</td>\n",
       "      <td>Skate Park</td>\n",
       "      <td>Thai Restaurant</td>\n",
       "      <td>Pub</td>\n",
       "      <td>Movie Theater</td>\n",
       "      <td>Falafel Restaurant</td>\n",
       "      <td>Concert Hall</td>\n",
       "      <td>Grocery Store</td>\n",
       "      <td>Video Store</td>\n",
       "      <td>Gastropub</td>\n",
       "      <td>Gas Station</td>\n",
       "    </tr>\n",
       "    <tr>\n",
       "      <th>11</th>\n",
       "      <td>Thousand Oaks</td>\n",
       "      <td>Grocery Store</td>\n",
       "      <td>Bowling Alley</td>\n",
       "      <td>Yoga Studio</td>\n",
       "      <td>Fried Chicken Joint</td>\n",
       "      <td>Deli / Bodega</td>\n",
       "      <td>Dessert Shop</td>\n",
       "      <td>Diner</td>\n",
       "      <td>Donut Shop</td>\n",
       "      <td>Falafel Restaurant</td>\n",
       "      <td>Fast Food Restaurant</td>\n",
       "    </tr>\n",
       "  </tbody>\n",
       "</table>\n",
       "</div>"
      ],
      "text/plain": [
       "              City    1st Most Common Venue 2nd Most Common Venue  \\\n",
       "0      Bakersfield  Health & Beauty Service    Mexican Restaurant   \n",
       "1           Fresno       Mexican Restaurant     Mobile Phone Shop   \n",
       "2      Los Angeles               Playground                 Trail   \n",
       "3          Oakland       Mexican Restaurant                  Café   \n",
       "4          Redding      American Restaurant           Pizza Place   \n",
       "5        Riverside        Convenience Store           Video Store   \n",
       "6       Sacramento              Coffee Shop    Mexican Restaurant   \n",
       "7   San Bernardino      Fried Chicken Joint     Convenience Store   \n",
       "8        San Diego             Dance Studio         Deli / Bodega   \n",
       "9         San Jose       Athletics & Sports                 Plaza   \n",
       "10        Stockton               Skate Park       Thai Restaurant   \n",
       "11   Thousand Oaks            Grocery Store         Bowling Alley   \n",
       "\n",
       "     3rd Most Common Venue      4th Most Common Venue 5th Most Common Venue  \\\n",
       "0              Pizza Place              Hot Dog Joint  Gym / Fitness Center   \n",
       "1       Chinese Restaurant             Hardware Store  Fast Food Restaurant   \n",
       "2     Fast Food Restaurant               Cycle Studio          Dance Studio   \n",
       "3   Furniture / Home Store                Yoga Studio        Gymnastics Gym   \n",
       "4            Burrito Place        Rental Car Location          Dessert Shop   \n",
       "5               Comic Shop       Fast Food Restaurant          Dance Studio   \n",
       "6         Sushi Restaurant               Burger Joint    Italian Restaurant   \n",
       "7       Mexican Restaurant               Burger Joint  Fast Food Restaurant   \n",
       "8           Clothing Store  Cajun / Creole Restaurant          Cycle Studio   \n",
       "9               Kids Store         Mexican Restaurant           Yoga Studio   \n",
       "10                     Pub              Movie Theater    Falafel Restaurant   \n",
       "11             Yoga Studio        Fried Chicken Joint         Deli / Bodega   \n",
       "\n",
       "   6th Most Common Venue 7th Most Common Venue       8th Most Common Venue  \\\n",
       "0          Grocery Store             Gastropub                 Gas Station   \n",
       "1         Cosmetics Shop           Pizza Place                 Coffee Shop   \n",
       "2          Deli / Bodega          Dessert Shop                       Diner   \n",
       "3           Intersection  Gym / Fitness Center               Grocery Store   \n",
       "4       Sushi Restaurant      Storage Facility             Automotive Shop   \n",
       "5          Deli / Bodega          Dessert Shop                       Diner   \n",
       "6                  Hotel  Gym / Fitness Center  Modern European Restaurant   \n",
       "7            Yoga Studio         Deli / Bodega                Dessert Shop   \n",
       "8           Dessert Shop                 Diner                  Donut Shop   \n",
       "9   Fast Food Restaurant         Deli / Bodega                Dessert Shop   \n",
       "10          Concert Hall         Grocery Store                 Video Store   \n",
       "11          Dessert Shop                 Diner                  Donut Shop   \n",
       "\n",
       "   9th Most Common Venue  10th Most Common Venue  \n",
       "0         Gymnastics Gym  Furniture / Home Store  \n",
       "1             Donut Shop          Sandwich Place  \n",
       "2             Donut Shop      Falafel Restaurant  \n",
       "3            Gas Station    Fast Food Restaurant  \n",
       "4            Gas Station              Sports Bar  \n",
       "5             Donut Shop      Falafel Restaurant  \n",
       "6      Mobile Phone Shop                  Lounge  \n",
       "7                  Diner              Donut Shop  \n",
       "8     Falafel Restaurant    Fast Food Restaurant  \n",
       "9                  Diner              Donut Shop  \n",
       "10             Gastropub             Gas Station  \n",
       "11    Falafel Restaurant    Fast Food Restaurant  "
      ]
     },
     "execution_count": 64,
     "metadata": {},
     "output_type": "execute_result"
    }
   ],
   "source": [
    "num_top_venues = 10\n",
    "\n",
    "indicators = ['st', 'nd', 'rd']\n",
    "\n",
    "# create columns according to number of top venues\n",
    "columns = ['City']\n",
    "for ind in np.arange(num_top_venues):\n",
    "    try:\n",
    "        columns.append('{}{} Most Common Venue'.format(ind+1, indicators[ind]))\n",
    "    except:\n",
    "        columns.append('{}th Most Common Venue'.format(ind+1))\n",
    "\n",
    "# create a new dataframe\n",
    "cities_venues_sorted = pd.DataFrame(columns=columns)\n",
    "cities_venues_sorted['City'] = cal_grouped['City']\n",
    "\n",
    "for ind in np.arange(cal_grouped.shape[0]):\n",
    "    cities_venues_sorted.iloc[ind, 1:] = return_most_common_venues(cal_grouped.iloc[ind, :], num_top_venues)\n",
    "\n",
    "cities_venues_sorted"
   ]
  },
  {
   "cell_type": "markdown",
   "metadata": {},
   "source": [
    "_list of different venues_"
   ]
  },
  {
   "cell_type": "code",
   "execution_count": 65,
   "metadata": {},
   "outputs": [
    {
     "name": "stdout",
     "output_type": "stream",
     "text": [
      "['Hot Dog Joint', 'Pizza Place', 'Mexican Restaurant', 'Health & Beauty Service', 'Coffee Shop', 'Mexican Restaurant', 'Burger Joint', 'Movie Theater', 'Breakfast Spot', 'Mexican Restaurant', 'Fried Chicken Joint', 'Cosmetics Shop', 'Mobile Phone Shop', 'Chinese Restaurant', 'Mobile Phone Shop', 'Shopping Mall', 'Chinese Restaurant', 'Fast Food Restaurant', 'Steakhouse', 'Donut Shop', 'Pizza Place', 'Hardware Store', 'Sandwich Place', 'Mexican Restaurant', 'Playground', 'Trail', 'Mexican Restaurant', 'Vegetarian / Vegan Restaurant', 'Yoga Studio', 'Mexican Restaurant', 'Mexican Restaurant', 'Grocery Store', 'Mexican Restaurant', 'Gym / Fitness Center', 'Thai Restaurant', 'Hardware Store', 'Intersection', 'Furniture / Home Store', 'Gas Station', 'Furniture / Home Store', 'Fast Food Restaurant', 'Gymnastics Gym', 'Café', 'Café', 'Sushi Restaurant', 'American Restaurant', 'Storage Facility', 'Pizza Place', 'Pizza Place', 'Rental Car Location', 'Automotive Shop', 'Gas Station', 'Mexican Restaurant', 'Sports Bar', 'Burrito Place', 'Chinese Restaurant', 'Dessert Shop', 'American Restaurant', 'Breakfast Spot', 'Comic Shop', 'Video Store', 'Convenience Store', 'Convenience Store', 'American Restaurant', 'Italian Restaurant', 'Cycle Studio', 'Sushi Restaurant', 'Japanese Restaurant', 'Mexican Restaurant', 'Italian Restaurant', 'Coffee Shop', 'Coffee Shop', 'Juice Bar', 'Modern European Restaurant', 'Mexican Restaurant', 'New American Restaurant', 'Sushi Restaurant', 'Coffee Shop', 'Coffee Shop', 'Vietnamese Restaurant', 'Burger Joint', 'Music Venue', 'Salon / Barbershop', 'Moroccan Restaurant', 'Nightclub', 'Bar', 'Diner', 'Gym / Fitness Center', 'Bank', 'Gastropub', 'Pizza Place', 'Breakfast Spot', 'Mobile Phone Shop', 'Fast Food Restaurant', 'Chinese Restaurant', 'Lounge', 'State / Provincial Park', 'Shipping Store', 'Pharmacy', 'Park', 'Hotel', 'Fried Chicken Joint', 'Burger Joint', 'Health & Beauty Service', 'Optical Shop', 'Boutique', 'Burger Joint', 'Fast Food Restaurant', 'Convenience Store', 'Fried Chicken Joint', 'Mexican Restaurant', 'Cajun / Creole Restaurant', 'Deli / Bodega', 'Clothing Store', 'Dance Studio', 'Mexican Restaurant', 'Plaza', 'Kids Store', 'Athletics & Sports', 'Thai Restaurant', 'Concert Hall', 'Video Store', 'Movie Theater', 'Pub', 'Grocery Store', 'Skate Park', 'Falafel Restaurant', 'Grocery Store', 'Bowling Alley']\n"
     ]
    }
   ],
   "source": [
    "Venues=[]\n",
    "for row in California_venues['Venue Category']:\n",
    "    Venues.append(row)\n",
    "print(Venues)"
   ]
  },
  {
   "cell_type": "markdown",
   "metadata": {},
   "source": [
    "----------------"
   ]
  },
  {
   "cell_type": "markdown",
   "metadata": {},
   "source": [
    "# RESULTS"
   ]
  },
  {
   "cell_type": "markdown",
   "metadata": {},
   "source": [
    "Before analyzing the data, cities in California state were clustered according to ther air quality characteristics. AQI DATAFRAME was used for k-means clustering (AQI=Air Quality Index). This dataframe **does not** include population density data\n",
    "\n",
    "_Firstly k selection was performed for k-means clustering, using Elbow method (the optimum k value is when the curve changes its shape_"
   ]
  },
  {
   "cell_type": "code",
   "execution_count": 66,
   "metadata": {},
   "outputs": [],
   "source": [
    "aqi_k_df= final_df[['City','G%','M%','USG%','U%','VU%']].copy()\n",
    "aqi_k_df=aqi_k_df.loc[aqi_k_df['City'].isin(analyzed_cities)]\n",
    "aqi_k_df.reset_index(drop=True, inplace=True)"
   ]
  },
  {
   "cell_type": "markdown",
   "metadata": {},
   "source": [
    "_Calculation of Sum of Squared Distances_"
   ]
  },
  {
   "cell_type": "code",
   "execution_count": 67,
   "metadata": {},
   "outputs": [],
   "source": [
    "aqi_k_df1 = aqi_k_df.drop('City', 1)\n",
    "Sum_of_squared_distances = []\n",
    "K = range(1,12)\n",
    "for k in K:\n",
    "    km = KMeans(n_clusters=k)\n",
    "    km = km.fit(aqi_k_df1)\n",
    "    Sum_of_squared_distances.append(km.inertia_)"
   ]
  },
  {
   "cell_type": "markdown",
   "metadata": {},
   "source": [
    "_SSD plot_"
   ]
  },
  {
   "cell_type": "code",
   "execution_count": 68,
   "metadata": {},
   "outputs": [
    {
     "data": {
      "image/png": "[encoded data removed]",
      "text/plain": [
       "<Figure size 432x288 with 1 Axes>"
      ]
     },
     "metadata": {
      "needs_background": "light"
     },
     "output_type": "display_data"
    }
   ],
   "source": [
    "plt.plot(K, Sum_of_squared_distances, 'bx-')\n",
    "plt.xlabel('k')\n",
    "plt.ylabel('Sum_of_squared_distances')\n",
    "plt.title('Elbow Method For Optimal k')\n",
    "plt.arrow(2, -0.05, 0, 0.2, width=0.05, head_width=0.25, head_length=0.05, shape='full', color='red')\n",
    "plt.show()"
   ]
  },
  {
   "cell_type": "markdown",
   "metadata": {},
   "source": [
    "***k selected for analysis= 2** (marked in red)"
   ]
  },
  {
   "cell_type": "code",
   "execution_count": 69,
   "metadata": {},
   "outputs": [
    {
     "data": {
      "text/plain": [
       "array([1, 1, 1, 0, 0, 1, 1, 1, 1, 0], dtype=int32)"
      ]
     },
     "execution_count": 69,
     "metadata": {},
     "output_type": "execute_result"
    }
   ],
   "source": [
    "# set number of clusters\n",
    "kclusters = 2\n",
    "# run k-means clustering\n",
    "kmeans = KMeans(n_clusters=kclusters, random_state=0).fit(aqi_k_df1)\n",
    "# check cluster labels generated for each row in the dataframe\n",
    "kmeans.labels_[0:10] "
   ]
  },
  {
   "cell_type": "markdown",
   "metadata": {},
   "source": [
    "_New dataframe that includes the cluster id as well as the top 10 venues for each neighborhood_"
   ]
  },
  {
   "cell_type": "code",
   "execution_count": 70,
   "metadata": {},
   "outputs": [],
   "source": [
    "final=final_df.loc[final_df['City'].isin(analyzed_cities)]\n",
    "final.reset_index(drop=True, inplace=True)\n"
   ]
  },
  {
   "cell_type": "code",
   "execution_count": 71,
   "metadata": {},
   "outputs": [
    {
     "data": {
      "text/html": [
       "<div>\n",
       "<style scoped>\n",
       "    .dataframe tbody tr th:only-of-type {\n",
       "        vertical-align: middle;\n",
       "    }\n",
       "\n",
       "    .dataframe tbody tr th {\n",
       "        vertical-align: top;\n",
       "    }\n",
       "\n",
       "    .dataframe thead th {\n",
       "        text-align: right;\n",
       "    }\n",
       "</style>\n",
       "<table border=\"1\" class=\"dataframe\">\n",
       "  <thead>\n",
       "    <tr style=\"text-align: right;\">\n",
       "      <th></th>\n",
       "      <th>City</th>\n",
       "      <th>Latitude</th>\n",
       "      <th>Longitude</th>\n",
       "      <th>Population density</th>\n",
       "      <th>G%</th>\n",
       "      <th>M%</th>\n",
       "      <th>USG%</th>\n",
       "      <th>U%</th>\n",
       "      <th>VU%</th>\n",
       "      <th>Cluster Labels</th>\n",
       "      <th>1st Most Common Venue</th>\n",
       "      <th>2nd Most Common Venue</th>\n",
       "      <th>3rd Most Common Venue</th>\n",
       "      <th>4th Most Common Venue</th>\n",
       "      <th>5th Most Common Venue</th>\n",
       "      <th>6th Most Common Venue</th>\n",
       "      <th>7th Most Common Venue</th>\n",
       "      <th>8th Most Common Venue</th>\n",
       "      <th>9th Most Common Venue</th>\n",
       "      <th>10th Most Common Venue</th>\n",
       "    </tr>\n",
       "  </thead>\n",
       "  <tbody>\n",
       "    <tr>\n",
       "      <th>0</th>\n",
       "      <td>Bakersfield</td>\n",
       "      <td>35.35</td>\n",
       "      <td>-119.03</td>\n",
       "      <td>2565.584719</td>\n",
       "      <td>0.326027</td>\n",
       "      <td>0.413699</td>\n",
       "      <td>0.238356</td>\n",
       "      <td>0.016438</td>\n",
       "      <td>0.005479</td>\n",
       "      <td>1</td>\n",
       "      <td>Health &amp; Beauty Service</td>\n",
       "      <td>Mexican Restaurant</td>\n",
       "      <td>Pizza Place</td>\n",
       "      <td>Hot Dog Joint</td>\n",
       "      <td>Gym / Fitness Center</td>\n",
       "      <td>Grocery Store</td>\n",
       "      <td>Gastropub</td>\n",
       "      <td>Gas Station</td>\n",
       "      <td>Gymnastics Gym</td>\n",
       "      <td>Furniture / Home Store</td>\n",
       "    </tr>\n",
       "    <tr>\n",
       "      <th>1</th>\n",
       "      <td>Fresno</td>\n",
       "      <td>36.78</td>\n",
       "      <td>-119.79</td>\n",
       "      <td>4750.455764</td>\n",
       "      <td>0.380822</td>\n",
       "      <td>0.438356</td>\n",
       "      <td>0.175342</td>\n",
       "      <td>0.005479</td>\n",
       "      <td>0.000000</td>\n",
       "      <td>1</td>\n",
       "      <td>Mexican Restaurant</td>\n",
       "      <td>Mobile Phone Shop</td>\n",
       "      <td>Chinese Restaurant</td>\n",
       "      <td>Hardware Store</td>\n",
       "      <td>Fast Food Restaurant</td>\n",
       "      <td>Cosmetics Shop</td>\n",
       "      <td>Pizza Place</td>\n",
       "      <td>Coffee Shop</td>\n",
       "      <td>Donut Shop</td>\n",
       "      <td>Sandwich Place</td>\n",
       "    </tr>\n",
       "    <tr>\n",
       "      <th>2</th>\n",
       "      <td>Los Angeles</td>\n",
       "      <td>34.11</td>\n",
       "      <td>-118.41</td>\n",
       "      <td>8490.546192</td>\n",
       "      <td>0.180822</td>\n",
       "      <td>0.569863</td>\n",
       "      <td>0.169863</td>\n",
       "      <td>0.076712</td>\n",
       "      <td>0.002740</td>\n",
       "      <td>1</td>\n",
       "      <td>Playground</td>\n",
       "      <td>Trail</td>\n",
       "      <td>Fast Food Restaurant</td>\n",
       "      <td>Cycle Studio</td>\n",
       "      <td>Dance Studio</td>\n",
       "      <td>Deli / Bodega</td>\n",
       "      <td>Dessert Shop</td>\n",
       "      <td>Diner</td>\n",
       "      <td>Donut Shop</td>\n",
       "      <td>Falafel Restaurant</td>\n",
       "    </tr>\n",
       "    <tr>\n",
       "      <th>3</th>\n",
       "      <td>Oakland</td>\n",
       "      <td>37.77</td>\n",
       "      <td>-122.22</td>\n",
       "      <td>7760.412186</td>\n",
       "      <td>0.695890</td>\n",
       "      <td>0.279452</td>\n",
       "      <td>0.024658</td>\n",
       "      <td>0.000000</td>\n",
       "      <td>0.000000</td>\n",
       "      <td>0</td>\n",
       "      <td>Mexican Restaurant</td>\n",
       "      <td>Café</td>\n",
       "      <td>Furniture / Home Store</td>\n",
       "      <td>Yoga Studio</td>\n",
       "      <td>Gymnastics Gym</td>\n",
       "      <td>Intersection</td>\n",
       "      <td>Gym / Fitness Center</td>\n",
       "      <td>Grocery Store</td>\n",
       "      <td>Gas Station</td>\n",
       "      <td>Fast Food Restaurant</td>\n",
       "    </tr>\n",
       "    <tr>\n",
       "      <th>4</th>\n",
       "      <td>Redding</td>\n",
       "      <td>40.57</td>\n",
       "      <td>-122.37</td>\n",
       "      <td>1553.523490</td>\n",
       "      <td>0.854396</td>\n",
       "      <td>0.145604</td>\n",
       "      <td>0.000000</td>\n",
       "      <td>0.000000</td>\n",
       "      <td>0.000000</td>\n",
       "      <td>0</td>\n",
       "      <td>American Restaurant</td>\n",
       "      <td>Pizza Place</td>\n",
       "      <td>Burrito Place</td>\n",
       "      <td>Rental Car Location</td>\n",
       "      <td>Dessert Shop</td>\n",
       "      <td>Sushi Restaurant</td>\n",
       "      <td>Storage Facility</td>\n",
       "      <td>Automotive Shop</td>\n",
       "      <td>Gas Station</td>\n",
       "      <td>Sports Bar</td>\n",
       "    </tr>\n",
       "  </tbody>\n",
       "</table>\n",
       "</div>"
      ],
      "text/plain": [
       "          City  Latitude  Longitude  Population density        G%        M%  \\\n",
       "0  Bakersfield     35.35    -119.03         2565.584719  0.326027  0.413699   \n",
       "1       Fresno     36.78    -119.79         4750.455764  0.380822  0.438356   \n",
       "2  Los Angeles     34.11    -118.41         8490.546192  0.180822  0.569863   \n",
       "3      Oakland     37.77    -122.22         7760.412186  0.695890  0.279452   \n",
       "4      Redding     40.57    -122.37         1553.523490  0.854396  0.145604   \n",
       "\n",
       "       USG%        U%       VU%  Cluster Labels    1st Most Common Venue  \\\n",
       "0  0.238356  0.016438  0.005479               1  Health & Beauty Service   \n",
       "1  0.175342  0.005479  0.000000               1       Mexican Restaurant   \n",
       "2  0.169863  0.076712  0.002740               1               Playground   \n",
       "3  0.024658  0.000000  0.000000               0       Mexican Restaurant   \n",
       "4  0.000000  0.000000  0.000000               0      American Restaurant   \n",
       "\n",
       "  2nd Most Common Venue   3rd Most Common Venue 4th Most Common Venue  \\\n",
       "0    Mexican Restaurant             Pizza Place         Hot Dog Joint   \n",
       "1     Mobile Phone Shop      Chinese Restaurant        Hardware Store   \n",
       "2                 Trail    Fast Food Restaurant          Cycle Studio   \n",
       "3                  Café  Furniture / Home Store           Yoga Studio   \n",
       "4           Pizza Place           Burrito Place   Rental Car Location   \n",
       "\n",
       "  5th Most Common Venue 6th Most Common Venue 7th Most Common Venue  \\\n",
       "0  Gym / Fitness Center         Grocery Store             Gastropub   \n",
       "1  Fast Food Restaurant        Cosmetics Shop           Pizza Place   \n",
       "2          Dance Studio         Deli / Bodega          Dessert Shop   \n",
       "3        Gymnastics Gym          Intersection  Gym / Fitness Center   \n",
       "4          Dessert Shop      Sushi Restaurant      Storage Facility   \n",
       "\n",
       "  8th Most Common Venue 9th Most Common Venue  10th Most Common Venue  \n",
       "0           Gas Station        Gymnastics Gym  Furniture / Home Store  \n",
       "1           Coffee Shop            Donut Shop          Sandwich Place  \n",
       "2                 Diner            Donut Shop      Falafel Restaurant  \n",
       "3         Grocery Store           Gas Station    Fast Food Restaurant  \n",
       "4       Automotive Shop           Gas Station              Sports Bar  "
      ]
     },
     "execution_count": 71,
     "metadata": {},
     "output_type": "execute_result"
    }
   ],
   "source": [
    "# add clustering labels\n",
    "cities_venues_sorted.insert(0, 'Cluster Labels', kmeans.labels_)\n",
    "california_merged = final\n",
    "\n",
    "# merge \n",
    "california_merged = california_merged.join(cities_venues_sorted.set_index('City'), on='City')\n",
    "california_merged.head()"
   ]
  },
  {
   "cell_type": "markdown",
   "metadata": {},
   "source": [
    "_Cluster visualization on California map_"
   ]
  },
  {
   "cell_type": "code",
   "execution_count": 73,
   "metadata": {
    "scrolled": false
   },
   "outputs": [
    {
     "data": {
      "text/html": [
       "<div style=\"width:100%;\"><div style=\"position:relative;width:100%;height:0;padding-bottom:60%;\"><span style=\"color:#565656\">Make this Notebook Trusted to load map: File -> Trust Notebook</span><iframe src=\"about:blank\" style=\"position:absolute;width:100%;height:100%;left:0;top:0;border:none !important;\" data-html=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 onload=\"this.contentDocument.open();this.contentDocument.write(atob(this.getAttribute('data-html')));this.contentDocument.close();\" allowfullscreen webkitallowfullscreen mozallowfullscreen></iframe></div></div>"
      ],
      "text/plain": [
       "<folium.folium.Map at 0x7f9b5135a910>"
      ]
     },
     "execution_count": 73,
     "metadata": {},
     "output_type": "execute_result"
    }
   ],
   "source": [
    "# create map\n",
    "map_clusters = folium.Map(location=[latitude, longitude], zoom_start=6)\n",
    "\n",
    "# set color scheme for the clusters\n",
    "x = np.arange(kclusters)\n",
    "ys = [i + x + (i*x)**2 for i in range(kclusters)]\n",
    "colors_array = cm.rainbow(np.linspace(0, 1, len(ys)))\n",
    "rainbow = [colors.rgb2hex(i) for i in colors_array]\n",
    "\n",
    "# add markers to the map\n",
    "markers_colors = []\n",
    "for lat, lon, poi, cluster in zip(california_merged['Latitude'], california_merged['Longitude'], california_merged['City'], california_merged['Cluster Labels']):\n",
    "    label = folium.Popup(str(poi) + ' Cluster ' + str(cluster), parse_html=True)\n",
    "    folium.CircleMarker(\n",
    "        [lat, lon],\n",
    "        radius=5,\n",
    "        popup=label,\n",
    "        color=rainbow[cluster-1],\n",
    "        fill=True,\n",
    "        fill_color=rainbow[cluster-1],\n",
    "        fill_opacity=0.7).add_to(map_clusters)\n",
    "       \n",
    "map_clusters"
   ]
  },
  {
   "cell_type": "markdown",
   "metadata": {},
   "source": [
    "_CLUSTER DATA (C0 AND C1)_"
   ]
  },
  {
   "cell_type": "code",
   "execution_count": 74,
   "metadata": {},
   "outputs": [],
   "source": [
    "c0=california_merged.loc[california_merged['Cluster Labels'] == 0, california_merged.columns[[1] + list(range(3, california_merged.shape[1]))]]"
   ]
  },
  {
   "cell_type": "code",
   "execution_count": 75,
   "metadata": {},
   "outputs": [],
   "source": [
    "c1=california_merged.loc[california_merged['Cluster Labels'] == 1, california_merged.columns[[1] + list(range(3, california_merged.shape[1]))]]"
   ]
  },
  {
   "cell_type": "markdown",
   "metadata": {},
   "source": [
    "_____________\n",
    "# CLUSTER CHARACTERIZATION"
   ]
  },
  {
   "cell_type": "code",
   "execution_count": 76,
   "metadata": {},
   "outputs": [],
   "source": [
    "import seaborn as sns"
   ]
  },
  {
   "cell_type": "code",
   "execution_count": 77,
   "metadata": {},
   "outputs": [
    {
     "data": {
      "text/html": [
       "<div>\n",
       "<style scoped>\n",
       "    .dataframe tbody tr th:only-of-type {\n",
       "        vertical-align: middle;\n",
       "    }\n",
       "\n",
       "    .dataframe tbody tr th {\n",
       "        vertical-align: top;\n",
       "    }\n",
       "\n",
       "    .dataframe thead th {\n",
       "        text-align: right;\n",
       "    }\n",
       "</style>\n",
       "<table border=\"1\" class=\"dataframe\">\n",
       "  <thead>\n",
       "    <tr style=\"text-align: right;\">\n",
       "      <th></th>\n",
       "      <th>City</th>\n",
       "      <th>Latitude</th>\n",
       "      <th>Longitude</th>\n",
       "      <th>Population density</th>\n",
       "      <th>G%</th>\n",
       "      <th>M%</th>\n",
       "      <th>USG%</th>\n",
       "      <th>U%</th>\n",
       "      <th>VU%</th>\n",
       "      <th>Cluster Labels</th>\n",
       "      <th>1st Most Common Venue</th>\n",
       "      <th>2nd Most Common Venue</th>\n",
       "      <th>3rd Most Common Venue</th>\n",
       "      <th>4th Most Common Venue</th>\n",
       "      <th>5th Most Common Venue</th>\n",
       "      <th>6th Most Common Venue</th>\n",
       "      <th>7th Most Common Venue</th>\n",
       "      <th>8th Most Common Venue</th>\n",
       "      <th>9th Most Common Venue</th>\n",
       "      <th>10th Most Common Venue</th>\n",
       "    </tr>\n",
       "  </thead>\n",
       "  <tbody>\n",
       "    <tr>\n",
       "      <th>0</th>\n",
       "      <td>Bakersfield</td>\n",
       "      <td>35.35</td>\n",
       "      <td>-119.03</td>\n",
       "      <td>2565.584719</td>\n",
       "      <td>0.326027</td>\n",
       "      <td>0.413699</td>\n",
       "      <td>0.238356</td>\n",
       "      <td>0.016438</td>\n",
       "      <td>0.005479</td>\n",
       "      <td>1</td>\n",
       "      <td>Health &amp; Beauty Service</td>\n",
       "      <td>Mexican Restaurant</td>\n",
       "      <td>Pizza Place</td>\n",
       "      <td>Hot Dog Joint</td>\n",
       "      <td>Gym / Fitness Center</td>\n",
       "      <td>Grocery Store</td>\n",
       "      <td>Gastropub</td>\n",
       "      <td>Gas Station</td>\n",
       "      <td>Gymnastics Gym</td>\n",
       "      <td>Furniture / Home Store</td>\n",
       "    </tr>\n",
       "    <tr>\n",
       "      <th>1</th>\n",
       "      <td>Fresno</td>\n",
       "      <td>36.78</td>\n",
       "      <td>-119.79</td>\n",
       "      <td>4750.455764</td>\n",
       "      <td>0.380822</td>\n",
       "      <td>0.438356</td>\n",
       "      <td>0.175342</td>\n",
       "      <td>0.005479</td>\n",
       "      <td>0.000000</td>\n",
       "      <td>1</td>\n",
       "      <td>Mexican Restaurant</td>\n",
       "      <td>Mobile Phone Shop</td>\n",
       "      <td>Chinese Restaurant</td>\n",
       "      <td>Hardware Store</td>\n",
       "      <td>Fast Food Restaurant</td>\n",
       "      <td>Cosmetics Shop</td>\n",
       "      <td>Pizza Place</td>\n",
       "      <td>Coffee Shop</td>\n",
       "      <td>Donut Shop</td>\n",
       "      <td>Sandwich Place</td>\n",
       "    </tr>\n",
       "    <tr>\n",
       "      <th>2</th>\n",
       "      <td>Los Angeles</td>\n",
       "      <td>34.11</td>\n",
       "      <td>-118.41</td>\n",
       "      <td>8490.546192</td>\n",
       "      <td>0.180822</td>\n",
       "      <td>0.569863</td>\n",
       "      <td>0.169863</td>\n",
       "      <td>0.076712</td>\n",
       "      <td>0.002740</td>\n",
       "      <td>1</td>\n",
       "      <td>Playground</td>\n",
       "      <td>Trail</td>\n",
       "      <td>Fast Food Restaurant</td>\n",
       "      <td>Cycle Studio</td>\n",
       "      <td>Dance Studio</td>\n",
       "      <td>Deli / Bodega</td>\n",
       "      <td>Dessert Shop</td>\n",
       "      <td>Diner</td>\n",
       "      <td>Donut Shop</td>\n",
       "      <td>Falafel Restaurant</td>\n",
       "    </tr>\n",
       "    <tr>\n",
       "      <th>3</th>\n",
       "      <td>Oakland</td>\n",
       "      <td>37.77</td>\n",
       "      <td>-122.22</td>\n",
       "      <td>7760.412186</td>\n",
       "      <td>0.695890</td>\n",
       "      <td>0.279452</td>\n",
       "      <td>0.024658</td>\n",
       "      <td>0.000000</td>\n",
       "      <td>0.000000</td>\n",
       "      <td>0</td>\n",
       "      <td>Mexican Restaurant</td>\n",
       "      <td>Café</td>\n",
       "      <td>Furniture / Home Store</td>\n",
       "      <td>Yoga Studio</td>\n",
       "      <td>Gymnastics Gym</td>\n",
       "      <td>Intersection</td>\n",
       "      <td>Gym / Fitness Center</td>\n",
       "      <td>Grocery Store</td>\n",
       "      <td>Gas Station</td>\n",
       "      <td>Fast Food Restaurant</td>\n",
       "    </tr>\n",
       "    <tr>\n",
       "      <th>4</th>\n",
       "      <td>Redding</td>\n",
       "      <td>40.57</td>\n",
       "      <td>-122.37</td>\n",
       "      <td>1553.523490</td>\n",
       "      <td>0.854396</td>\n",
       "      <td>0.145604</td>\n",
       "      <td>0.000000</td>\n",
       "      <td>0.000000</td>\n",
       "      <td>0.000000</td>\n",
       "      <td>0</td>\n",
       "      <td>American Restaurant</td>\n",
       "      <td>Pizza Place</td>\n",
       "      <td>Burrito Place</td>\n",
       "      <td>Rental Car Location</td>\n",
       "      <td>Dessert Shop</td>\n",
       "      <td>Sushi Restaurant</td>\n",
       "      <td>Storage Facility</td>\n",
       "      <td>Automotive Shop</td>\n",
       "      <td>Gas Station</td>\n",
       "      <td>Sports Bar</td>\n",
       "    </tr>\n",
       "  </tbody>\n",
       "</table>\n",
       "</div>"
      ],
      "text/plain": [
       "          City  Latitude  Longitude  Population density        G%        M%  \\\n",
       "0  Bakersfield     35.35    -119.03         2565.584719  0.326027  0.413699   \n",
       "1       Fresno     36.78    -119.79         4750.455764  0.380822  0.438356   \n",
       "2  Los Angeles     34.11    -118.41         8490.546192  0.180822  0.569863   \n",
       "3      Oakland     37.77    -122.22         7760.412186  0.695890  0.279452   \n",
       "4      Redding     40.57    -122.37         1553.523490  0.854396  0.145604   \n",
       "\n",
       "       USG%        U%       VU%  Cluster Labels    1st Most Common Venue  \\\n",
       "0  0.238356  0.016438  0.005479               1  Health & Beauty Service   \n",
       "1  0.175342  0.005479  0.000000               1       Mexican Restaurant   \n",
       "2  0.169863  0.076712  0.002740               1               Playground   \n",
       "3  0.024658  0.000000  0.000000               0       Mexican Restaurant   \n",
       "4  0.000000  0.000000  0.000000               0      American Restaurant   \n",
       "\n",
       "  2nd Most Common Venue   3rd Most Common Venue 4th Most Common Venue  \\\n",
       "0    Mexican Restaurant             Pizza Place         Hot Dog Joint   \n",
       "1     Mobile Phone Shop      Chinese Restaurant        Hardware Store   \n",
       "2                 Trail    Fast Food Restaurant          Cycle Studio   \n",
       "3                  Café  Furniture / Home Store           Yoga Studio   \n",
       "4           Pizza Place           Burrito Place   Rental Car Location   \n",
       "\n",
       "  5th Most Common Venue 6th Most Common Venue 7th Most Common Venue  \\\n",
       "0  Gym / Fitness Center         Grocery Store             Gastropub   \n",
       "1  Fast Food Restaurant        Cosmetics Shop           Pizza Place   \n",
       "2          Dance Studio         Deli / Bodega          Dessert Shop   \n",
       "3        Gymnastics Gym          Intersection  Gym / Fitness Center   \n",
       "4          Dessert Shop      Sushi Restaurant      Storage Facility   \n",
       "\n",
       "  8th Most Common Venue 9th Most Common Venue  10th Most Common Venue  \n",
       "0           Gas Station        Gymnastics Gym  Furniture / Home Store  \n",
       "1           Coffee Shop            Donut Shop          Sandwich Place  \n",
       "2                 Diner            Donut Shop      Falafel Restaurant  \n",
       "3         Grocery Store           Gas Station    Fast Food Restaurant  \n",
       "4       Automotive Shop           Gas Station              Sports Bar  "
      ]
     },
     "execution_count": 77,
     "metadata": {},
     "output_type": "execute_result"
    }
   ],
   "source": [
    "california_merged.head()"
   ]
  },
  {
   "cell_type": "markdown",
   "metadata": {},
   "source": [
    "#### 1- Population and latitude"
   ]
  },
  {
   "cell_type": "code",
   "execution_count": 78,
   "metadata": {},
   "outputs": [
    {
     "data": {
      "image/png": "[encoded data removed]",
      "text/plain": [
       "<Figure size 720x360 with 2 Axes>"
      ]
     },
     "metadata": {
      "needs_background": "light"
     },
     "output_type": "display_data"
    }
   ],
   "source": [
    "figu, exs = plt.subplots(nrows=1, ncols=2, figsize=(10, 5))\n",
    "plt.subplots_adjust(wspace = 0.5)\n",
    "\n",
    "x= \"Cluster Labels\"\n",
    "y= [\"Population density\",\"Latitude\"]\n",
    "\n",
    "for i in range(0,2):\n",
    "    ex=sns.boxplot(x=\"Cluster Labels\", y=y[i], data=california_merged, whis=np.inf, ax=exs[i])\n",
    "    ex=sns.swarmplot(x=\"Cluster Labels\", y=y[i], data=california_merged, palette='magma', size= 10, edgecolor='black', linewidth=1, ax=exs[i])\n",
    "    ex.set_ylabel('{}'.format(y[i]), size=14)\n",
    "    ex.set_xlabel('Cluster', size=15)\n",
    "    ex.set_title(y[i], size=16)"
   ]
  },
  {
   "cell_type": "markdown",
   "metadata": {},
   "source": [
    "Statistics"
   ]
  },
  {
   "cell_type": "code",
   "execution_count": 79,
   "metadata": {},
   "outputs": [
    {
     "name": "stdout",
     "output_type": "stream",
     "text": [
      "Latitude mean differences between the two groups were analyzed with a t-student (indep) test, and the p value obtained was 0.07319362084644937 \n",
      "\n",
      "Population density mean differences between the two groups were analyzed with a t-student (indep) test, and the p value obtained was 0.8524483530270353\n"
     ]
    }
   ],
   "source": [
    "from scipy.stats import ttest_ind\n",
    "\n",
    "\n",
    "cat1 = california_merged[california_merged['Cluster Labels']==0]\n",
    "cat2 = california_merged[california_merged['Cluster Labels']==1]\n",
    "\n",
    "test1=ttest_ind(cat1['Latitude'], cat2['Latitude'])\n",
    "test2=ttest_ind(cat1['Population density'], cat2['Population density'])\n",
    "\n",
    "\n",
    "print('Latitude mean differences between the two groups were analyzed with a t-student (indep) test, and the p value obtained was {}'.format(test1[1])\n",
    ",'\\n\\nPopulation density mean differences between the two groups were analyzed with a t-student (indep) test, and the p value obtained was {}'.format(test2[1]))"
   ]
  },
  {
   "cell_type": "markdown",
   "metadata": {},
   "source": [
    "##### _Cluster characterization indicated that population density is similar between the two clusters, and that cities clustered in group \"0\" show higher lalitudes in comparison to cities in cluster \"1\"._"
   ]
  },
  {
   "cell_type": "markdown",
   "metadata": {},
   "source": [
    "#### 2- Air quality was analyzed  <span style=\"text-decoration: underline\">within each cluster</span> , and colour-coded markers were used in order to visualize if there was a relation between air quality and population density "
   ]
  },
  {
   "cell_type": "code",
   "execution_count": 80,
   "metadata": {},
   "outputs": [
    {
     "name": "stderr",
     "output_type": "stream",
     "text": [
      "/Users/FR/opt/anaconda3/lib/python3.7/site-packages/matplotlib/cbook/__init__.py:1195: RuntimeWarning: invalid value encountered in double_scalars\n",
      "  loval = q1 - whis * stats['iqr']\n",
      "/Users/FR/opt/anaconda3/lib/python3.7/site-packages/matplotlib/cbook/__init__.py:1196: RuntimeWarning: invalid value encountered in double_scalars\n",
      "  hival = q3 + whis * stats['iqr']\n",
      "/Users/FR/opt/anaconda3/lib/python3.7/site-packages/matplotlib/cbook/__init__.py:1195: RuntimeWarning: invalid value encountered in double_scalars\n",
      "  loval = q1 - whis * stats['iqr']\n",
      "/Users/FR/opt/anaconda3/lib/python3.7/site-packages/matplotlib/cbook/__init__.py:1196: RuntimeWarning: invalid value encountered in double_scalars\n",
      "  hival = q3 + whis * stats['iqr']\n"
     ]
    },
    {
     "data": {
      "text/plain": [
       "Text(0.5, 1.0, 'Population\\n density')"
      ]
     },
     "execution_count": 80,
     "metadata": {},
     "output_type": "execute_result"
    },
    {
     "data": {
      "image/png": "[encoded data removed]",
      "text/plain": [
       "<Figure size 1296x576 with 6 Axes>"
      ]
     },
     "metadata": {
      "needs_background": "light"
     },
     "output_type": "display_data"
    }
   ],
   "source": [
    "fig, axs = plt.subplots(nrows=1, ncols=5, figsize=(18, 8))\n",
    "plt.subplots_adjust(wspace = 0.5)\n",
    "\n",
    "x= \"Cluster Labels\"\n",
    "y= [\"G%\",\"M%\",\"USG%\",\"U%\",\"VU%\"]\n",
    "z=['GOOD','MODERATE','UNHEALTHY FOR \\n SENSITIVE GROUPS','UNHEALTHY','VERY UNHEALTHY']\n",
    "\n",
    "\n",
    "for i in range(0,5):\n",
    "    ax=sns.boxplot(x=\"Cluster Labels\", y=y[i], data=california_merged, whis=np.inf, ax=axs[i])\n",
    "    ax=sns.swarmplot(x=\"Cluster Labels\", y=y[i], data=california_merged, hue=\"Population density\", palette='magma', size= 10, edgecolor='black', linewidth=1, ax=axs[i])\n",
    "    ax.set_ylabel('% {} days (air quality)'.format(z[i]), size=14)\n",
    "    ax.set_xlabel('Cluster', size=15)\n",
    "    ax.set_title(z[i], size=16)\n",
    "    ax.get_legend().remove()\n",
    "    \n",
    "norm = plt.Normalize(california_merged['Population density'].min(),california_merged['Population density'].max())\n",
    "sm = plt.cm.ScalarMappable(cmap=\"magma\", norm=norm)\n",
    "sm.set_array([])\n",
    "cax = fig.add_axes([0.95, 0.14, 0.02, .7])\n",
    "cbar = ax.figure.colorbar(sm, cax=cax)\n",
    "cbar.ax.set_title(\"Population\\n density\")\n",
    " "
   ]
  },
  {
   "cell_type": "markdown",
   "metadata": {},
   "source": [
    "This results indicate that cluster \"0\" has more percentaje of GOOD days, and less percentaje of MODERATE/UNHEALTHY FOR SENSITIVE GROUPS/UNHEALTHY OR VERY UNHEALTHY days, compared to cluster \"1\". Overall, cluster \"0\" seems to have less air pollution than the other cluster.\n",
    "\n",
    "Colour-coded markers were used for each value in the boxplots, where yellow indicated high population density cities and black indicated low population density cities. No clear correlation was observed between air quality and population density in neither of the clusters, for all the air quality categories that were analyzed."
   ]
  },
  {
   "cell_type": "markdown",
   "metadata": {},
   "source": [
    "#### 3- Venues categories in each cluster"
   ]
  },
  {
   "cell_type": "markdown",
   "metadata": {},
   "source": [
    "As mentioned before, there is a discrete number of venues categories in the dataset"
   ]
  },
  {
   "cell_type": "code",
   "execution_count": 81,
   "metadata": {},
   "outputs": [
    {
     "name": "stdout",
     "output_type": "stream",
     "text": [
      "There are 76 uniques categories.\n"
     ]
    }
   ],
   "source": [
    "print('There are {} uniques categories.'.format(len(California_venues['Venue Category'].unique())))"
   ]
  },
  {
   "cell_type": "markdown",
   "metadata": {},
   "source": [
    "A detailed description of each of those categories can be found here:"
   ]
  },
  {
   "cell_type": "code",
   "execution_count": 82,
   "metadata": {},
   "outputs": [
    {
     "data": {
      "text/plain": [
       "['Optical Shop',\n",
       " 'Video Store',\n",
       " 'Steakhouse',\n",
       " 'Italian Restaurant',\n",
       " 'Nightclub',\n",
       " 'Dance Studio',\n",
       " 'Juice Bar',\n",
       " 'Hotel',\n",
       " 'Movie Theater',\n",
       " 'Pharmacy',\n",
       " 'Pub',\n",
       " 'Café',\n",
       " 'Bank',\n",
       " 'Chinese Restaurant',\n",
       " 'Cycle Studio',\n",
       " 'Lounge',\n",
       " 'Gym / Fitness Center',\n",
       " 'Mexican Restaurant',\n",
       " 'Storage Facility',\n",
       " 'American Restaurant',\n",
       " 'Furniture / Home Store',\n",
       " 'Trail',\n",
       " 'Gas Station',\n",
       " 'Automotive Shop',\n",
       " 'Japanese Restaurant',\n",
       " 'Plaza',\n",
       " 'Bowling Alley',\n",
       " 'Hot Dog Joint',\n",
       " 'Sports Bar',\n",
       " 'Mobile Phone Shop',\n",
       " 'Rental Car Location',\n",
       " 'Dessert Shop',\n",
       " 'Burrito Place',\n",
       " 'Intersection',\n",
       " 'Deli / Bodega',\n",
       " 'Convenience Store',\n",
       " 'Thai Restaurant',\n",
       " 'Cosmetics Shop',\n",
       " 'Donut Shop',\n",
       " 'Diner',\n",
       " 'Burger Joint',\n",
       " 'Playground',\n",
       " 'State / Provincial Park',\n",
       " 'Vegetarian / Vegan Restaurant',\n",
       " 'Skate Park',\n",
       " 'Comic Shop',\n",
       " 'Gymnastics Gym',\n",
       " 'Pizza Place',\n",
       " 'Modern European Restaurant',\n",
       " 'Concert Hall',\n",
       " 'Health & Beauty Service',\n",
       " 'Hardware Store',\n",
       " 'Salon / Barbershop',\n",
       " 'Cajun / Creole Restaurant',\n",
       " 'Vietnamese Restaurant',\n",
       " 'Fried Chicken Joint',\n",
       " 'Coffee Shop',\n",
       " 'Yoga Studio',\n",
       " 'New American Restaurant',\n",
       " 'Gastropub',\n",
       " 'Boutique',\n",
       " 'Clothing Store',\n",
       " 'Falafel Restaurant',\n",
       " 'Sandwich Place',\n",
       " 'Music Venue',\n",
       " 'Athletics & Sports',\n",
       " 'Sushi Restaurant',\n",
       " 'Bar',\n",
       " 'Breakfast Spot',\n",
       " 'Shopping Mall',\n",
       " 'Kids Store',\n",
       " 'Fast Food Restaurant',\n",
       " 'Park',\n",
       " 'Moroccan Restaurant',\n",
       " 'Shipping Store',\n",
       " 'Grocery Store']"
      ]
     },
     "execution_count": 82,
     "metadata": {},
     "output_type": "execute_result"
    }
   ],
   "source": [
    "V=list(set(Venues.copy()))\n",
    "#len(V) #80\n",
    "V"
   ]
  },
  {
   "cell_type": "markdown",
   "metadata": {},
   "source": [
    "It is clear that there are different kinds of restaurants which could be grouped in a higher-order category, such as \"RESTAURANT\". The same happens for other categories. Thereafter, we build new \"general\" categories (simplifies cluster data characteristics visualization). "
   ]
  },
  {
   "cell_type": "code",
   "execution_count": 83,
   "metadata": {},
   "outputs": [],
   "source": [
    "#New categories\n",
    "restaurant=[]\n",
    "coffee=[]\n",
    "park=[]\n",
    "beauty_and_health=[]\n",
    "sports=[]\n",
    "entertainment=[]\n",
    "shops=[]\n",
    "night_life=[]\n",
    "services=[]\n",
    "others=[]\n",
    "\n",
    "#Words in previous venues categories names that will be used for grouping (with this code, it was\n",
    "#neccesary to check that each venue category was grouped in just one higher-order new category)\n",
    "matches_r =['Restaurant' , 'Pizza' , 'Hot Dog', 'Diner', 'Burger', 'Fried', 'Sandwich', 'Steakhouse']\n",
    "matches_c =['Breakfast' , 'Donut' , 'Coffee' , 'Café', 'Juice', 'Dessert', 'Bakery']\n",
    "matches_p =['Park']\n",
    "matches_bh =['Cosmetics' , 'Massage' , 'Health', 'Salon']\n",
    "matches_e =['Movie' , 'Concert', 'Music']\n",
    "matches_sp =['Gym' , 'Athletics', 'Swim', 'Dance', 'Trail']\n",
    "matches_sh =['Store', 'Market', 'Mobile', 'Mall', 'Automotive', 'Shop & Service','Sporting', 'Comic']\n",
    "matches_sv =['Office', 'Rental', 'Facility', 'Gas Station', 'Pharmacy', 'Bank', 'Hotel']\n",
    "matches_nl =['pub', 'Night']\n",
    "\n",
    "#Code for grouping. If a given venue category name matches any of the names corresponding to the new \n",
    "#higher-order category, then it is added to that list\n",
    "for i in range(len(V)-1):\n",
    "    for substring in matches_r:\n",
    "        if substring in V[i]:\n",
    "            restaurant.append(V[i])\n",
    "    for substring in matches_c:\n",
    "        if substring in V[i]:\n",
    "            coffee.append(V[i])\n",
    "    for substring in matches_p:\n",
    "        if substring in V[i]:\n",
    "            park.append(V[i])\n",
    "    for substring in matches_bh:\n",
    "        if substring in V[i]:\n",
    "            beauty_and_health.append(V[i])\n",
    "    for substring in matches_e:\n",
    "        if substring in V[i]:\n",
    "            entertainment.append(V[i])\n",
    "    for substring in matches_sp:\n",
    "        if substring in V[i]:\n",
    "            sports.append(V[i])\n",
    "    for substring in matches_sh:\n",
    "        if substring in V[i]:\n",
    "            shops.append(V[i])\n",
    "    for substring in matches_sv:\n",
    "        if substring in V[i]:\n",
    "            services.append(V[i])\n",
    "    for substring in matches_nl:\n",
    "        if substring in V[i]:\n",
    "            night_life.append(V[i])\n",
    "            \n",
    "#\"others\" new category is built by substraction (remaining category names not assigned to any new cat.)\n",
    "#----\n",
    "biggerlist=[]\n",
    "\n",
    "for i in restaurant:\n",
    "    biggerlist.append(i)\n",
    "for i in coffee:\n",
    "    biggerlist.append(i)\n",
    "for i in park:\n",
    "    biggerlist.append(i)\n",
    "for i in beauty_and_health:\n",
    "    biggerlist.append(i)\n",
    "for i in entertainment:\n",
    "    biggerlist.append(i)\n",
    "for i in sports:\n",
    "    biggerlist.append(i)\n",
    "for i in shops:\n",
    "    biggerlist.append(i)\n",
    "for i in services:\n",
    "    biggerlist.append(i)\n",
    "for i in night_life:\n",
    "    biggerlist.append(i)\n",
    "for j in biggerlist:\n",
    "    for i in V:\n",
    "        if j == i:\n",
    "            V.remove(i)\n",
    "for i in V:\n",
    "    others.append(i)\n"
   ]
  },
  {
   "cell_type": "code",
   "execution_count": 84,
   "metadata": {},
   "outputs": [
    {
     "data": {
      "text/html": [
       "<div>\n",
       "<style scoped>\n",
       "    .dataframe tbody tr th:only-of-type {\n",
       "        vertical-align: middle;\n",
       "    }\n",
       "\n",
       "    .dataframe tbody tr th {\n",
       "        vertical-align: top;\n",
       "    }\n",
       "\n",
       "    .dataframe thead th {\n",
       "        text-align: right;\n",
       "    }\n",
       "</style>\n",
       "<table border=\"1\" class=\"dataframe\">\n",
       "  <thead>\n",
       "    <tr style=\"text-align: right;\">\n",
       "      <th></th>\n",
       "      <th>Cluster Labels</th>\n",
       "      <th>City</th>\n",
       "      <th>American Restaurant</th>\n",
       "      <th>Athletics &amp; Sports</th>\n",
       "      <th>Automotive Shop</th>\n",
       "      <th>Bank</th>\n",
       "      <th>Bar</th>\n",
       "      <th>Boutique</th>\n",
       "      <th>Bowling Alley</th>\n",
       "      <th>Breakfast Spot</th>\n",
       "      <th>...</th>\n",
       "      <th>State / Provincial Park</th>\n",
       "      <th>Steakhouse</th>\n",
       "      <th>Storage Facility</th>\n",
       "      <th>Sushi Restaurant</th>\n",
       "      <th>Thai Restaurant</th>\n",
       "      <th>Trail</th>\n",
       "      <th>Vegetarian / Vegan Restaurant</th>\n",
       "      <th>Video Store</th>\n",
       "      <th>Vietnamese Restaurant</th>\n",
       "      <th>Yoga Studio</th>\n",
       "    </tr>\n",
       "  </thead>\n",
       "  <tbody>\n",
       "    <tr>\n",
       "      <th>0</th>\n",
       "      <td>1</td>\n",
       "      <td>Bakersfield</td>\n",
       "      <td>0.000000</td>\n",
       "      <td>0.0</td>\n",
       "      <td>0.000000</td>\n",
       "      <td>0.0</td>\n",
       "      <td>0.0</td>\n",
       "      <td>0.0</td>\n",
       "      <td>0.0</td>\n",
       "      <td>0.000000</td>\n",
       "      <td>...</td>\n",
       "      <td>0.0</td>\n",
       "      <td>0.00</td>\n",
       "      <td>0.000000</td>\n",
       "      <td>0.000000</td>\n",
       "      <td>0.000000</td>\n",
       "      <td>0.0</td>\n",
       "      <td>0.000000</td>\n",
       "      <td>0.0</td>\n",
       "      <td>0.0</td>\n",
       "      <td>0.000000</td>\n",
       "    </tr>\n",
       "    <tr>\n",
       "      <th>1</th>\n",
       "      <td>1</td>\n",
       "      <td>Fresno</td>\n",
       "      <td>0.000000</td>\n",
       "      <td>0.0</td>\n",
       "      <td>0.000000</td>\n",
       "      <td>0.0</td>\n",
       "      <td>0.0</td>\n",
       "      <td>0.0</td>\n",
       "      <td>0.0</td>\n",
       "      <td>0.050000</td>\n",
       "      <td>...</td>\n",
       "      <td>0.0</td>\n",
       "      <td>0.05</td>\n",
       "      <td>0.000000</td>\n",
       "      <td>0.000000</td>\n",
       "      <td>0.000000</td>\n",
       "      <td>0.0</td>\n",
       "      <td>0.000000</td>\n",
       "      <td>0.0</td>\n",
       "      <td>0.0</td>\n",
       "      <td>0.000000</td>\n",
       "    </tr>\n",
       "    <tr>\n",
       "      <th>2</th>\n",
       "      <td>1</td>\n",
       "      <td>Los Angeles</td>\n",
       "      <td>0.000000</td>\n",
       "      <td>0.0</td>\n",
       "      <td>0.000000</td>\n",
       "      <td>0.0</td>\n",
       "      <td>0.0</td>\n",
       "      <td>0.0</td>\n",
       "      <td>0.0</td>\n",
       "      <td>0.000000</td>\n",
       "      <td>...</td>\n",
       "      <td>0.0</td>\n",
       "      <td>0.00</td>\n",
       "      <td>0.000000</td>\n",
       "      <td>0.000000</td>\n",
       "      <td>0.000000</td>\n",
       "      <td>0.5</td>\n",
       "      <td>0.000000</td>\n",
       "      <td>0.0</td>\n",
       "      <td>0.0</td>\n",
       "      <td>0.000000</td>\n",
       "    </tr>\n",
       "    <tr>\n",
       "      <th>3</th>\n",
       "      <td>0</td>\n",
       "      <td>Oakland</td>\n",
       "      <td>0.000000</td>\n",
       "      <td>0.0</td>\n",
       "      <td>0.000000</td>\n",
       "      <td>0.0</td>\n",
       "      <td>0.0</td>\n",
       "      <td>0.0</td>\n",
       "      <td>0.0</td>\n",
       "      <td>0.000000</td>\n",
       "      <td>...</td>\n",
       "      <td>0.0</td>\n",
       "      <td>0.00</td>\n",
       "      <td>0.000000</td>\n",
       "      <td>0.000000</td>\n",
       "      <td>0.055556</td>\n",
       "      <td>0.0</td>\n",
       "      <td>0.055556</td>\n",
       "      <td>0.0</td>\n",
       "      <td>0.0</td>\n",
       "      <td>0.055556</td>\n",
       "    </tr>\n",
       "    <tr>\n",
       "      <th>4</th>\n",
       "      <td>0</td>\n",
       "      <td>Redding</td>\n",
       "      <td>0.133333</td>\n",
       "      <td>0.0</td>\n",
       "      <td>0.066667</td>\n",
       "      <td>0.0</td>\n",
       "      <td>0.0</td>\n",
       "      <td>0.0</td>\n",
       "      <td>0.0</td>\n",
       "      <td>0.066667</td>\n",
       "      <td>...</td>\n",
       "      <td>0.0</td>\n",
       "      <td>0.00</td>\n",
       "      <td>0.066667</td>\n",
       "      <td>0.066667</td>\n",
       "      <td>0.000000</td>\n",
       "      <td>0.0</td>\n",
       "      <td>0.000000</td>\n",
       "      <td>0.0</td>\n",
       "      <td>0.0</td>\n",
       "      <td>0.000000</td>\n",
       "    </tr>\n",
       "  </tbody>\n",
       "</table>\n",
       "<p>5 rows × 78 columns</p>\n",
       "</div>"
      ],
      "text/plain": [
       "   Cluster Labels         City  American Restaurant  Athletics & Sports  \\\n",
       "0               1  Bakersfield             0.000000                 0.0   \n",
       "1               1       Fresno             0.000000                 0.0   \n",
       "2               1  Los Angeles             0.000000                 0.0   \n",
       "3               0      Oakland             0.000000                 0.0   \n",
       "4               0      Redding             0.133333                 0.0   \n",
       "\n",
       "   Automotive Shop  Bank  Bar  Boutique  Bowling Alley  Breakfast Spot  ...  \\\n",
       "0         0.000000   0.0  0.0       0.0            0.0        0.000000  ...   \n",
       "1         0.000000   0.0  0.0       0.0            0.0        0.050000  ...   \n",
       "2         0.000000   0.0  0.0       0.0            0.0        0.000000  ...   \n",
       "3         0.000000   0.0  0.0       0.0            0.0        0.000000  ...   \n",
       "4         0.066667   0.0  0.0       0.0            0.0        0.066667  ...   \n",
       "\n",
       "   State / Provincial Park  Steakhouse  Storage Facility  Sushi Restaurant  \\\n",
       "0                      0.0        0.00          0.000000          0.000000   \n",
       "1                      0.0        0.05          0.000000          0.000000   \n",
       "2                      0.0        0.00          0.000000          0.000000   \n",
       "3                      0.0        0.00          0.000000          0.000000   \n",
       "4                      0.0        0.00          0.066667          0.066667   \n",
       "\n",
       "   Thai Restaurant  Trail  Vegetarian / Vegan Restaurant  Video Store  \\\n",
       "0         0.000000    0.0                       0.000000          0.0   \n",
       "1         0.000000    0.0                       0.000000          0.0   \n",
       "2         0.000000    0.5                       0.000000          0.0   \n",
       "3         0.055556    0.0                       0.055556          0.0   \n",
       "4         0.000000    0.0                       0.000000          0.0   \n",
       "\n",
       "   Vietnamese Restaurant  Yoga Studio  \n",
       "0                    0.0     0.000000  \n",
       "1                    0.0     0.000000  \n",
       "2                    0.0     0.000000  \n",
       "3                    0.0     0.055556  \n",
       "4                    0.0     0.000000  \n",
       "\n",
       "[5 rows x 78 columns]"
      ]
     },
     "execution_count": 84,
     "metadata": {},
     "output_type": "execute_result"
    }
   ],
   "source": [
    "# This is the dataframe containing the cluster labels, city names, and all venues category names (which are\n",
    "#going to be regrouped/recategorized)\n",
    "new_cat=cal_grouped.copy()\n",
    "new_cat.insert(0, 'Cluster Labels', kmeans.labels_)\n",
    "new_cat.head()"
   ]
  },
  {
   "cell_type": "markdown",
   "metadata": {},
   "source": [
    "create a DF containing grouped-category data for each city"
   ]
  },
  {
   "cell_type": "code",
   "execution_count": 85,
   "metadata": {},
   "outputs": [
    {
     "data": {
      "text/html": [
       "<div>\n",
       "<style scoped>\n",
       "    .dataframe tbody tr th:only-of-type {\n",
       "        vertical-align: middle;\n",
       "    }\n",
       "\n",
       "    .dataframe tbody tr th {\n",
       "        vertical-align: top;\n",
       "    }\n",
       "\n",
       "    .dataframe thead th {\n",
       "        text-align: right;\n",
       "    }\n",
       "</style>\n",
       "<table border=\"1\" class=\"dataframe\">\n",
       "  <thead>\n",
       "    <tr style=\"text-align: right;\">\n",
       "      <th></th>\n",
       "      <th>Cluster Labels</th>\n",
       "      <th>Restaurant</th>\n",
       "      <th>Coffee</th>\n",
       "      <th>Park_</th>\n",
       "      <th>Beauty &amp;\\n Health</th>\n",
       "      <th>Sports</th>\n",
       "      <th>Entertainment</th>\n",
       "      <th>Shops</th>\n",
       "      <th>Night Life</th>\n",
       "      <th>Services</th>\n",
       "      <th>Others</th>\n",
       "    </tr>\n",
       "  </thead>\n",
       "  <tbody>\n",
       "    <tr>\n",
       "      <th>0</th>\n",
       "      <td>1</td>\n",
       "      <td>0.75</td>\n",
       "      <td>0</td>\n",
       "      <td>0</td>\n",
       "      <td>0.25</td>\n",
       "      <td>0</td>\n",
       "      <td>0</td>\n",
       "      <td>0</td>\n",
       "      <td>0</td>\n",
       "      <td>0</td>\n",
       "      <td>0</td>\n",
       "    </tr>\n",
       "    <tr>\n",
       "      <th>1</th>\n",
       "      <td>1</td>\n",
       "      <td>0.55</td>\n",
       "      <td>0.15</td>\n",
       "      <td>0</td>\n",
       "      <td>0.05</td>\n",
       "      <td>0</td>\n",
       "      <td>0.05</td>\n",
       "      <td>0.2</td>\n",
       "      <td>0</td>\n",
       "      <td>0</td>\n",
       "      <td>0</td>\n",
       "    </tr>\n",
       "    <tr>\n",
       "      <th>2</th>\n",
       "      <td>1</td>\n",
       "      <td>0</td>\n",
       "      <td>0</td>\n",
       "      <td>0</td>\n",
       "      <td>0</td>\n",
       "      <td>0.5</td>\n",
       "      <td>0</td>\n",
       "      <td>0</td>\n",
       "      <td>0</td>\n",
       "      <td>0</td>\n",
       "      <td>0.5</td>\n",
       "    </tr>\n",
       "    <tr>\n",
       "      <th>3</th>\n",
       "      <td>0</td>\n",
       "      <td>0.388889</td>\n",
       "      <td>0.111111</td>\n",
       "      <td>0</td>\n",
       "      <td>0</td>\n",
       "      <td>0.111111</td>\n",
       "      <td>0</td>\n",
       "      <td>0.166667</td>\n",
       "      <td>0</td>\n",
       "      <td>0.0555556</td>\n",
       "      <td>0.166667</td>\n",
       "    </tr>\n",
       "    <tr>\n",
       "      <th>4</th>\n",
       "      <td>0</td>\n",
       "      <td>0.466667</td>\n",
       "      <td>0.133333</td>\n",
       "      <td>0</td>\n",
       "      <td>0</td>\n",
       "      <td>0</td>\n",
       "      <td>0</td>\n",
       "      <td>0.0666667</td>\n",
       "      <td>0</td>\n",
       "      <td>0.2</td>\n",
       "      <td>0.133333</td>\n",
       "    </tr>\n",
       "    <tr>\n",
       "      <th>5</th>\n",
       "      <td>1</td>\n",
       "      <td>0</td>\n",
       "      <td>0</td>\n",
       "      <td>0</td>\n",
       "      <td>0</td>\n",
       "      <td>0</td>\n",
       "      <td>0</td>\n",
       "      <td>1</td>\n",
       "      <td>0</td>\n",
       "      <td>0</td>\n",
       "      <td>0</td>\n",
       "    </tr>\n",
       "    <tr>\n",
       "      <th>6</th>\n",
       "      <td>1</td>\n",
       "      <td>0.44186</td>\n",
       "      <td>0.139535</td>\n",
       "      <td>0.0465116</td>\n",
       "      <td>0.0465116</td>\n",
       "      <td>0.0232558</td>\n",
       "      <td>0.0232558</td>\n",
       "      <td>0.0465116</td>\n",
       "      <td>0.0465116</td>\n",
       "      <td>0.0697674</td>\n",
       "      <td>0.116279</td>\n",
       "    </tr>\n",
       "    <tr>\n",
       "      <th>7</th>\n",
       "      <td>1</td>\n",
       "      <td>0.8</td>\n",
       "      <td>0</td>\n",
       "      <td>0</td>\n",
       "      <td>0</td>\n",
       "      <td>0</td>\n",
       "      <td>0</td>\n",
       "      <td>0.2</td>\n",
       "      <td>0</td>\n",
       "      <td>0</td>\n",
       "      <td>0</td>\n",
       "    </tr>\n",
       "    <tr>\n",
       "      <th>8</th>\n",
       "      <td>1</td>\n",
       "      <td>0.25</td>\n",
       "      <td>0</td>\n",
       "      <td>0</td>\n",
       "      <td>0</td>\n",
       "      <td>0.25</td>\n",
       "      <td>0</td>\n",
       "      <td>0.25</td>\n",
       "      <td>0</td>\n",
       "      <td>0</td>\n",
       "      <td>0.25</td>\n",
       "    </tr>\n",
       "    <tr>\n",
       "      <th>9</th>\n",
       "      <td>0</td>\n",
       "      <td>0.25</td>\n",
       "      <td>0</td>\n",
       "      <td>0</td>\n",
       "      <td>0</td>\n",
       "      <td>0.25</td>\n",
       "      <td>0</td>\n",
       "      <td>0.25</td>\n",
       "      <td>0</td>\n",
       "      <td>0</td>\n",
       "      <td>0.25</td>\n",
       "    </tr>\n",
       "    <tr>\n",
       "      <th>10</th>\n",
       "      <td>0</td>\n",
       "      <td>0.25</td>\n",
       "      <td>0</td>\n",
       "      <td>0.125</td>\n",
       "      <td>0</td>\n",
       "      <td>0</td>\n",
       "      <td>0.25</td>\n",
       "      <td>0.125</td>\n",
       "      <td>0</td>\n",
       "      <td>0</td>\n",
       "      <td>0.25</td>\n",
       "    </tr>\n",
       "    <tr>\n",
       "      <th>11</th>\n",
       "      <td>0</td>\n",
       "      <td>0</td>\n",
       "      <td>0</td>\n",
       "      <td>0</td>\n",
       "      <td>0</td>\n",
       "      <td>0</td>\n",
       "      <td>0</td>\n",
       "      <td>0</td>\n",
       "      <td>0</td>\n",
       "      <td>0</td>\n",
       "      <td>1</td>\n",
       "    </tr>\n",
       "  </tbody>\n",
       "</table>\n",
       "</div>"
      ],
      "text/plain": [
       "    Cluster Labels Restaurant    Coffee      Park_ Beauty &\\n Health  \\\n",
       "0                1       0.75         0          0              0.25   \n",
       "1                1       0.55      0.15          0              0.05   \n",
       "2                1          0         0          0                 0   \n",
       "3                0   0.388889  0.111111          0                 0   \n",
       "4                0   0.466667  0.133333          0                 0   \n",
       "5                1          0         0          0                 0   \n",
       "6                1    0.44186  0.139535  0.0465116         0.0465116   \n",
       "7                1        0.8         0          0                 0   \n",
       "8                1       0.25         0          0                 0   \n",
       "9                0       0.25         0          0                 0   \n",
       "10               0       0.25         0      0.125                 0   \n",
       "11               0          0         0          0                 0   \n",
       "\n",
       "       Sports Entertainment      Shops Night Life   Services    Others  \n",
       "0           0             0          0          0          0         0  \n",
       "1           0          0.05        0.2          0          0         0  \n",
       "2         0.5             0          0          0          0       0.5  \n",
       "3    0.111111             0   0.166667          0  0.0555556  0.166667  \n",
       "4           0             0  0.0666667          0        0.2  0.133333  \n",
       "5           0             0          1          0          0         0  \n",
       "6   0.0232558     0.0232558  0.0465116  0.0465116  0.0697674  0.116279  \n",
       "7           0             0        0.2          0          0         0  \n",
       "8        0.25             0       0.25          0          0      0.25  \n",
       "9        0.25             0       0.25          0          0      0.25  \n",
       "10          0          0.25      0.125          0          0      0.25  \n",
       "11          0             0          0          0          0         1  "
      ]
     },
     "execution_count": 85,
     "metadata": {},
     "output_type": "execute_result"
    }
   ],
   "source": [
    "NC=new_cat.transpose() # transpose dataframe in order to select rows with .loc\n",
    "\n",
    "# intermediate dataframes, each with data of all the venue categories in the high-order category \n",
    "#(eg: restaurant)\n",
    "NC_R=NC.loc[restaurant]\n",
    "NC_C=NC.loc[coffee]\n",
    "NC_BH=NC.loc[beauty_and_health]\n",
    "NC_SP=NC.loc[sports]\n",
    "NC_E=NC.loc[entertainment]\n",
    "NC_SH=NC.loc[shops]\n",
    "NC_NL=NC.loc[night_life]\n",
    "NC_SV=NC.loc[services]\n",
    "NC_O=NC.loc[others]\n",
    "NC_P=NC.loc[park]\n",
    "\n",
    "# For each intermediate dataframe, sum the values of rows for each column, and create new row with this data\n",
    "#(eg: 'Restaurant'). A new row named 'Restaurant' will be added to the dataframe, and will contain the total\n",
    "# sum for each city (that since the dataframe was transposed, cities are columns)\n",
    "NC_R.loc['Restaurant',:]= NC_R.sum(axis=0)\n",
    "NC_C.loc['Coffee',:]= NC_C.sum(axis=0)\n",
    "NC_BH.loc['Beauty &\\n Health',:]= NC_BH.sum(axis=0)\n",
    "NC_SP.loc['Sports',:]= NC_SP.sum(axis=0)\n",
    "NC_E.loc['Entertainment',:]= NC_E.sum(axis=0)\n",
    "NC_SH.loc['Shops',:]= NC_SH.sum(axis=0)\n",
    "NC_NL.loc['Night Life',:]= NC_NL.sum(axis=0)\n",
    "NC_SV.loc['Services',:]= NC_SV.sum(axis=0)\n",
    "NC_O.loc['Others',:]= NC_O.sum(axis=0)\n",
    "NC_P.loc['Park_',:]= NC_P.sum(axis=0)\n",
    "\n",
    "# select (for each intermediate df: 'Restaurant',''Coffee', etc), the row that contains data which is a sum \n",
    "#of all the similar categories (the total sum of each column)\n",
    "# all these are series type\n",
    "R=NC_R.loc['Restaurant']\n",
    "C=NC_C.loc['Coffee']\n",
    "BH=NC_BH.loc['Beauty &\\n Health']\n",
    "SP=NC_SP.loc['Sports']\n",
    "E=NC_E.loc['Entertainment']\n",
    "SH=NC_SH.loc['Shops']\n",
    "NL=NC_NL.loc['Night Life']\n",
    "SV=NC_SV.loc['Services']\n",
    "O=NC_O.loc['Others']\n",
    "P=NC_P.loc['Park_']\n",
    "\n",
    "# concatenate results (for each high-order category) to the df containing cluster labels and city names\n",
    "result = pd.concat([new_cat, R, C, BH, SP, E, SH, NL, SV, O, P], axis=1)\n",
    "result=result[['Cluster Labels','Restaurant','Coffee','Park_','Beauty &\\n Health', 'Sports', 'Entertainment', 'Shops', 'Night Life', 'Services', 'Others']]\n",
    "result\n",
    "\n",
    "#check=result[['Restaurant','Coffee','Park','Beauty_and_Health', 'Sports', 'Entertainment', 'Shops', 'Night Life', 'Services', 'Others']]\n",
    "#chec=check.sum(axis=1)\n",
    "#LEN=len(restaurant)+len(others)+len(sports)+len(coffee)+len(park)+len(beauty_and_health)+len(entertainment)+len(shops)+len(night_life)+len(services)\n"
   ]
  },
  {
   "cell_type": "markdown",
   "metadata": {},
   "source": [
    "Analysis of venues categories proportion in each cluster"
   ]
  },
  {
   "cell_type": "code",
   "execution_count": 86,
   "metadata": {},
   "outputs": [
    {
     "data": {
      "text/plain": [
       "Text(0.5, 0, 'CATEGORY')"
      ]
     },
     "execution_count": 86,
     "metadata": {},
     "output_type": "execute_result"
    },
    {
     "data": {
      "image/png": "[encoded data removed]",
      "text/plain": [
       "<Figure size 864x432 with 1 Axes>"
      ]
     },
     "metadata": {
      "needs_background": "light"
     },
     "output_type": "display_data"
    }
   ],
   "source": [
    "#GRAPH STYLING\n",
    "SMALL_SIZE = 13\n",
    "MEDIUM_SIZE = 14\n",
    "BIGGER_SIZE = 18\n",
    "plt.rc('font', size=SMALL_SIZE)          # controls default text sizes\n",
    "plt.rc('axes', titlesize=SMALL_SIZE)     # fontsize of the axes title\n",
    "plt.rc('axes', labelsize=MEDIUM_SIZE)    # fontsize of the x and y labels\n",
    "plt.rc('xtick', labelsize=MEDIUM_SIZE)    # fontsize of the tick labels\n",
    "plt.rc('ytick', labelsize=MEDIUM_SIZE)    # fontsize of the tick labels\n",
    "plt.rc('legend', fontsize=SMALL_SIZE)    # legend fontsize\n",
    "\n",
    "\n",
    "#PLOT GRAPH\n",
    "fig, ax = plt.subplots(figsize=(12,6)) #size\n",
    "\n",
    "df_long = pd.melt(result, \"Cluster Labels\", var_name=\"Category\", value_name=\"%\")\n",
    "\n",
    "j=sns.boxplot(x=\"Category\", y=\"%\", hue=\"Cluster Labels\", data=df_long, palette=\"Set1\") #boxplot\n",
    "s=sns.stripplot(x=\"Category\", y=\"%\", hue=\"Cluster Labels\", data=df_long,dodge=True, size= 6, edgecolor='black',palette=\"Pastel1\",linewidth=1)#stripplot (to see individual vlues)\n",
    "plt.setp(j.get_xticklabels(), rotation=20) #rotate xtick labels\n",
    "\n",
    "# set title and axis labels\n",
    "j.set_title('VENUES GROUPED-CATEGORIES', fontsize=20)\n",
    "j.set_ylabel('FREQUENCY')\n",
    "j.set_xlabel('CATEGORY')"
   ]
  },
  {
   "cell_type": "markdown",
   "metadata": {},
   "source": [
    "Overall, no big differences were observed between clusters when the different high-order categories were analyzed. Cluster 0 showed more *shops* than cluster 1. More data should be considered if this analysis were repeated for statistical analysis."
   ]
  },
  {
   "cell_type": "markdown",
   "metadata": {},
   "source": [
    "# Number of parks correlation to Air Quality data, within each cluster\n",
    "The idea behind this analysis was to determine if there was a correlation between either of the clusters air quality data and the number of parks. Nonetheless, it seems that the parks data obtained from Foursquare (at least with this user version) does not thoroughly explore \"real\" data, as 0 parks were obtained for all the cities except for Sacramento (_there was also a venue that belonged to 'park' in cluster 1, but this was a 'Skate park' and was therefore dismissed_)"
   ]
  },
  {
   "cell_type": "markdown",
   "metadata": {},
   "source": [
    "** **IN CONCLUSION: No further analysis related to parks could be performed.**\n",
    "__________________\n"
   ]
  },
  {
   "cell_type": "markdown",
   "metadata": {},
   "source": [
    "---------\n",
    "# RESULTS:\n",
    "\n",
    "_**The objective of this project was to analyze California cities contamination and determine whether the percentaje of parks (relative to all venues in each city) within each cluster had a relation with the air quality data. If that had been the case, then it would be worthwile studying whether parks construction might be a good alternative to mitigate contamination**_\n",
    "\n",
    "Firstly, data was collected from different sources and briefly analyzed. \n",
    "It was expected that population density could be an indirect indicator of poor air quality in the different Californian cities, as it might be correlated to increased transit, vehicles, etc.\n",
    "Contrary to what it was speculated, **<span style=\"text-decoration: underline\">there was no clear correlation between population density and air quality in neither of the air quality categories. </span>** For that reason, population density was excluded from the clustering analysis. \n",
    "\n",
    "**<span style=\"text-decoration: underline\">k-means clustering was used to group cities according to their air quality data </span>** (a k value of 2 was determined by the elbow method), and cities from each cluster were superimposed on the California state map.\n",
    "\n",
    "Cluster characterization demonstrated that **<span style=\"text-decoration: underline\">the mean population density between each cluster was similar.</span>**\n",
    "\n",
    "Despite differences were not statistically different, **<span style=\"text-decoration: underline\">the mean latitude for cities in cluser 0 was higher than the mean latitude from cluster 1.</span>**\n",
    "\n",
    "Air quality data included the number of days with good(G), moderate(M), Unhealthy for sensitive groups(USG), unhealthy(U) or very unhealthy(VU) categories of air quality. It was expressed as the percentaje of days each city had, in each of these categories.\n",
    "This information was plotted as boxplots, and our results clearly indicated that **<span style=\"text-decoration: underline\">cluster \"0\" had less overall contamination than cluster \"1\".</span>**\n",
    "Additionally, colour-coded markers were used for each value in the boxplots, where yellow indicated high population density cities and black indicated low population density cities. **<span style=\"text-decoration: underline\">No clear correlation was observed between air quality and population density in neither of the categories of each cluster.</span>**\n",
    "\n",
    "In order to compare venues characteristics in each cluster, higher-order categories were created. As an example: 'Mexican Restaurant' - 'Sushi Restaurant'- 'Chinese Restaurant'- 'Moroccan Restaurant', etc were included in a new 'RESTAURANT' category. \n",
    "As a consequence, **<span style=\"text-decoration: underline\">venues data from each city was recategorized into 10 categories</span>** (instead of 80 different, which were the ones originally present in our Fourthsquare data).\n",
    "**<span style=\"text-decoration: underline\">Venues high-order categories comparison between each cluster indicated that both clusters were similar,</span>** except for 'SHOPS', as cluster 0 had a higher proportion of venues in this category than cluster 1.\n",
    "\n",
    "Finally, since the idea behind this analysis was to determine if there was a correlation between either of the clusters air quality data and the number of parks, 'PARKS' high-order category was analyzed. \n",
    "Unfortunately, it seems that the **<span style=\"text-decoration: underline\">parks data obtained from Foursquare</span>** (at least with this user version) **<span style=\"text-decoration: underline\">does not thoroughly explore \"real\" data, as 0 parks were obtained for all the cities except for Sacramento</span>** (there was also a venue that belonged to 'park' in cluster 1, but this was a 'Skate park' and was therefore dismissed). In this respect, **<span style=\"text-decoration: underline\">no further analysis could be performed.</span>**"
   ]
  },
  {
   "cell_type": "markdown",
   "metadata": {},
   "source": [
    "# DISCUSSION and CONCLUSION:"
   ]
  },
  {
   "cell_type": "markdown",
   "metadata": {},
   "source": [
    "Our analysis allowed the identification of 2 clusters which differed mainly in the extent of air pollution. Cities in cluster 0, which are mainly located at higher latitudes than cities in cluster1, have a higher proportion of 'Good' air quality days. Population density was a factor that did not seem to affect air quality, and venues charateristics were similar for both clusters.\n",
    "\n",
    "Unfortunately, the number (or proportion) of parks in each cluster and its relation to air quality could not be studied in the present analysis due to insufficient data.\n",
    "It would be worthwhile to perform a more detailed analysis in the future with a larger set of Californian cities."
   ]
  },
  {
   "cell_type": "markdown",
   "metadata": {},
   "source": [
    "\n",
    "________________\n",
    "\n",
    "\n",
    "\n",
    "\n",
    "* **<span style=\"text-decoration: underline\">References</span>**\n",
    "\n",
    "[1] https://www.epa.gov/outdoor-air-quality-data/air-quality-index-report\n",
    "\n",
    "[2] California State University (CSU) Chancellor's Office. (2017, June 19). California named state with the worst air quality (again). ScienceDaily. Retrieved January 4, 2021 from www.sciencedaily.com/releases/2017/06/170619092749.htm\n",
    "\n",
    "[3] https://en.wikipedia.org/wiki/Pollution_in_California\n",
    "\n",
    "[4] Genc S, Zadeoglulari Z, Fuss SH, Genc K. The adverse effects of air pollution on the nervous system. J Toxicol. 2012;2012:782462. doi:10.1155/2012/782462\n",
    "\n",
    "[5] Holgate ST. 'Every breath we take: the lifelong impact of air pollution' - a call for action. Clin Med (Lond). 2017 Feb;17(1):8-12. doi: 10.7861/clinmedicine.17-1-8. PMID: 28148571; PMCID: PMC6297602.\n",
    "\n",
    "[6] https://www.niehs.nih.gov/health/topics/agents/air-pollution/index.cfm\n",
    "\n",
    "[7] Zhao S, Liu S, Hou X, Sun Y, Beazley R. Air pollution and cause-specific mortality: A comparative study of urban and rural areas in China. Chemosphere. 2021 Jan;262:127884. doi: 10.1016/j.chemosphere.2020.127884. Epub 2020 Aug 11. PMID: 33182102.\n",
    "\n",
    "[8] Borck, Rainald; Schrauth, Philipp (2020). Population density and urban air quality. Regional Science and Urban Economics, (), 103596–. doi:10.1016/j.regsciurbeco.2020.103596 \n",
    "\n",
    "[9] https://en.wikipedia.org/wiki/List_of_largest_California_cities_by_population\n",
    "\n",
    "[10] https://en.wikipedia.org/wiki/List_of_largest_California_cities_by_land_area\n",
    "\n",
    "[11] www.kaggle.com/camnugent/california-housing-feature-engineering?select=cal_cities_lat_long.csv\n",
    "\n"
   ]
  }
 ],
 "metadata": {
  "kernelspec": {
   "display_name": "Python 3",
   "language": "python",
   "name": "python3"
  },
  "language_info": {
   "codemirror_mode": {
    "name": "ipython",
    "version": 3
   },
   "file_extension": ".py",
   "mimetype": "text/x-python",
   "name": "python",
   "nbconvert_exporter": "python",
   "pygments_lexer": "ipython3",
   "version": "3.7.4"
  }
 },
 "nbformat": 4,
 "nbformat_minor": 4
}
